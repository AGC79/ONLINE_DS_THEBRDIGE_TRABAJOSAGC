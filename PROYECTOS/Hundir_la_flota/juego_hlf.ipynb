{
 "cells": [
  {
   "cell_type": "code",
   "execution_count": null,
   "id": "95f89094",
   "metadata": {},
   "outputs": [
    {
     "name": "stdout",
     "output_type": "stream",
     "text": [
      "[['_' '_' '_' '_' '_' '_' '_' '_' 'O' 'O']\n",
      " ['_' '_' 'O' 'O' 'O' '_' '_' '_' '_' '_']\n",
      " ['_' '_' '_' '_' '_' '_' '_' '_' '_' '_']\n",
      " ['_' '_' '_' '_' '_' '_' '_' '_' '_' '_']\n",
      " ['_' '_' 'O' '_' '_' '_' '_' '_' '_' '_']\n",
      " ['_' '_' 'O' 'O' '_' '_' '_' '_' '_' '_']\n",
      " ['_' '_' '_' 'O' '_' '_' '_' 'O' 'O' 'O']\n",
      " ['O' '_' '_' 'O' '_' '_' '_' '_' '_' '_']\n",
      " ['O' '_' '_' 'O' '_' '_' '_' '_' '_' '_']\n",
      " ['_' '_' '_' '_' '_' '_' '_' '_' '_' '_']]\n"
     ]
    }
   ],
   "source": [
    "### CREACIÓN DE TABLERO DE MANERA ALEATORIA PARA EL USUARIO\n",
    "\n",
    "import numpy as np\n",
    "import random\n",
    "\n",
    "tablero = np.full((10,10), \"_\")\n",
    "\n",
    "lista_barcos = [2, 2, 2, 3, 3, 4]\n",
    "\n",
    "for i in range(len(lista_barcos)):\n",
    "\n",
    "    max_columna_inicial = 10 - lista_barcos[i]\n",
    "    max_fila_inicial = 10 - lista_barcos[i]  \n",
    "    barco_colocado = False\n",
    "    \n",
    "    # Bucle que envuelve al resto y gestiona la condición de \n",
    "    while not barco_colocado:\n",
    "        orientacion = random.choice([\"horizontal\", \"vertical\"])\n",
    "        if orientacion == \"horizontal\":\n",
    "                fila_inicial = random.randint(0, 9) \n",
    "                columna_inicial = random.randint(0, max_columna_inicial) \n",
    "                casillas_libres = True\n",
    "                for j in range(lista_barcos[i]): \n",
    "                    if tablero[fila_inicial][columna_inicial + j] == \"O\": \n",
    "                        casillas_libres = False\n",
    "                        break\n",
    "                if casillas_libres:\n",
    "                    for y in range(lista_barcos[i]):\n",
    "                        tablero[fila_inicial][columna_inicial + y] = \"O\"\n",
    "                    barco_colocado = True\n",
    "        if orientacion == \"vertical\":\n",
    "                fila_inicial = random.randint(0, max_fila_inicial)  \n",
    "                columna_inicial = random.randint(0, 9) \n",
    "                casillas_libres = True\n",
    "                for x in range(lista_barcos[i]):\n",
    "                    if tablero[fila_inicial + x][columna_inicial] == \"O\":\n",
    "                        casillas_libres = False\n",
    "                        break\n",
    "                if casillas_libres:\n",
    "                    for z in range(lista_barcos[i]):\n",
    "                        tablero[fila_inicial + z][columna_inicial] = \"O\"\n",
    "                    barco_colocado = True\n",
    "\n",
    "print(tablero)"
   ]
  },
  {
   "cell_type": "code",
   "execution_count": 1162,
   "id": "2b6c56d1",
   "metadata": {},
   "outputs": [
    {
     "name": "stdout",
     "output_type": "stream",
     "text": [
      "[['_' '_' '_' '_' '_' '_' '_' '_' '_' '_']\n",
      " ['_' '_' '_' '_' '_' '_' '_' '_' '_' '_']\n",
      " ['_' '_' '_' '_' '_' '_' '_' '_' '_' '_']\n",
      " ['_' '_' '_' '_' '_' '_' '_' '_' '_' '_']\n",
      " ['_' '_' '_' '_' '_' '_' '_' '_' '_' '_']\n",
      " ['_' '_' '_' '_' '_' '_' '_' '_' '_' '_']\n",
      " ['_' '_' '_' '_' '_' '_' '_' '_' '_' '_']\n",
      " ['_' '_' '_' '_' '_' '_' '_' '_' '_' '_']\n",
      " ['_' '_' '_' '_' '_' '_' '_' '_' '_' '_']\n",
      " ['_' '_' '_' '_' '_' '_' '_' '_' '_' '_']]\n",
      "\n",
      "-------------------------------------------\n",
      "\n"
     ]
    },
    {
     "ename": "IndexError",
     "evalue": "list index out of range",
     "output_type": "error",
     "traceback": [
      "\u001b[31m---------------------------------------------------------------------------\u001b[39m",
      "\u001b[31mIndexError\u001b[39m                                Traceback (most recent call last)",
      "\u001b[36mCell\u001b[39m\u001b[36m \u001b[39m\u001b[32mIn[1162]\u001b[39m\u001b[32m, line 55\u001b[39m\n\u001b[32m     53\u001b[39m         tablero[lista_num[\u001b[32m2\u001b[39m]][lista_num[\u001b[32m3\u001b[39m]] = \u001b[33m\"\u001b[39m\u001b[33mO\u001b[39m\u001b[33m\"\u001b[39m\n\u001b[32m     54\u001b[39m         tablero[lista_num[\u001b[32m4\u001b[39m]][lista_num[\u001b[32m5\u001b[39m]] = \u001b[33m\"\u001b[39m\u001b[33mO\u001b[39m\u001b[33m\"\u001b[39m\n\u001b[32m---> \u001b[39m\u001b[32m55\u001b[39m         tablero[\u001b[43mlista_num\u001b[49m\u001b[43m[\u001b[49m\u001b[32;43m6\u001b[39;49m\u001b[43m]\u001b[49m][lista_num[\u001b[32m7\u001b[39m]] = \u001b[33m\"\u001b[39m\u001b[33mO\u001b[39m\u001b[33m\"\u001b[39m\n\u001b[32m     58\u001b[39m \u001b[38;5;28mprint\u001b[39m()\n\u001b[32m     59\u001b[39m \u001b[38;5;28mprint\u001b[39m(tablero)\n",
      "\u001b[31mIndexError\u001b[39m: list index out of range"
     ]
    }
   ],
   "source": [
    "### CREACIÓN DE TABLERO DE MANERA MANUAL PARA LA MÁQUINA\n",
    "\n",
    "import numpy as np\n",
    "import random\n",
    "\n",
    "tablero = np.full((10,10), \"_\")\n",
    "\n",
    "print(tablero)\n",
    "print()\n",
    "print(\"-\" * 43)\n",
    "print()\n",
    "\n",
    "lista_barcos = [2, 2, 2, 3, 3, 4]\n",
    "\n",
    "for i in range(len(lista_barcos)):\n",
    "\n",
    "    max_columna_inicial = 10 - lista_barcos[i]\n",
    "    max_fila_inicial = 10 - lista_barcos[i]  \n",
    "    barco_colocado = False\n",
    "    \n",
    "    if lista_barcos[i] == 2:\n",
    "        barco_slora_2 = input(\"Introduce las coordenadas del un barco con eslora 2 siguiendo el formato\\\"x,y:x,y\\\":\\n\")\n",
    "        barco_slora_2 = barco_slora_2.replace(\",\", \"\")\n",
    "        barco_slora_2 = barco_slora_2.replace(\":\", \"\")\n",
    "        lista_num = []\n",
    "        for num in barco_slora_2:\n",
    "            num = int(num)\n",
    "            lista_num.append(num)\n",
    "        tablero[lista_num[0]][lista_num[1]] = \"O\"\n",
    "        tablero[lista_num[2]][lista_num[3]] = \"O\"\n",
    "\n",
    "    if lista_barcos[i] == 3:\n",
    "        barco_slora_2 = input(\"Introduce las coordenadas del un barco con eslora 3 siguiendo el formato \\\"x,y:x,y;x,y\\\":\\n\")\n",
    "        barco_slora_2 = barco_slora_2.replace(\",\", \"\")\n",
    "        barco_slora_2 = barco_slora_2.replace(\":\", \"\")\n",
    "        lista_num = []\n",
    "        for num in barco_slora_2:\n",
    "            num = int(num)\n",
    "            lista_num.append(num)\n",
    "        tablero[lista_num[0]][lista_num[1]] = \"O\"\n",
    "        tablero[lista_num[2]][lista_num[3]] = \"O\"\n",
    "        tablero[lista_num[4]][lista_num[5]] = \"O\"\n",
    "\n",
    "    if lista_barcos[i] == 4:\n",
    "        barco_slora_2 = input(\"Introduce las coordenadas del un barco con eslora 4 siguiendo el formato \\\"x,y:x,y;x,y\\\":\\n\")\n",
    "        barco_slora_2 = barco_slora_2.replace(\",\", \"\")\n",
    "        barco_slora_2 = barco_slora_2.replace(\":\", \"\")\n",
    "        lista_num = []\n",
    "        for num in barco_slora_2:\n",
    "            num = int(num)\n",
    "            lista_num.append(num)\n",
    "        tablero[lista_num[0]][lista_num[1]] = \"O\"\n",
    "        tablero[lista_num[2]][lista_num[3]] = \"O\"\n",
    "        tablero[lista_num[4]][lista_num[5]] = \"O\"\n",
    "        tablero[lista_num[6]][lista_num[7]] = \"O\"\n",
    "    \n",
    "                \n",
    "print()\n",
    "print(tablero)"
   ]
  },
  {
   "cell_type": "markdown",
   "id": "b55d7475",
   "metadata": {},
   "source": [
    "Antes de empezar a jugra se ha de "
   ]
  }
 ],
 "metadata": {
  "kernelspec": {
   "display_name": "Python 3",
   "language": "python",
   "name": "python3"
  },
  "language_info": {
   "codemirror_mode": {
    "name": "ipython",
    "version": 3
   },
   "file_extension": ".py",
   "mimetype": "text/x-python",
   "name": "python",
   "nbconvert_exporter": "python",
   "pygments_lexer": "ipython3",
   "version": "3.13.7"
  }
 },
 "nbformat": 4,
 "nbformat_minor": 5
}
