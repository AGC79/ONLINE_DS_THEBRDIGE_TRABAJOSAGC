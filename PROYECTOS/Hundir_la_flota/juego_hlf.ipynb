{
 "cells": [
  {
   "cell_type": "code",
   "execution_count": 23,
   "id": "95f89094",
   "metadata": {},
   "outputs": [
    {
     "name": "stdout",
     "output_type": "stream",
     "text": [
      "[['_' '_' '_' '_' '_' '_' '_' 'O' '_' '_']\n",
      " ['_' '_' '_' '_' '_' '_' '_' 'O' '_' '_']\n",
      " ['_' 'O' 'O' '_' '_' '_' 'O' 'O' '_' '_']\n",
      " ['_' '_' '_' 'O' 'O' '_' 'O' '_' '_' '_']\n",
      " ['_' '_' '_' '_' '_' '_' 'O' '_' '_' '_']\n",
      " ['O' 'O' '_' '_' '_' '_' 'O' '_' '_' '_']\n",
      " ['_' 'O' 'O' 'O' '_' '_' '_' '_' '_' '_']\n",
      " ['_' '_' '_' '_' '_' '_' '_' '_' '_' '_']\n",
      " ['_' '_' '_' '_' '_' '_' '_' '_' '_' '_']\n",
      " ['_' '_' '_' '_' '_' '_' '_' '_' '_' '_']]\n"
     ]
    }
   ],
   "source": [
    "### CREACIÓN DE TABLERO DE MANERA ALEATORIA PARA EL USUARIO\n",
    "\n",
    "import numpy as np\n",
    "import random\n",
    "\n",
    "tablero = np.full((10,10), \"_\")\n",
    "\n",
    "lista_barcos = [2, 2, 2, 3, 3, 4]\n",
    "\n",
    "for i in range(len(lista_barcos)):\n",
    "\n",
    "    max_columna_inicial = 10 - lista_barcos[i]\n",
    "    max_fila_inicial = 10 - lista_barcos[i]  \n",
    "    barco_colocado = False\n",
    "    \n",
    "    # Bucle que envuelve al resto y gestiona la condición de \n",
    "    while not barco_colocado:\n",
    "        orientacion = random.choice([\"horizontal\", \"vertical\"])\n",
    "        if orientacion == \"horizontal\":\n",
    "                fila_inicial = random.randint(0, 9) \n",
    "                columna_inicial = random.randint(0, max_columna_inicial) \n",
    "                casillas_libres = True\n",
    "                for j in range(lista_barcos[i]): \n",
    "                    if tablero[fila_inicial][columna_inicial + j] == \"O\": \n",
    "                        casillas_libres = False\n",
    "                        break\n",
    "                if casillas_libres:\n",
    "                    for y in range(lista_barcos[i]):\n",
    "                        tablero[fila_inicial][columna_inicial + y] = \"O\"\n",
    "                    barco_colocado = True\n",
    "        if orientacion == \"vertical\":\n",
    "                fila_inicial = random.randint(0, max_fila_inicial)  \n",
    "                columna_inicial = random.randint(0, 9) \n",
    "                casillas_libres = True\n",
    "                for x in range(lista_barcos[i]):\n",
    "                    if tablero[fila_inicial + x][columna_inicial] == \"O\":\n",
    "                        casillas_libres = False\n",
    "                        break\n",
    "                if casillas_libres:\n",
    "                    for z in range(lista_barcos[i]):\n",
    "                        tablero[fila_inicial + z][columna_inicial] = \"O\"\n",
    "                    barco_colocado = True\n",
    "\n",
    "print(tablero)"
   ]
  },
  {
   "cell_type": "code",
   "execution_count": null,
   "id": "2b6c56d1",
   "metadata": {},
   "outputs": [
    {
     "name": "stdout",
     "output_type": "stream",
     "text": [
      "[['_' '_' '_' '_' '_' '_' '_' '_' '_' '_']\n",
      " ['_' '_' '_' '_' '_' '_' '_' '_' '_' '_']\n",
      " ['_' '_' '_' '_' '_' '_' '_' '_' '_' '_']\n",
      " ['_' '_' '_' '_' '_' '_' '_' '_' '_' '_']\n",
      " ['_' '_' '_' '_' '_' '_' '_' '_' '_' '_']\n",
      " ['_' '_' '_' '_' '_' '_' '_' '_' '_' '_']\n",
      " ['_' '_' '_' '_' '_' '_' '_' '_' '_' '_']\n",
      " ['_' '_' '_' '_' '_' '_' '_' '_' '_' '_']\n",
      " ['_' '_' '_' '_' '_' '_' '_' '_' '_' '_']\n",
      " ['_' '_' '_' '_' '_' '_' '_' '_' '_' '_']]\n",
      "\n",
      "-------------------------------------------\n",
      "\n"
     ]
    }
   ],
   "source": [
    "### CREACIÓN DE TABLERO DE MANERA MANUAL PARA LA MÁQUINA\n",
    "\n",
    "import numpy as np\n",
    "import random\n",
    "\n",
    "tablero = np.full((10,10), \"_\")\n",
    "\n",
    "print(tablero)\n",
    "print()\n",
    "print(\"-\" * 43)\n",
    "print()\n",
    "\n",
    "lista_barcos = [2, 2, 2, 3, 3, 4]\n",
    "\n",
    "for i in range(len(lista_barcos)):\n",
    "\n",
    "    max_columna_inicial = 10 - lista_barcos[i]\n",
    "    max_fila_inicial = 10 - lista_barcos[i]  \n",
    "    barco_colocado = False\n",
    "    \n",
    "    if lista_barcos[i] == 2:\n",
    "        barco_slora_2 = input(\"Introduce las coordenadas del un barco con eslora 2 siguiendo el formato\\\"x,y:x,y\\\":\\n\")\n",
    "        barco_slora_2 = barco_slora_2.replace(\",\", \"\")\n",
    "        barco_slora_2 = barco_slora_2.replace(\":\", \"\")\n",
    "        lista_num = []\n",
    "        for num in barco_slora_2:\n",
    "            num = int(num)\n",
    "            lista_num.append(num)\n",
    "        tablero[lista_num[0]][lista_num[1]] = \"O\"\n",
    "        tablero[lista_num[2]][lista_num[3]] = \"O\"\n",
    "\n",
    "    if lista_barcos[i] == 3:\n",
    "        barco_slora_2 = input(\"Introduce las coordenadas del un barco con eslora 3 siguiendo el formato \\\"x,y:x,y;x,y\\\":\\n\")\n",
    "        barco_slora_2 = barco_slora_2.replace(\",\", \"\")\n",
    "        barco_slora_2 = barco_slora_2.replace(\":\", \"\")\n",
    "        lista_num = []\n",
    "        for num in barco_slora_2:\n",
    "            num = int(num)\n",
    "            lista_num.append(num)\n",
    "        tablero[lista_num[0]][lista_num[1]] = \"O\"\n",
    "        tablero[lista_num[2]][lista_num[3]] = \"O\"\n",
    "        tablero[lista_num[4]][lista_num[5]] = \"O\"\n",
    "\n",
    "    if lista_barcos[i] == 4:\n",
    "        barco_slora_2 = input(\"Introduce las coordenadas del un barco con eslora 4 siguiendo el formato \\\"x,y:x,y;x,y\\\":\\n\")\n",
    "        barco_slora_2 = barco_slora_2.replace(\",\", \"\")\n",
    "        barco_slora_2 = barco_slora_2.replace(\":\", \"\")\n",
    "        lista_num = []\n",
    "        for num in barco_slora_2:\n",
    "            num = int(num)\n",
    "            lista_num.append(num)\n",
    "        tablero[lista_num[0]][lista_num[1]] = \"O\"\n",
    "        tablero[lista_num[2]][lista_num[3]] = \"O\"\n",
    "        tablero[lista_num[4]][lista_num[5]] = \"O\"\n",
    "        tablero[lista_num[6]][lista_num[7]] = \"O\"\n",
    "    \n",
    "                \n",
    "print()\n",
    "print(tablero)"
   ]
  },
  {
   "cell_type": "code",
   "execution_count": 24,
   "id": "b55d7475",
   "metadata": {},
   "outputs": [],
   "source": [
    "import numpy as np\n",
    "import random\n",
    "\n",
    "def tablero():\n",
    "    tablero = np.full((10,10), \"_\")\n",
    "    return tablero\n",
    "\n"
   ]
  },
  {
   "cell_type": "code",
   "execution_count": 27,
   "id": "711b1e3e",
   "metadata": {},
   "outputs": [
    {
     "name": "stdout",
     "output_type": "stream",
     "text": [
      "[['_' '_' '_' '_' '_' '_' '_' '_' '_' '_']\n",
      " ['_' '_' '_' '_' '_' '_' '_' '_' '_' '_']\n",
      " ['_' '_' '_' '_' '_' '_' '_' '_' '_' '_']\n",
      " ['_' '_' '_' '_' '_' '_' '_' '_' '_' '_']\n",
      " ['_' '_' '_' '_' '_' '_' '_' '_' '_' '_']\n",
      " ['_' '_' '_' '_' '_' '_' '_' '_' '_' '_']\n",
      " ['_' '_' '_' '_' '_' '_' '_' '_' '_' '_']\n",
      " ['_' '_' '_' '_' '_' '_' '_' '_' '_' '_']\n",
      " ['_' '_' '_' '_' '_' '_' '_' '_' '_' '_']\n",
      " ['_' '_' '_' '_' '_' '_' '_' '_' '_' '_']]\n"
     ]
    }
   ],
   "source": [
    "tablero_jugador = tablero()\n",
    "print(tablero_jugador)"
   ]
  },
  {
   "cell_type": "code",
   "execution_count": null,
   "id": "0c1eec71",
   "metadata": {},
   "outputs": [
    {
     "name": "stdout",
     "output_type": "stream",
     "text": [
      "[(0, 0), (0, 1), (0, 2)]\n",
      "(0, 0)\n",
      "(0, 1)\n",
      "(0, 2)\n",
      "[(7, 4), (6, 4)]\n",
      "(7, 4)\n",
      "(6, 4)\n"
     ]
    }
   ],
   "source": [
    "barco_jugador = [[(0,0), (0,1), (0,2)], [(7,4), (6,4)]]\n",
    "\n",
    "def colocar_tablero(tablero lista)\n",
    "    for barco in lista:\n",
    "        print(barco)\n",
    "        for posicion in barco:\n",
    "            print(posicion)\n",
    "            tablero[posicion] = \"0\"\n",
    "        return tablero"
   ]
  },
  {
   "cell_type": "code",
   "execution_count": 36,
   "id": "f10e2237",
   "metadata": {},
   "outputs": [
    {
     "name": "stdout",
     "output_type": "stream",
     "text": [
      "[['0' '0' '0' '_' '_' '_' '_' '_' '_' '_']\n",
      " ['_' '_' '_' '_' '_' '_' '_' '_' '_' '_']\n",
      " ['_' '_' '_' '_' '_' '_' '_' '_' '_' '_']\n",
      " ['_' '_' '_' '_' '_' '_' '_' '_' '_' '_']\n",
      " ['_' '_' '_' '_' '_' '_' '_' '_' '_' '_']\n",
      " ['_' '_' '_' '_' '_' '_' '_' '_' '_' '_']\n",
      " ['_' '_' '_' '_' '0' '_' '_' '_' '_' '_']\n",
      " ['_' '_' '_' '_' '0' '_' '_' '_' '_' '_']\n",
      " ['_' '_' '_' '_' '_' '_' '_' '_' '_' '_']\n",
      " ['_' '_' '_' '_' '_' '_' '_' '_' '_' '_']]\n"
     ]
    }
   ],
   "source": [
    "print(tablero_jugador)"
   ]
  },
  {
   "cell_type": "code",
   "execution_count": 2,
   "id": "69a58617",
   "metadata": {},
   "outputs": [],
   "source": [
    "# usar random \n",
    " \n",
    "# para los numeros de la tupla\n",
    "# (4, 7)\n",
    "\n",
    "# [N RESTAR A LA FILA, S SUMAR A LA FILA, E SUMAR A LA COLUMNA, O RESTAR A COLUMNA]"
   ]
  },
  {
   "cell_type": "code",
   "execution_count": null,
   "id": "749a5ec4",
   "metadata": {},
   "outputs": [],
   "source": [
    "# DISPARIOS \n",
    "fila = int(input(\"Añade la fila (0-9)\"))\n",
    "columna = int(input(\"Añade la columna (0-9)\"))\n",
    "\n",
    "print(fila, columna)\n",
    "\n",
    "if tablero[fila, columna] == \"0\":\n",
    "    print(\"Tocado\")\n",
    "    tablero[fila, columna] == \"X\"\n",
    "else:\n",
    "    print(\"AGUA\")\n",
    "    tablero[fila, columna ] == \"#\"\n",
    "print(tablero)"
   ]
  },
  {
   "cell_type": "markdown",
   "id": "7a574cf3",
   "metadata": {},
   "source": [
    "turno = 0\n",
    "turno = 1\n",
    "\n",
    "\n",
    "colocar barcos\n",
    "sistema de turnos = while todo \n",
    "como acabar el juego\n"
   ]
  },
  {
   "cell_type": "code",
   "execution_count": null,
   "id": "ec24b4c8",
   "metadata": {},
   "outputs": [],
   "source": []
  }
 ],
 "metadata": {
  "kernelspec": {
   "display_name": "Python 3",
   "language": "python",
   "name": "python3"
  },
  "language_info": {
   "codemirror_mode": {
    "name": "ipython",
    "version": 3
   },
   "file_extension": ".py",
   "mimetype": "text/x-python",
   "name": "python",
   "nbconvert_exporter": "python",
   "pygments_lexer": "ipython3",
   "version": "3.13.7"
  }
 },
 "nbformat": 4,
 "nbformat_minor": 5
}
