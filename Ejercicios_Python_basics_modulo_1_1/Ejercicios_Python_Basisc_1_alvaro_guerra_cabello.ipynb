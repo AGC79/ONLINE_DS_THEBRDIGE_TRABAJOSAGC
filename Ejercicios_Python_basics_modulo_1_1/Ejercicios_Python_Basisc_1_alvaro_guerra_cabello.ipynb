{
 "cells": [
  {
   "cell_type": "markdown",
   "metadata": {
    "id": "_9pTa0PXK9q6"
   },
   "source": [
    "## EJERCICIOS PYTHON BASICO 1:\n",
    "## Tipos y conversión de tipos"
   ]
  },
  {
   "cell_type": "markdown",
   "metadata": {
    "id": "tYmV-veoK9q6"
   },
   "source": [
    "Completa los siguiente ejercicios, la solución a los mismos se publicarán en el repo del curso a lo largo del sprint"
   ]
  },
  {
   "cell_type": "markdown",
   "metadata": {
    "id": "YAdFbIOXK9q7"
   },
   "source": [
    "\n",
    "\n",
    "## Ejercicio 1\n",
    "\n",
    "1. Crea dos variables numericas: un `int` y un `float`\n",
    "2. Comprueba sus tipos\n",
    "3. Sumalas en otra nueva\n",
    "4. ¿De qué tipo es la nueva variable?\n",
    "5. Elimina las dos primeras variables creadas"
   ]
  },
  {
   "cell_type": "code",
   "execution_count": 6,
   "metadata": {
    "id": "8QZmuLOsK9q7"
   },
   "outputs": [
    {
     "name": "stdout",
     "output_type": "stream",
     "text": [
      "Primer número: 5\n",
      "Tipo de dato del primer número: <class 'int'>\n",
      "Primer número 7.5\n",
      "Tipo de dato del segundo número: <class 'float'>\n",
      "5 + 7.5 = 12.5\n",
      "Tipo de dato del resultado de la suma: <class 'float'>\n"
     ]
    },
    {
     "ename": "NameError",
     "evalue": "name 'num1' is not defined",
     "output_type": "error",
     "traceback": [
      "\u001b[31m---------------------------------------------------------------------------\u001b[39m",
      "\u001b[31mNameError\u001b[39m                                 Traceback (most recent call last)",
      "\u001b[36mCell\u001b[39m\u001b[36m \u001b[39m\u001b[32mIn[6]\u001b[39m\u001b[32m, line 16\u001b[39m\n\u001b[32m     13\u001b[39m \u001b[38;5;28;01mdel\u001b[39;00m num1\n\u001b[32m     14\u001b[39m \u001b[38;5;28;01mdel\u001b[39;00m num2\n\u001b[32m---> \u001b[39m\u001b[32m16\u001b[39m \u001b[38;5;28mprint\u001b[39m(\u001b[43mnum1\u001b[49m, num2)\n",
      "\u001b[31mNameError\u001b[39m: name 'num1' is not defined"
     ]
    }
   ],
   "source": [
    "num1 = 5\n",
    "num2 = 7.5\n",
    "\n",
    "print(\"Primer número:\", num1)\n",
    "print(\"Tipo de dato del primer número:\", type(num1))\n",
    "print(\"Primer número\", num2)\n",
    "print(\"Tipo de dato del segundo número:\", type(num2))\n",
    "\n",
    "suma = num1 + num2\n",
    "print(num1, \"+\", num2, \"=\", suma)\n",
    "print(\"Tipo de dato del resultado de la suma:\", type(suma))\n",
    "\n",
    "del num1\n",
    "del num2\n",
    "\n",
    "print(num1, num2)"
   ]
  },
  {
   "cell_type": "markdown",
   "metadata": {
    "id": "f5xfpkpQK9q7"
   },
   "source": [
    "\n",
    "\n",
    "## Ejercicio 2\n",
    "Escribe un programa para pasar de grados a radianes. Hay que usar `input`. Recuerda que la conversión se realiza mediante\n",
    "\n",
    "radianes = grados*(pi/180)"
   ]
  },
  {
   "cell_type": "code",
   "execution_count": 9,
   "metadata": {
    "id": "V50TUQMzK9q7"
   },
   "outputs": [
    {
     "name": "stdin",
     "output_type": "stream",
     "text": [
      "Introduce un valor en grados: 90\n"
     ]
    },
    {
     "name": "stdout",
     "output_type": "stream",
     "text": [
      "90 grados equivalen a 1.57\n"
     ]
    }
   ],
   "source": [
    "grados = input(\"Introduce un valor en grados:\")\n",
    "grados = int(grados)\n",
    "PI = 3.1416\n",
    "radianes = round(grados * (PI/180), 2)\n",
    "print(grados, \"grados equivalen a\", radianes)"
   ]
  },
  {
   "cell_type": "markdown",
   "metadata": {
    "id": "zX3-p58CK9q7"
   },
   "source": [
    "\n",
    "\n",
    "## Ejercicio 3\n",
    "Escribe un programa que calcule el area de un paralelogramo (base x altura). También con `input`"
   ]
  },
  {
   "cell_type": "code",
   "execution_count": 15,
   "metadata": {
    "id": "s2QfNiBAK9q7"
   },
   "outputs": [
    {
     "name": "stdin",
     "output_type": "stream",
     "text": [
      "Introduce la base: 2.55\n",
      "Introduce la altura: 3.66\n"
     ]
    },
    {
     "name": "stdout",
     "output_type": "stream",
     "text": [
      "Área del paralelogramo:\n",
      "2.55 x 3.66 = 9.33\n"
     ]
    }
   ],
   "source": [
    "base = input(\"Introduce la base:\")\n",
    "base = float(base)\n",
    "\n",
    "altura = input(\"Introduce la altura:\")\n",
    "altura = float(altura)\n",
    "\n",
    "area = round((base * altura), 2)\n",
    "\n",
    "print(\"Área del paralelogramo:\")\n",
    "print(base, \"x\", altura, \"=\", area)"
   ]
  },
  {
   "cell_type": "markdown",
   "metadata": {
    "id": "-6TBo_HvK9q8"
   },
   "source": [
    "\n",
    "\n",
    "## Ejercicio 4\n",
    "Escribe un programa que calcule el area de un paralelogramo (base x altura). También con `input`. En este caso debe ser capaz de admitir valores reales, con decimales, para base y altura en español. (PISTA: Recuerda que tendrás que hacer uso del método replace)"
   ]
  },
  {
   "cell_type": "code",
   "execution_count": 23,
   "metadata": {
    "id": "uzUIa1JqK9q8"
   },
   "outputs": [
    {
     "name": "stdin",
     "output_type": "stream",
     "text": [
      "Introduce la base:\n",
      " 2,55\n",
      "Introduce la altura:\n",
      " 3,66\n"
     ]
    },
    {
     "name": "stdout",
     "output_type": "stream",
     "text": [
      "Área del paralelogramo:\n",
      "2.55 x 3.66 = 9.33\n"
     ]
    }
   ],
   "source": [
    "base = input(\"Introduce la base:\\n\")\n",
    "base = float(base.replace(\",\", \".\"))\n",
    "\n",
    "altura = input(\"Introduce la altura:\\n\")\n",
    "altura = float(altura.replace(\",\", \".\"))\n",
    "\n",
    "area = round((base * altura), 2)\n",
    "\n",
    "print(\"Área del paralelogramo:\")\n",
    "print(base, \"x\", altura, \"=\", area)"
   ]
  },
  {
   "cell_type": "markdown",
   "metadata": {
    "id": "5zKugi5iK9q8"
   },
   "source": [
    "\n",
    "\n",
    "## Ejercicio 5\n",
    "Complete el siguiente código para solicitar al usuario su nombre y su edad. Luego, calcule en qué año nació el usuario y muestre el resultado."
   ]
  },
  {
   "cell_type": "code",
   "execution_count": 18,
   "metadata": {
    "id": "LISfTnRkK9q8"
   },
   "outputs": [
    {
     "name": "stdin",
     "output_type": "stream",
     "text": [
      "¿Cuál es tu nombre?  Alvaro\n",
      "¿Cuál es tu edad?  46\n"
     ]
    },
    {
     "name": "stdout",
     "output_type": "stream",
     "text": [
      "Alvaro, naciste en el año 1979.\n"
     ]
    }
   ],
   "source": [
    "nombre = input(\"¿Cuál es tu nombre? \")\n",
    "edad = int(input(\"¿Cuál es tu edad? \"))\n",
    "año_actual = 2025  # Puedes cambiarlo según el año en curso\n",
    "año_nacimiento = año_actual - edad\n",
    "\n",
    "print(f\"{nombre}, naciste en el año {año_nacimiento}.\")\n"
   ]
  },
  {
   "cell_type": "code",
   "execution_count": null,
   "metadata": {},
   "outputs": [],
   "source": []
  }
 ],
 "metadata": {
  "colab": {
   "provenance": []
  },
  "kernelspec": {
   "display_name": "Python 3 (ipykernel)",
   "language": "python",
   "name": "python3"
  },
  "language_info": {
   "codemirror_mode": {
    "name": "ipython",
    "version": 3
   },
   "file_extension": ".py",
   "mimetype": "text/x-python",
   "name": "python",
   "nbconvert_exporter": "python",
   "pygments_lexer": "ipython3",
   "version": "3.13.7"
  }
 },
 "nbformat": 4,
 "nbformat_minor": 4
}
