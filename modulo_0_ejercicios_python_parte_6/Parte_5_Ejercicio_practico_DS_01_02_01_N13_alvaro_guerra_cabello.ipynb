{
 "cells": [
  {
   "cell_type": "markdown",
   "metadata": {
    "id": "9l3HMgm6RWxF"
   },
   "source": [
    "![TheBridge_logo_RGB_color.jpg](attachment:TheBridge_logo_RGB_color.jpg)"
   ]
  },
  {
   "cell_type": "markdown",
   "metadata": {
    "id": "RGg9iWpoRWxG"
   },
   "source": [
    "![ejercicios.png](attachment:ejercicios.png)"
   ]
  },
  {
   "cell_type": "markdown",
   "metadata": {
    "id": "AyOlWS2nRWxH"
   },
   "source": [
    "## PRACTICA OBLIGATORIA: COLECCIONES Y FUNCIONES"
   ]
  },
  {
   "cell_type": "markdown",
   "metadata": {
    "id": "6UOgb0KVRWxH"
   },
   "source": [
    "* La práctica obligatoria de esta unidad consiste varios ejercicios de programación libre a completar sobre Colecciones y Funciones. Descarga este notebook en tu ordenador y trabaja en local.  \n",
    "* Recuerda que debes subirla a tu repositorio personal antes de la sesión en vivo para que puntúe adecuadamente y puedas participar en dicha sesión.  \n",
    "* Recuerda también que no es necesario que esté perfecta, sólo es necesario que se vea el esfuerzo.\n",
    "* Esta práctica se resolverá en la sesión en vivo correspondiente y la solución se publicará en el repo del curso."
   ]
  },
  {
   "cell_type": "markdown",
   "metadata": {
    "id": "j3yu-tEjRWxH"
   },
   "source": [
    "### Contenidos"
   ]
  },
  {
   "cell_type": "markdown",
   "metadata": {
    "id": "kO-fLH39RWxH"
   },
   "source": [
    "## Ejercicio 1\n",
    "Eleva todos los elementos de la lista al cuadrado\n",
    "> ```ejer_2 = [1,2,3,4,5]```"
   ]
  },
  {
   "cell_type": "code",
   "execution_count": 3,
   "metadata": {
    "id": "ks5l3yi7RWxH"
   },
   "outputs": [
    {
     "name": "stdout",
     "output_type": "stream",
     "text": [
      "1\n",
      "4\n",
      "9\n",
      "16\n",
      "25\n"
     ]
    }
   ],
   "source": [
    "# Declaración de la lista\n",
    "ejer_2 = [1,2,3,4,5]\n",
    "\n",
    "# Bucle para elevar todos los elementos de la lista al cuadrado\n",
    "for i in ejer_2:\n",
    "    i = i * i\n",
    "    print(i)"
   ]
  },
  {
   "cell_type": "markdown",
   "metadata": {
    "id": "kI_Xr5oFRWxI"
   },
   "source": [
    "## Ejercicio 2\n",
    "Haz un programa que detecte todos los duplicados de un elemento en una lista:\n",
    "* Utiliza una variable duplicado para asignarle el valor del elemento del que queremos encontrar todos sus duplicados.\n",
    "* El programa debe devolver todos los índices de los elementos duplicados.\n",
    "* Aplícalo para encontrar los duplicados de \"un\", \"es\" y \"binario\" de:  \n",
    "\n",
    ">```ejer_3 = [\"Un\", \"árbol\", \"binario\", \"es\", \"una\", \"estructura\", \"de\", \"un\", \"tipo\", \"particular\", \"a\", \"veces\", \"no\", \"es\", \"ni\", \"binario\"]```\n"
   ]
  },
  {
   "cell_type": "code",
   "execution_count": 155,
   "metadata": {
    "id": "cLY9WB7YRWxI"
   },
   "outputs": [
    {
     "name": "stdout",
     "output_type": "stream",
     "text": [
      "Palabras duplicadas: ['un', 'binario', 'es']\n",
      "Indices de los elementos duplicados [0, 2, 3, 7, 13, 15]\n"
     ]
    }
   ],
   "source": [
    "ejer_3 = [\"Un\", \"árbol\", \"binario\", \"es\", \"una\", \"estructura\", \"de\", \"un\", \"tipo\", \"particular\", \"a\", \"veces\", \"no\", \"es\", \"ni\", \"binario\"]\n",
    "\n",
    "duplicado = []\n",
    "\n",
    "for indice in range(len(ejer_3)):\n",
    "    palabra = ejer_3[indice].lower()\n",
    "    contador = indice + 1\n",
    "    while contador < len(ejer_3):\n",
    "        if palabra == ejer_3[contador]:\n",
    "            duplicado.append(palabra)\n",
    "        contador += 1\n",
    "    \n",
    "print(\"Palabras duplicadas:\", duplicado)\n",
    "\n",
    "indices = []\n",
    "for i in range(len(ejer_3)):\n",
    "    if ejer_3[i].lower() in duplicado:\n",
    "        indices.append(i)\n",
    "\n",
    "print(\"Indices de los elementos duplicados\", indices)"
   ]
  },
  {
   "cell_type": "markdown",
   "metadata": {
    "id": "3WrBd5QaRWxI"
   },
   "source": [
    "## Ejercicio 3\n",
    "1. ¿Cuántas veces se repite el 3 en la siguiente tupla?\n",
    "2. Crea una tupla nueva con los elementos desde la posicion 5 a la 10.\n",
    "3. ¿Cuántos elementos tiene la tupla `ejer3`?\n",
    "> ```ejer_9 = (3, 20, 3, 47, 19, 3, 29, 45, 67, 78, 90, 3, 3, 5, 2, 4, 7, 9, 4, 2, 4, 3, 3, 4, 6, 7)```"
   ]
  },
  {
   "cell_type": "code",
   "execution_count": 73,
   "metadata": {
    "id": "bkv_R5LYRWxI"
   },
   "outputs": [
    {
     "name": "stdout",
     "output_type": "stream",
     "text": [
      "El número 3 de la tupla se repite 7 veces.\n",
      "(3, 29, 45, 67, 78, 90)\n",
      "La nueva tupla creada tiene 6 elementos.\n",
      "La tupla original tiene 26 elementos.\n"
     ]
    }
   ],
   "source": [
    "ejer_9 = (3, 20, 3, 47, 19, 3, 29, 45, 67, 78, 90, 3, 3, 5, 2, 4, 7, 9, 4, 2, 4, 3, 3, 4, 6, 7)\n",
    "\n",
    "print(\"El número 3 de la tupla se repite\", ejer_9.count(3), \"veces.\")\n",
    "\n",
    "tupla_nueva = ejer_9[5:11]\n",
    "print(tupla_nueva)\n",
    "print(\"La nueva tupla creada tiene\", len(tupla_nueva), \"elementos.\")\n",
    "print(\"La tupla original tiene\", len(ejer_9), \"elementos.\")"
   ]
  },
  {
   "cell_type": "markdown",
   "metadata": {
    "id": "6g8Y54AeRWxI"
   },
   "source": [
    "## Ejercicio 4\n",
    "Comprueba si el numero 60 esta en la tupla del ejercicio 3"
   ]
  },
  {
   "cell_type": "code",
   "execution_count": 90,
   "metadata": {
    "id": "F8VTEZonRWxI"
   },
   "outputs": [
    {
     "name": "stdout",
     "output_type": "stream",
     "text": [
      "El numero 60 NO está incluido en la tupla\n",
      "Mensaje de error = tuple.index(x): x not in tuple\n",
      "El número 60 NO esta incluid en la tupla\n"
     ]
    }
   ],
   "source": [
    "# Comprobación 1\n",
    "for numero in ejer_9:\n",
    "    if numero == 60:\n",
    "        print(\"El numero 60 SÍ está incluido en la tupla\")\n",
    "else:\n",
    "    print(\"El numero 60 NO está incluido en la tupla\")\n",
    "\n",
    "# Comprobación 2\n",
    "numero = 60\n",
    "try:\n",
    "    print(ejer_9.index(numero))\n",
    "except Exception as ex:\n",
    "    print(\"Mensaje de error =\", ex)\n",
    "    print(\"El número\", numero, \"NO esta incluid en la tupla\")"
   ]
  },
  {
   "cell_type": "markdown",
   "metadata": {
    "id": "y0fg-ZA6RWxI"
   },
   "source": [
    "## Ejercicio 5\n",
    "1. Convierte la tupla del ejercicio 3 en una lista\n",
    "2. Convierte la tupla del ejercicio 3 en un set\n",
    "3. Convierte la tupla del ejercicio 3 en un diccionario. Usa también los indices"
   ]
  },
  {
   "cell_type": "code",
   "execution_count": 98,
   "metadata": {
    "id": "_O5hXr01RWxI"
   },
   "outputs": [
    {
     "name": "stdout",
     "output_type": "stream",
     "text": [
      "[3, 20, 3, 47, 19, 3, 29, 45, 67, 78, 90, 3, 3, 5, 2, 4, 7, 9, 4, 2, 4, 3, 3, 4, 6, 7] <class 'list'>\n",
      "{2, 3, 67, 5, 4, 7, 6, 9, 45, 78, 47, 19, 20, 90, 29} <class 'set'>\n",
      "{0: 3, 1: 20, 2: 3, 3: 47, 4: 19, 5: 3, 6: 29, 7: 45, 8: 67, 9: 78, 10: 90, 11: 3, 12: 3, 13: 5, 14: 2, 15: 4, 16: 7, 17: 9, 18: 4, 19: 2, 20: 4, 21: 3, 22: 3, 23: 4, 24: 6, 25: 7} <class 'dict'>\n"
     ]
    }
   ],
   "source": [
    "# 1. Convierte la tupla del ejercicio 3 en una lista\n",
    "lista_tupla = list(ejer_9)\n",
    "print(lista_tupla, type(lista_tupla))\n",
    "\n",
    "# 2. Convierte la tupla del ejercicio 3 en un set\n",
    "set_tupla = set(ejer_9)\n",
    "print(set_tupla, type(set_tupla))\n",
    "\n",
    "# 3. Convier#te la tupla del ejercicio 3 en un diccionario. Usa también los indices\n",
    "#dict_tupla #= dict(ejer_9)\n",
    "#print(dict_tupla, type(dict_tupla))\n",
    "\n",
    "dict_tupla = {}\n",
    "for indice in range(len(ejer_9)):\n",
    "    dict_tupla[indice] = ejer_9[indice]\n",
    "    indice += 1\n",
    "\n",
    "print(dict_tupla, type(dict_tupla))"
   ]
  },
  {
   "cell_type": "markdown",
   "metadata": {
    "id": "eOdWWbxvRWxJ"
   },
   "source": [
    "## Ejercicio 6\n",
    "Multiplica todos los valores del diccionario\n",
    "> ```ejer_6 = {1: 11, 2: 22, 3: 33, 4: 44, 5: 55}```"
   ]
  },
  {
   "cell_type": "code",
   "execution_count": 112,
   "metadata": {
    "id": "KcuByovKRWxJ"
   },
   "outputs": [
    {
     "name": "stdout",
     "output_type": "stream",
     "text": [
      "19326120\n"
     ]
    }
   ],
   "source": [
    "ejer_6 = {1: 11, 2: 22, 3: 33, 4: 44, 5: 55}\n",
    "resultado = 1\n",
    "\n",
    "for clave in ejer_6:\n",
    "        numero = ejer_6[clave]\n",
    "        resultado *= numero\n",
    "\n",
    "print(resultado)"
   ]
  },
  {
   "cell_type": "markdown",
   "metadata": {
    "id": "W7TUSaKRRWxJ"
   },
   "source": [
    "## Ejercicio 7\n",
    "\n",
    "1. Crea un diccionario que describa un libro, con los siguientes campos o claves: \"titulo\",\"autor\",\"idioma original\",\"año de publicación\".\n",
    "2. Crea una lista, llamada librería.\n",
    "3. Añade cuatro libros a tu elección a la librería."
   ]
  },
  {
   "cell_type": "code",
   "execution_count": 127,
   "metadata": {
    "id": "d-IMRvxRRWxJ",
    "vscode": {
     "languageId": "plaintext"
    }
   },
   "outputs": [
    {
     "name": "stdout",
     "output_type": "stream",
     "text": [
      "{'título': 'Crónica de una muerte anunciada', 'autor': 'Gabriel García Márquez', 'idioma original': 'Español', 'año de publicación': '1981'}\n",
      "[{'título': 'Crónica de una muerte anunciada', 'autor': 'Gabriel García Márquez', 'idioma original': 'Español', 'año de publicación': '1981'}, {'título': 'Rebelión en la granja', 'autor': 'George Orwell', 'idioma original': 'Inglés', 'año de publicación': '1945'}, {'título': 'Crimen y castigo', 'autor': 'Fiódor Dostoyevski', 'idioma original': 'Ruso', 'año de publicación': '1866'}, {'título': 'Madame Bovary', 'autor': 'Gustave Flaubert', 'idioma original': 'Francés', 'año de publicación': '1857'}]\n"
     ]
    }
   ],
   "source": [
    "# 1. Crea un diccionario que describa un libro, con los siguientes campos o claves: \"titulo\",\"autor\",\"idioma original\",\"año de publicación\".\n",
    "libro = libro = {\n",
    "    \"título\": \"Crónica de una muerte anunciada\",\n",
    "    \"autor\": \"Gabriel García Márquez\",\n",
    "    \"idioma original\": \"Español\",\n",
    "    \"año de publicación\": \"1981\",\n",
    "}\n",
    "\n",
    "print(libro)\n",
    "\n",
    "# 2. Crea una lista, llamada librería.\n",
    "libreria = []\n",
    "\n",
    "# 3. Añade cuatro libros a tu elección a la librería.\n",
    "libreria.append({\n",
    "    \"título\": \"Crónica de una muerte anunciada\",\n",
    "    \"autor\": \"Gabriel García Márquez\",\n",
    "    \"idioma original\": \"Español\",\n",
    "    \"año de publicación\": \"1981\",\n",
    "})\n",
    "\n",
    "libreria.append({\n",
    "    \"título\": \"Rebelión en la granja\",\n",
    "    \"autor\": \"George Orwell\",\n",
    "    \"idioma original\": \"Inglés\",\n",
    "    \"año de publicación\": \"1945\",\n",
    "})\n",
    "\n",
    "libreria.append({\n",
    "    \"título\": \"Crimen y castigo\",\n",
    "    \"autor\": \"Fiódor Dostoyevski\",\n",
    "    \"idioma original\": \"Ruso\",\n",
    "    \"año de publicación\": \"1866\",\n",
    "})\n",
    "\n",
    "libreria.append({\n",
    "    \"título\": \"Madame Bovary\",\n",
    "    \"autor\": \"Gustave Flaubert\",\n",
    "    \"idioma original\": \"Francés\",\n",
    "    \"año de publicación\": \"1857\",\n",
    "})\n",
    "\n",
    "print(libreria)"
   ]
  },
  {
   "cell_type": "markdown",
   "metadata": {
    "id": "glMoedjYRWxJ"
   },
   "source": [
    "## Ejercicio 8\n",
    "Modifica los valores del idioma de todos los libros del ejercicio anterior para que sea \"esperanto\"\n"
   ]
  },
  {
   "cell_type": "code",
   "execution_count": 135,
   "metadata": {
    "id": "veNdC-uwRWxJ"
   },
   "outputs": [
    {
     "name": "stdout",
     "output_type": "stream",
     "text": [
      "0\n",
      "{'título': 'Crónica de una muerte anunciada', 'autor': 'Gabriel García Márquez', 'idioma original': 'Esperanto', 'año de publicación': '1981'}\n",
      "1\n",
      "{'título': 'Rebelión en la granja', 'autor': 'George Orwell', 'idioma original': 'Esperanto', 'año de publicación': '1945'}\n",
      "2\n",
      "{'título': 'Crimen y castigo', 'autor': 'Fiódor Dostoyevski', 'idioma original': 'Esperanto', 'año de publicación': '1866'}\n",
      "3\n",
      "{'título': 'Madame Bovary', 'autor': 'Gustave Flaubert', 'idioma original': 'Esperanto', 'año de publicación': '1857'}\n"
     ]
    }
   ],
   "source": [
    "for indice in range(len(libreria)):\n",
    "    libreria[indice][\"idioma original\"] = \"Esperanto\"\n",
    "    print(indice)\n",
    "    print(libreria[indice])"
   ]
  },
  {
   "cell_type": "markdown",
   "metadata": {
    "id": "DRCJG04KRWxJ"
   },
   "source": [
    "## Ejercicio 9\n",
    "1. Escribe un programa que dada una variable titulo busque los libros que hay en la librería con ese título. Si no se encuentra debe devolver el mensaje `Ese no lo tengo, ¿mola?`\n",
    "2. Pruena que el programa con uno de tus libros y con otro que no contenga tu librería."
   ]
  },
  {
   "cell_type": "code",
   "execution_count": 143,
   "metadata": {
    "id": "eWHdJi9BRWxJ"
   },
   "outputs": [
    {
     "name": "stdin",
     "output_type": "stream",
     "text": [
      "Introduce el título de un libro: Rebelión en la granja\n"
     ]
    },
    {
     "name": "stdout",
     "output_type": "stream",
     "text": [
      "Este libro se encuentra en la librería\n"
     ]
    }
   ],
   "source": [
    "titulo_libro = input(\"Introduce el título de un libro:\")\n",
    "encontrado = False\n",
    "\n",
    "for libro in libreria:\n",
    "    if libro[\"título\"] == titulo_libro:\n",
    "        print(\"Este libro se encuentra en la librería\")\n",
    "        encontrado = True\n",
    "if not encontrado:\n",
    "    print(\"Ese libro no lo tengo, ¿mola?\")"
   ]
  },
  {
   "cell_type": "markdown",
   "metadata": {
    "id": "17YOpYuFRWxJ"
   },
   "source": [
    "## Ejercicio 10\n",
    "Convierte el programa del ejercicio 2 en una función al que se le pase el valor a buscar como un argumento posicional"
   ]
  },
  {
   "cell_type": "code",
   "execution_count": 175,
   "metadata": {
    "id": "xbj0LgvnRWxJ"
   },
   "outputs": [
    {
     "name": "stdout",
     "output_type": "stream",
     "text": [
      "La palabra buscada no está duplicada en la lista\n"
     ]
    }
   ],
   "source": [
    "def buscar_duplicado(palabra_buscada):\n",
    "    for indice in range(len(ejer_3)):\n",
    "        palabra = ejer_3[indice].lower()\n",
    "        contador = indice + 1\n",
    "        while contador < len(ejer_3):\n",
    "            if palabra == ejer_3[contador].lower:\n",
    "                duplicado.append(palabra)\n",
    "            contador += 1\n",
    "    \n",
    "    if palabra_buscada.lower() in duplicado:\n",
    "        print(\"La palabra buscada está duplicada en la lista\")\n",
    "    else:\n",
    "        print(\"La palabra buscada no está duplicada en la lista\")\n",
    "    \n",
    "\n",
    "buscar_duplicado(\"estructura\")\n"
   ]
  },
  {
   "cell_type": "markdown",
   "metadata": {
    "id": "xZ-sWJxPRWxJ"
   },
   "source": [
    "## Ejercicio 11\n",
    "Convierte el programa del ejercicio 9 en una función al que se le pasen como argumentos la librería, posicional, y el título, argumento keyword con valor \"ninguno\", por defecto."
   ]
  },
  {
   "cell_type": "code",
   "execution_count": 200,
   "metadata": {
    "id": "4-JrsMdNRWxK"
   },
   "outputs": [
    {
     "name": "stdout",
     "output_type": "stream",
     "text": [
      "Ese libro no lo tengo, ¿mola?\n"
     ]
    }
   ],
   "source": [
    "# Declaración de función\n",
    "def buscar_libro(nombre_libreria, titulo_libro = \"ninguno\"):\n",
    "    encontrado = False\n",
    "    \n",
    "    for libro in libreria:\n",
    "        if libro[\"título\"] == titulo_libro:\n",
    "            print(\"Este libro se encuentra en la librería\")\n",
    "            encontrado = True\n",
    "    if not encontrado:\n",
    "        print(\"Ese libro no lo tengo, ¿mola?\")\n",
    "\n",
    "# Llamada a función\n",
    "buscar_libro(libreria, \"La colmena\")"
   ]
  },
  {
   "cell_type": "markdown",
   "metadata": {
    "id": "FtJir95QRWxK"
   },
   "source": [
    "## Ejercicio 12\n",
    "Solicitar al usuario que ingrese su dirección email. Imprimir un mensaje indicando si la dirección es válida o no, valiéndose de una función para decidirlo. Una dirección se considerará válida si contiene el símbolo \"@\"."
   ]
  },
  {
   "cell_type": "code",
   "execution_count": 199,
   "metadata": {
    "id": "sk852IZ8RWxK"
   },
   "outputs": [
    {
     "name": "stdin",
     "output_type": "stream",
     "text": [
      "Introduce tu correo electrónico\n",
      " alvaro@gmail.com\n"
     ]
    },
    {
     "name": "stdout",
     "output_type": "stream",
     "text": [
      "El correo introducido es válido\n"
     ]
    }
   ],
   "source": [
    "# Declaración de función\n",
    "def comprobar_email(correo_electrónico):\n",
    "    #correo_electrónico = input(\"Introduce tu correo electrónico\\n\")\n",
    "    caracter = \"@\"\n",
    "    \n",
    "    if caracter in correo_electrónico:\n",
    "        print(\"El correo introducido es válido\")\n",
    "    else:\n",
    "        print(\"El correo introducido NO es válido\")\n",
    "\n",
    "# Llamada a función\n",
    "comprobar_email(input(\"Introduce tu correo electrónico\\n\"))"
   ]
  },
  {
   "cell_type": "markdown",
   "metadata": {
    "id": "Kw1MWBwBRWxK"
   },
   "source": [
    "## Ejercicio 13\n",
    "Escribe una función que compruebe si un DNI es válido, devolviendo `True` en caso afirmativo.  \n",
    "En primer lugar, el DNI debe tener entre 7 y 8 dígitos numéricos.  \n",
    "Para saber si la letra del DNI es correcta puedes utilizar el siguiente fragmento de código:\n",
    ">```Python\n",
    ">DNI= 55555555\n",
    ">palabra='TRWAGMYFPDXBNJZSQVHLCKE'\n",
    ">print('La letra del DNI es: ', palabra[DNI%23])\n",
    ">````\n"
   ]
  },
  {
   "cell_type": "code",
   "execution_count": 266,
   "metadata": {
    "id": "F5Z9rSHqRWxK"
   },
   "outputs": [
    {
     "name": "stdout",
     "output_type": "stream",
     "text": [
      "La letra del DNI introducida es correcta\n",
      "El DNI es válido: True\n"
     ]
    }
   ],
   "source": [
    "#DNI= 55555555\n",
    "#palabra='TRWAGMYFPDXBNJZSQVHLCKE'\n",
    "#print('La letra del DNI es: ', palabra[DNI%23])\n",
    "\n",
    "def comprobar_dni(dni, letra):\n",
    "    letras = 'TRWAGMYFPDXBNJZSQVHLCKE'\n",
    "    letra_correcta = letras[dni % 23]\n",
    "    dni_str = str(dni)\n",
    "\n",
    "    if len(dni_str) == 8 and letra.upper() == letra_correcta:\n",
    "        print(\"La letra del DNI introducida es correcta\")    \n",
    "        print(\"El DNI es válido:\", True)\n",
    "    else:\n",
    "        print(\"La letra del DNI introducida NO es correcta\")\n",
    "        print(\"El DNI es válido:\", False)\n",
    "\n",
    "comprobar_dni(72728566, \"j\")"
   ]
  },
  {
   "cell_type": "code",
   "execution_count": null,
   "metadata": {},
   "outputs": [],
   "source": []
  },
  {
   "cell_type": "code",
   "execution_count": null,
   "metadata": {},
   "outputs": [],
   "source": []
  }
 ],
 "metadata": {
  "colab": {
   "provenance": []
  },
  "kernelspec": {
   "display_name": "Python 3 (ipykernel)",
   "language": "python",
   "name": "python3"
  },
  "language_info": {
   "codemirror_mode": {
    "name": "ipython",
    "version": 3
   },
   "file_extension": ".py",
   "mimetype": "text/x-python",
   "name": "python",
   "nbconvert_exporter": "python",
   "pygments_lexer": "ipython3",
   "version": "3.13.7"
  }
 },
 "nbformat": 4,
 "nbformat_minor": 4
}
