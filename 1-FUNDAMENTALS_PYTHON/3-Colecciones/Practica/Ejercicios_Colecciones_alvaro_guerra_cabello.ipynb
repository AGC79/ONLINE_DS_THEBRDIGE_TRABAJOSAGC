{
 "cells": [
  {
   "cell_type": "markdown",
   "metadata": {},
   "source": [
    "![imagen](./img/ejercicios.png)"
   ]
  },
  {
   "cell_type": "markdown",
   "metadata": {},
   "source": [
    "## Ejercicio 1\n",
    "Dada la siguiente lista:\n",
    "> ```ejer_1 = [1,2,3,4,5]```\n",
    "\n",
    "Inviértela para que quede de la siguiente manera\n",
    "> ```ejer_1 = [5,4,3,2,1]```"
   ]
  },
  {
   "cell_type": "markdown",
   "metadata": {},
   "source": [
    "### OPCIÓN 1 SLICING"
   ]
  },
  {
   "cell_type": "code",
   "execution_count": 36,
   "metadata": {},
   "outputs": [],
   "source": [
    "ejer_1 = [1,2,3,4,5]"
   ]
  },
  {
   "cell_type": "code",
   "execution_count": 39,
   "metadata": {},
   "outputs": [],
   "source": [
    "ejer_1 = ejer_1[::-1]"
   ]
  },
  {
   "cell_type": "code",
   "execution_count": 40,
   "metadata": {},
   "outputs": [
    {
     "name": "stdout",
     "output_type": "stream",
     "text": [
      "[5, 4, 3, 2, 1]\n"
     ]
    }
   ],
   "source": [
    "print(ejer_1)"
   ]
  },
  {
   "cell_type": "code",
   "execution_count": 41,
   "metadata": {},
   "outputs": [],
   "source": [
    "ejer = ejer_1[-1::-1]"
   ]
  },
  {
   "cell_type": "code",
   "execution_count": 42,
   "metadata": {},
   "outputs": [
    {
     "name": "stdout",
     "output_type": "stream",
     "text": [
      "[5, 4, 3, 2, 1]\n"
     ]
    }
   ],
   "source": [
    "print(ejer_1)"
   ]
  },
  {
   "cell_type": "markdown",
   "metadata": {},
   "source": [
    "### OPCIÓN 2 SORTED"
   ]
  },
  {
   "cell_type": "code",
   "execution_count": 46,
   "metadata": {},
   "outputs": [
    {
     "name": "stdout",
     "output_type": "stream",
     "text": [
      "[5, 4, 3, 2, 1]\n"
     ]
    }
   ],
   "source": [
    "ejer_1 = [1,2,3,4,5]\n",
    "\n",
    "# Opción 1\n",
    "ejer_1 = sorted(ejer_1, reverse= True)\n",
    "print(ejer_1)"
   ]
  },
  {
   "cell_type": "markdown",
   "metadata": {},
   "source": [
    "### OPCIÓN 3 SORT"
   ]
  },
  {
   "cell_type": "code",
   "execution_count": 47,
   "metadata": {},
   "outputs": [
    {
     "name": "stdout",
     "output_type": "stream",
     "text": [
      "[5, 4, 3, 2, 1]\n"
     ]
    }
   ],
   "source": [
    "ejer_1 = [1,2,3,4,5]\n",
    "\n",
    "# Opción 2\n",
    "ejer_1.sort(reverse= True)\n",
    "print(ejer_1)"
   ]
  },
  {
   "cell_type": "markdown",
   "metadata": {},
   "source": [
    "### OPCIÓN 3 SORT"
   ]
  },
  {
   "cell_type": "code",
   "execution_count": 48,
   "metadata": {},
   "outputs": [
    {
     "name": "stdout",
     "output_type": "stream",
     "text": [
      "[5, 4, 3, 2, 1]\n"
     ]
    }
   ],
   "source": [
    "ejer_1 = [1,2,3,4,5]\n",
    "\n",
    "# Opción 3\n",
    "ejer_1.reverse()\n",
    "print(ejer_1)"
   ]
  },
  {
   "cell_type": "markdown",
   "metadata": {},
   "source": [
    "## Ejercicio 3\n",
    "Crea una lista nueva con todas las combinaciones de las siguientes dos listas:\n",
    "> ```ejer_3_1 = [\"Hola\", \"amigo\"]```\n",
    ">\n",
    "> ```ejer_3_2 = [\"Que\", \"tal\"]```\n",
    "\n",
    "Obten el siguiente output:\n",
    "\n",
    "```['Hola Que', 'Hola tal', 'amigo Que', 'amigo tal']```"
   ]
  },
  {
   "cell_type": "code",
   "execution_count": 9,
   "metadata": {},
   "outputs": [
    {
     "name": "stdout",
     "output_type": "stream",
     "text": [
      "['Hola', 'amigo', 'Que', 'tal']\n",
      "['Hola', 'amigo', 'Que', 'tal']\n"
     ]
    }
   ],
   "source": [
    "ejer_3_1 = [\"Hola\", \"amigo\"]\n",
    "ejer_3_2 = [\"Que\", \"tal\"]\n",
    "\n",
    "# Opción 1\n",
    "frase = ejer_3_1 + ejer_3_2\n",
    "print(frase)\n",
    "\n",
    "# Opción 2\n",
    "ejer_3_1.append(ejer_3_2)\n",
    "print(frase)"
   ]
  },
  {
   "cell_type": "code",
   "execution_count": null,
   "metadata": {},
   "outputs": [],
   "source": [
    "## CORRECION"
   ]
  },
  {
   "cell_type": "code",
   "execution_count": 51,
   "metadata": {},
   "outputs": [
    {
     "name": "stdout",
     "output_type": "stream",
     "text": [
      "['Hola Que', 'Hola tal', 'amigo Que', 'amigo tal']\n"
     ]
    }
   ],
   "source": [
    "ejer_3_1 = [\"Hola\", \"amigo\"]\n",
    "ejer_3_2 = [\"Que\", \"tal\"]\n",
    "\n",
    "ejer_3_sol = []\n",
    "\n",
    "for i in ejer_3_1:\n",
    "    for j in ejer_3_2:\n",
    "        ejer_3_sol.append(i + \" \" + j)\n",
    "print(ejer_3_sol)"
   ]
  },
  {
   "attachments": {},
   "cell_type": "markdown",
   "metadata": {},
   "source": [
    "## Ejercicio 4\n",
    "Dada la siguiente lista, encuentra por el índice el valor 45 y sustitúyelo por el 0\n",
    "> ```ejer_4 = [20, 47, 19, 29, 45, 67, 78, 90]```"
   ]
  },
  {
   "cell_type": "markdown",
   "metadata": {},
   "source": [
    "## OPCIÓN 1"
   ]
  },
  {
   "cell_type": "code",
   "execution_count": 14,
   "metadata": {},
   "outputs": [
    {
     "name": "stdout",
     "output_type": "stream",
     "text": [
      "El índice del valor 45 dentro de la lista es: 4\n",
      "[20, 47, 19, 29, 0, 67, 78, 90]\n"
     ]
    }
   ],
   "source": [
    "ejer_4 = [20, 47, 19, 29, 45, 67, 78, 90]\n",
    "print(\"El índice del valor 45 dentro de la lista es:\", ejer_4.index(45))\n",
    "ejer_4[4] = 0\n",
    "print(ejer_4)"
   ]
  },
  {
   "cell_type": "markdown",
   "metadata": {},
   "source": [
    "## OPCIÓN 2"
   ]
  },
  {
   "cell_type": "code",
   "execution_count": 52,
   "metadata": {},
   "outputs": [
    {
     "name": "stdout",
     "output_type": "stream",
     "text": [
      "El índice del valor 45 dentro de la lista es: 4\n",
      "[20, 47, 19, 29, 0, 67, 78, 90]\n"
     ]
    }
   ],
   "source": [
    "ejer_4 = [20, 47, 19, 29, 45, 67, 78, 90]\n",
    "print(\"El índice del valor 45 dentro de la lista es:\", ejer_4.index(45))\n",
    "ejer_4[ejer_4.index(45)] = 0\n",
    "print(ejer_4)"
   ]
  },
  {
   "cell_type": "markdown",
   "metadata": {},
   "source": [
    "## Ejercicio 5\n",
    "Dada la siguiente lista, elimina todos los valores iguales a 3\n",
    "> ```ejer_5 = [3, 20, 3, 47, 19, 3, 29, 45, 67, 78, 90, 3, 3]```\n",
    "\n",
    "TIP: No intentes eliminar elementos sobre la lista que estás iterando. Haz una copia con `ejer_5.copy()`."
   ]
  },
  {
   "cell_type": "code",
   "execution_count": 56,
   "metadata": {},
   "outputs": [
    {
     "name": "stdout",
     "output_type": "stream",
     "text": [
      "[3, 20, 3, 47, 19, 3, 29, 45, 67, 78, 90, 3, 3]\n",
      "[3, 20, 3, 47, 19, 3, 29, 45, 67, 78, 90, 3, 3]\n",
      "[20, 47, 19, 29, 45, 67, 78, 90]\n"
     ]
    }
   ],
   "source": [
    "# OPCIÓN 1\n",
    "ejer_5 = [3, 20, 3, 47, 19, 3, 29, 45, 67, 78, 90, 3, 3]\n",
    "print(ejer_5)\n",
    "\n",
    "ejer_5_copia = ejer_5.copy()\n",
    "print(ejer_5_copia)\n",
    "\n",
    "for i in range(len(ejer_5_copia) - 1, -1, -1 ):\n",
    "    if ejer_5_copia[i] == 3:\n",
    "        ejer_5_copia.pop(i)\n",
    "\n",
    "print(ejer_5_copia)"
   ]
  },
  {
   "cell_type": "code",
   "execution_count": 57,
   "metadata": {},
   "outputs": [
    {
     "name": "stdout",
     "output_type": "stream",
     "text": [
      "[3, 20, 3, 47, 19, 3, 29, 45, 67, 78, 90, 3, 3]\n",
      "[20, 47, 19, 29, 45, 67, 78, 90]\n"
     ]
    }
   ],
   "source": [
    "# OPCIÓN 2\n",
    "ejer_5 = [3, 20, 3, 47, 19, 3, 29, 45, 67, 78, 90, 3, 3]\n",
    "print(ejer_5)\n",
    "\n",
    "ejer_5_copia = [3, 20, 3, 47, 19, 3, 29, 45, 67, 78, 90, 3, 3]\n",
    "\n",
    "while 3 in ejer_5_copia:\n",
    "    ejer_5_copia.remove(3)\n",
    "\n",
    "print(ejer_5_copia)"
   ]
  },
  {
   "cell_type": "code",
   "execution_count": 58,
   "metadata": {},
   "outputs": [
    {
     "name": "stdout",
     "output_type": "stream",
     "text": [
      "[20, 47, 19, 29, 45, 67, 78, 90]\n"
     ]
    }
   ],
   "source": [
    "ejer_5 = [3, 20, 3, 47, 19, 3, 29, 45, 67, 78, 90, 3, 3]\n",
    "\n",
    "for i in ejer_5.copy():\n",
    "    if i == 3:\n",
    "        ejer_5.remove(i)\n",
    "\n",
    "print(ejer_5)"
   ]
  },
  {
   "attachments": {},
   "cell_type": "markdown",
   "metadata": {},
   "source": [
    "## Ejercicio 6\n",
    "1. Crea una tupla con 3 elementos\n",
    "2. Crea otra tupla con un elemento y comprueba su tipo\n",
    "3. Crea una tupla con elementos de diferentes tipos\n",
    "4. Imprime por pantalla el primer y último elemento de la tupla del apartado 3. Usa `len` para el último\n",
    "5. Añade un elemento a la tupla del apartado 3.\n",
    "6. Eliminar un elemento de la tupla del apartado 5, que se encuentre más o menos en la mitad.\n",
    "7. Convierte la tupla del apartado 5 en una lista"
   ]
  },
  {
   "cell_type": "code",
   "execution_count": 70,
   "metadata": {},
   "outputs": [
    {
     "name": "stdout",
     "output_type": "stream",
     "text": [
      "<class 'tuple'>\n",
      "(1,) <class 'tuple'>\n",
      "<class 'tuple'>\n",
      "25\n",
      "[1, 2, 3]\n",
      "[1, 2, 3]\n",
      "(25, 3.5, 'Alvaro', True, [1, 2, 3], 'Vitoria')\n",
      "[25, 3.5, 'Alvaro', True, [1, 2, 3], 'Vitoria']\n",
      "(25, 3.5, 'Alvaro', [1, 2, 3], 'Vitoria')\n",
      "[25, 3.5, 'Alvaro', [1, 2, 3], 'Vitoria']\n"
     ]
    }
   ],
   "source": [
    "# Tupla con 3 elementos\n",
    "tupla_01 = (1, 2, 3)\n",
    "print(type(tupla_01))\n",
    "\n",
    "# Tupla con 1 elemento\n",
    "tupla_02 = (1,)\n",
    "print(tupla_02, type(tupla_02))\n",
    "\n",
    "# Tupla con elementos de diferentes tipos\n",
    "tupla_03 = (25, 3.5, \"Alvaro\", True, [1, 2, 3])\n",
    "print(type(tupla_03))\n",
    "print(tupla_03[0])\n",
    "print(tupla_03[-1])\n",
    "print(tupla_03[len(tupla_03) - 1])\n",
    "\n",
    "# Elemento añadido a tupla anterior\n",
    "tupla_4 = (\"Vitoria\",)\n",
    "tupla_03 = tupla_03 + tupla_4\n",
    "print(tupla_03)\n",
    "\n",
    "# Eliminar un elemento de la tupla del apartado 5, que se encuentre más o menos en la mitad.\n",
    "lista_tup = list(tupla_03)\n",
    "print(lista_tup)\n",
    "lista_tup.pop(len(tupla_03)//2)\n",
    "# lista_tup.remove(True)\n",
    "tupla_03 = tuple(lista_tup)\n",
    "print(tupla_03)\n",
    "\n",
    "# Tupla anterior convertida a lista\n",
    "lista_nueva = list(tupla_03)\n",
    "print(lista_nueva)\n"
   ]
  },
  {
   "attachments": {},
   "cell_type": "markdown",
   "metadata": {},
   "source": [
    "## Ejercicio 7\n",
    "Concatena todos los elementos de la tupla en un único string. Para ello utiliza el metodo `.join()` de los Strings\n",
    "> ```ejer_7 = (\"cien\", \"cañones\", \"por\", \"banda\")```\n",
    "\n",
    "Resultado: `cien cañones por banda`"
   ]
  },
  {
   "cell_type": "code",
   "execution_count": 9,
   "metadata": {},
   "outputs": [
    {
     "name": "stdout",
     "output_type": "stream",
     "text": [
      "cien cañones por banda\n"
     ]
    }
   ],
   "source": [
    "ejer_7 = (\"cien\", \"cañones\", \"por\", \"banda\")\n",
    "\n",
    "frase = ' '.join(ejer_7)\n",
    "print(frase)"
   ]
  },
  {
   "cell_type": "code",
   "execution_count": 72,
   "metadata": {},
   "outputs": [
    {
     "name": "stdout",
     "output_type": "stream",
     "text": [
      "cien cañones por banda\n"
     ]
    }
   ],
   "source": [
    "# Esto técnicamente no vale para el ejercicio\n",
    "print(*ejer_7)"
   ]
  },
  {
   "cell_type": "markdown",
   "metadata": {},
   "source": [
    "## Ejercicio 8\n",
    "Obten el tercer elemento de la siguiente tupla, y el tercero empezando por la cola\n",
    "> ```ejer_8 = (3, 20, 3, 47, 19, 3, 29, 45, 67, 78, 90, 3, 3)```"
   ]
  },
  {
   "cell_type": "code",
   "execution_count": 65,
   "metadata": {},
   "outputs": [
    {
     "name": "stdout",
     "output_type": "stream",
     "text": [
      "3\n",
      "90\n"
     ]
    }
   ],
   "source": [
    "ejer_8 = (3, 20, 3, 47, 19, 3, 29, 45, 67, 78, 90, 3, 3)\n",
    "\n",
    "elemento_3 = ejer_8[2]\n",
    "print(elemento_3)\n",
    "\n",
    "elemento_10 = ejer_8[-3]\n",
    "print(elemento_10)"
   ]
  },
  {
   "cell_type": "markdown",
   "metadata": {},
   "source": [
    "## Ejercicio 11\n",
    "Convierte la siguiente lista en un diccionario\n",
    "> ```ejer_11 = [(\"x\", 1), (\"x\", 2), (\"x\", 3), (\"y\", 1), (\"y\", 2), (\"z\", 1)]```\n",
    "\n",
    "TIP: Puedes usar dos variables de control en un bucle `for`. Una por cada valor de las tuplas."
   ]
  },
  {
   "cell_type": "code",
   "execution_count": null,
   "metadata": {},
   "outputs": [
    {
     "name": "stdout",
     "output_type": "stream",
     "text": [
      "{'x': 3, 'y': 2, 'z': 1}\n"
     ]
    }
   ],
   "source": [
    "# OPCIÓN 1\n",
    "ejer_11 = [(\"x\", 1), (\"x\", 2), (\"x\", 3), (\"y\", 1), (\"y\", 2), (\"z\", 1)]\n",
    "\n",
    "diccionario = {}\n",
    "\n",
    "for clave, valor in ejer_11:  \n",
    "    diccionario[clave] = valor  \n",
    "\n",
    "print(diccionario)"
   ]
  },
  {
   "cell_type": "markdown",
   "metadata": {},
   "source": [
    "#### Cuando se repiten claves, es mejor mejor perder claves que valores, que son los datos "
   ]
  },
  {
   "cell_type": "code",
   "execution_count": 12,
   "metadata": {},
   "outputs": [
    {
     "name": "stdout",
     "output_type": "stream",
     "text": [
      "{'x': [1, 2, 3], 'y': [1, 2], 'z': [1]}\n"
     ]
    }
   ],
   "source": [
    "# OPCIÓN 2. \n",
    "ejer_11 = [(\"x\", 1), (\"x\", 2), (\"x\", 3), (\"y\", 1), (\"y\", 2), (\"z\", 1)]\n",
    "\n",
    "diccionario = {}\n",
    "\n",
    "for clave, valor in ejer_11:  \n",
    "    if clave not in diccionario:\n",
    "        diccionario[clave] = []\n",
    "    diccionario[clave].append(valor)\n",
    "\n",
    "print(diccionario)"
   ]
  },
  {
   "cell_type": "code",
   "execution_count": 81,
   "metadata": {},
   "outputs": [
    {
     "name": "stdout",
     "output_type": "stream",
     "text": [
      "[('x', 1), ('x', 2), ('x', 3), ('y', 1), ('y', 2), ('z', 1)]\n"
     ]
    }
   ],
   "source": [
    "# OPCIÓN 2. \n",
    "ejer_11 = [(\"x\", 1), (\"x\", 2), (\"x\", 3), (\"y\", 1), (\"y\", 2), (\"z\", 1)]\n",
    "\n",
    "diccionario = {}\n",
    "var = 0\n",
    "\n",
    "for clave, valor in ejer_11:  \n",
    "    if clave in ejer_11:\n",
    "        var = var + 1\n",
    "        clave = clave + str(var)\n",
    "    diccionario[clave] = valor\n",
    "\n",
    "print(ejer_11)"
   ]
  },
  {
   "cell_type": "code",
   "execution_count": 79,
   "metadata": {},
   "outputs": [
    {
     "name": "stdout",
     "output_type": "stream",
     "text": [
      "[('x', 1), ('x', 2), ('x', 3), ('y', 1), ('y', 2), ('z', 1)]\n"
     ]
    }
   ],
   "source": [
    "lista_11_1 = [(\"x\", 1), (\"x\", 2), (\"x\", 3), (\"y\", 1), (\"y\", 2), (\"z\", 1)]\n",
    "diccionario = {}\n",
    "var = 0\n",
    "for clave, valor in lista_11_1:\n",
    "    if clave in diccionario:\n",
    "        var = var +1\n",
    "        clave = clave + str(var)\n",
    "    diccionario[clave]=valor\n",
    "print(lista_11_1)"
   ]
  },
  {
   "attachments": {},
   "cell_type": "markdown",
   "metadata": {},
   "source": [
    "## Ejercicio 12\n",
    "1. Crea una lista ordenada ascendente con las claves del diccionario\n",
    "2. Crea otra lista ordenada descendente con los valores\n",
    "3. Añade una nueva clave/valor\n",
    "4. Busca la clave igual a 2 dentro del diccionario\n",
    "5. Itera la clave y el valor del diccionario con un único for\n",
    "> ```ejer_12 = {4:78, 2:98, 8:234, 5:29}```"
   ]
  },
  {
   "cell_type": "code",
   "execution_count": null,
   "metadata": {},
   "outputs": [
    {
     "name": "stdout",
     "output_type": "stream",
     "text": [
      "[2, 4, 5, 8]\n",
      "[234, 98, 78, 29]\n",
      "{4: 78, 2: 98, 8: 234, 5: 29, 1: 256}\n",
      "98\n",
      "Clave:  4 ------------- Valor:  78\n",
      "Clave:  2 ------------- Valor:  98\n",
      "Clave:  8 ------------- Valor:  234\n",
      "Clave:  5 ------------- Valor:  29\n",
      "Clave:  1 ------------- Valor:  256\n"
     ]
    }
   ],
   "source": [
    "ejer_12 = {4:78, 2:98, 8:234, 5:29}\n",
    "\n",
    "# Lista ordenada ascendente con las claves del diccionario\n",
    "lista_claves = list(ejer_12.keys())\n",
    "lista_claves.sort()\n",
    "print(lista_claves)\n",
    "\n",
    "# Lista ordenada descendente con los valores\n",
    "lista_claves = list(ejer_12.values())\n",
    "lista_claves.sort(reverse = True)\n",
    "print(lista_claves)\n",
    "\n",
    "# Nueva clave/valor añadida\n",
    "ejer_12[1] = 256\n",
    "print(ejer_12)\n",
    "\n",
    "# La clave 2 existe porque devuelve un valor\n",
    "clave_2 = ejer_12.get(2)\n",
    "print(clave_2)\n",
    "\n",
    "# Iteración de la clave y el valor del diccionario con un único for\n",
    "for clave in ejer_12:\n",
    "    print(\"Clave: \", clave, \"-------------\", \"Valor: \", ejer_12[clave])"
   ]
  },
  {
   "cell_type": "code",
   "execution_count": 91,
   "metadata": {},
   "outputs": [
    {
     "name": "stdout",
     "output_type": "stream",
     "text": [
      "[2, 4, 5, 8]\n",
      "[234, 98, 78, 29]\n",
      "clave: 4 ------------- valor: 78\n",
      "clave: 2 ------------- valor: 98\n",
      "clave: 8 ------------- valor: 234\n",
      "clave: 5 ------------- valor: 29\n"
     ]
    }
   ],
   "source": [
    "ejer_12 = {4:78, 2:98, 8:234, 5:29}\n",
    "\n",
    "lista_12 = sorted(ejer_12.keys())\n",
    "print(lista_12)\n",
    "\n",
    "lista_12_2 = sorted(ejer_12.values(), reverse = True)\n",
    "print(lista_12_2)\n",
    "\n",
    "for clave, valor in ejer_12.items():\n",
    "    print(\"clave:\", clave, \"-------------\", \"valor:\", valor)"
   ]
  },
  {
   "cell_type": "markdown",
   "metadata": {},
   "source": [
    "## Ejercicio 13\n",
    "Junta ambos diccionarios. Para ello, utiliza `update`\n",
    "> ```ejer_13_1 = {1: 11, 2: 22}```\n",
    ">\n",
    "> ```ejer_13_2 = {3: 33, 4: 44}```"
   ]
  },
  {
   "cell_type": "code",
   "execution_count": 13,
   "metadata": {},
   "outputs": [
    {
     "name": "stdout",
     "output_type": "stream",
     "text": [
      "{1: 11, 2: 22, 3: 33, 4: 44}\n"
     ]
    }
   ],
   "source": [
    "ejer_13_1 = {1: 11, 2: 22}\n",
    "ejer_13_2 = {3: 33, 4: 44}\n",
    "\n",
    "ejer_13_1.update(ejer_13_2)\n",
    "print(ejer_13_1)"
   ]
  },
  {
   "cell_type": "markdown",
   "metadata": {},
   "source": [
    "## Ejercicio 14\n",
    "Suma todos los valores del dicionario\n",
    "> ```ejer_14 = {1: 11, 2: 22, 3: 33, 4: 44, 5: 55}```"
   ]
  },
  {
   "cell_type": "code",
   "execution_count": 105,
   "metadata": {},
   "outputs": [
    {
     "name": "stdout",
     "output_type": "stream",
     "text": [
      "La suma de todos los valores del diccionario es  165\n"
     ]
    }
   ],
   "source": [
    "ejer_14 = {1: 11, 2: 22, 3: 33, 4: 44, 5: 55}\n",
    "\n",
    "suma = 0\n",
    "\n",
    "for clave in ejer_14:\n",
    "    # print(ejer_14[clave])\n",
    "    suma += ejer_14[clave]\n",
    "\n",
    "print(\"La suma de todos los valores del diccionario es \", suma)"
   ]
  },
  {
   "cell_type": "code",
   "execution_count": 6,
   "metadata": {},
   "outputs": [
    {
     "name": "stdout",
     "output_type": "stream",
     "text": [
      "165\n",
      "165\n"
     ]
    }
   ],
   "source": [
    "ejer_14_2 = {1: 11, 2: 22, 3: 33, 4: 44, 5: 55}\n",
    "\n",
    "# print(ejer_14_2.values())\n",
    "\n",
    "print(sum(list((ejer_14_2.values()))))\n",
    "\n",
    "# No hace falta list\n",
    "print(sum((ejer_14_2.values())))\n"
   ]
  },
  {
   "cell_type": "markdown",
   "metadata": {},
   "source": [
    "## Ejercicio 15\n",
    "Multiplica todos los valores del diccionario\n",
    "> ```ejer_15 = {1: 11, 2: 22, 3: 33, 4: 44, 5: 55}```"
   ]
  },
  {
   "cell_type": "code",
   "execution_count": 106,
   "metadata": {},
   "outputs": [
    {
     "name": "stdout",
     "output_type": "stream",
     "text": [
      "La multiplicación de todos los valores del diccionario es  19326120\n"
     ]
    }
   ],
   "source": [
    "ejer_15 = {1: 11, 2: 22, 3: 33, 4: 44, 5: 55}\n",
    "\n",
    "multi = 1\n",
    "\n",
    "for clave in ejer_14:\n",
    "    # print(ejer_14[clave])\n",
    "    multi *= ejer_14[clave]\n",
    "\n",
    "print(\"La multiplicación de todos los valores del diccionario es \", multi)"
   ]
  },
  {
   "cell_type": "code",
   "execution_count": 95,
   "metadata": {},
   "outputs": [
    {
     "name": "stdout",
     "output_type": "stream",
     "text": [
      "19326120\n"
     ]
    }
   ],
   "source": [
    "ejer_15 = {1: 11, 2: 22, 3: 33, 4: 44, 5: 55}\n",
    "\n",
    "import math\n",
    "\n",
    "print(math.prod(list(ejer_15.values())))"
   ]
  },
  {
   "cell_type": "markdown",
   "metadata": {},
   "source": [
    "## Ejercicio 16\n",
    "1. Crea un set de tres elementos\n",
    "2. Añade un cuarto\n",
    "3. Elimina el último elemento añadido\n",
    "4. Elimina el elemento 10, si está presente. Usa `discard()`"
   ]
  },
  {
   "cell_type": "code",
   "execution_count": 16,
   "metadata": {},
   "outputs": [
    {
     "name": "stdout",
     "output_type": "stream",
     "text": [
      "{25, 10, 52} <class 'set'>\n",
      "{89, 25, 10, 52}\n",
      "{25, 10, 52}\n",
      "{25, 52}\n"
     ]
    }
   ],
   "source": [
    "# Set de 3 elementos\n",
    "numeros = {52, 10, 25}\n",
    "print(numeros, type(numeros))\n",
    "\n",
    "# Cuarto elemento añadido al set\n",
    "numeros.add(89)\n",
    "print(numeros)\n",
    "\n",
    "# Remove da error si el número no existe\n",
    "numeros.remove(89)\n",
    "print(numeros)\n",
    "\n",
    "# Discard no da error si el número no existe\n",
    "numeros.discard(10)\n",
    "print(numeros)"
   ]
  }
 ],
 "metadata": {
  "kernelspec": {
   "display_name": "Python 3",
   "language": "python",
   "name": "python3"
  },
  "language_info": {
   "codemirror_mode": {
    "name": "ipython",
    "version": 3
   },
   "file_extension": ".py",
   "mimetype": "text/x-python",
   "name": "python",
   "nbconvert_exporter": "python",
   "pygments_lexer": "ipython3",
   "version": "3.11.4"
  }
 },
 "nbformat": 4,
 "nbformat_minor": 4
}
