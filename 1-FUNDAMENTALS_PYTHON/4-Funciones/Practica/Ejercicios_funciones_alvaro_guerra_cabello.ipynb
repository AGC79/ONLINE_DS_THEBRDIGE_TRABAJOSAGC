{
  "cells": [
    {
      "cell_type": "markdown",
      "metadata": {
        "id": "AyOlWS2nRWxH"
      },
      "source": [
        "## PRACTICA OBLIGATORIA: COLECCIONES Y FUNCIONES"
      ]
    },
    {
      "cell_type": "markdown",
      "metadata": {
        "id": "6UOgb0KVRWxH"
      },
      "source": [
        "* La práctica obligatoria de esta unidad consiste varios ejercicios de programación libre a completar sobre Colecciones y Funciones. Descarga este notebook en tu ordenador y trabaja en local.  \n",
        "* Recuerda que debes subirla a tu repositorio personal antes de la sesión en vivo para que puntúe adecuadamente y puedas participar en dicha sesión.  \n",
        "* Recuerda también que no es necesario que esté perfecta, sólo es necesario que se vea el esfuerzo.\n",
        "* Esta práctica se resolverá en la sesión en vivo correspondiente y la solución se publicará en el repo del curso."
      ]
    },
    {
      "cell_type": "markdown",
      "metadata": {
        "id": "j3yu-tEjRWxH"
      },
      "source": [
        "### Contenidos"
      ]
    },
    {
      "cell_type": "markdown",
      "metadata": {
        "id": "kO-fLH39RWxH"
      },
      "source": [
        "## Ejercicio 1\n",
        "Eleva todos los elementos de la lista al cuadrado\n",
        "> ```ejer_2 = [1,2,3,4,5]```"
      ]
    },
    {
      "cell_type": "code",
      "execution_count": null,
      "metadata": {
        "id": "ks5l3yi7RWxH"
      },
      "outputs": [
        {
          "name": "stdout",
          "output_type": "stream",
          "text": [
            "1 4 9 16 25 \n",
            "Lista con números elevados al cuadrado: [1, 4, 9, 16, 25]\n"
          ]
        }
      ],
      "source": [
        "ejer_2 = [1,2,3,4,5]\n",
        "ejer_2_cuadrados = []\n",
        "\n",
        "for num in ejer_2:\n",
        "    num = num ** 2 \n",
        "    print(num, end = \" \")\n",
        "    ejer_2_cuadrados.append(num)\n",
        "\n",
        "print()\n",
        "print(f\"Lista con números elevados al cuadrado: {ejer_2_cuadrados}\")"
      ]
    },
    {
      "cell_type": "code",
      "execution_count": 5,
      "metadata": {},
      "outputs": [
        {
          "name": "stdout",
          "output_type": "stream",
          "text": [
            "[1, 4, 9, 16]\n",
            "[16, 36, 64, 256]\n",
            "[16, 36, 64, 256]\n"
          ]
        }
      ],
      "source": [
        "def cuadrado(lista): \n",
        "    try:\n",
        "        ejer_2_cuadrados = []\n",
        "\n",
        "        for num in lista:\n",
        "            num = num ** 2 \n",
        "            ejer_2_cuadrados.append(num)\n",
        "        \n",
        "        return ejer_2_cuadrados\n",
        "    except:\n",
        "        return \"Tipo de lista incorrecto. Se piden listas\"\n",
        "\n",
        "\n",
        "ejer2 = [1, 2, 3, 4]\n",
        "ejer2_1 = [4, 6, 8, 16]\n",
        "ejer2_3 = (4, 6, 8, 16)\n",
        "\n",
        "lista1 = cuadrado(ejer2)\n",
        "print(lista1)\n",
        "\n",
        "lista2 = cuadrado(ejer2_1)\n",
        "print(lista2)\n",
        "\n",
        "lista3 = cuadrado(ejer2_3)\n",
        "print(lista3)"
      ]
    },
    {
      "cell_type": "markdown",
      "metadata": {
        "id": "kI_Xr5oFRWxI"
      },
      "source": [
        "## Ejercicio 2\n",
        "Haz un programa que detecte todos los duplicados de un elemento en una lista:\n",
        "* Utiliza una variable duplicado para asignarle el valor del elemento del que queremos encontrar todos sus duplicados.\n",
        "* El programa debe devolver todos los índices de los elementos duplicados.\n",
        "* Aplícalo para encontrar los duplicados de \"un\", \"es\" y \"binario\" de:  \n",
        "\n",
        ">```ejer_3 = [\"Un\", \"árbol\", \"binario\", \"es\", \"una\", \"estructura\", \"de\", \"un\", \"tipo\", \"particular\", \"a\", \"veces\", \"no\", \"es\", \"ni\", \"binario\"]```\n"
      ]
    },
    {
      "cell_type": "code",
      "execution_count": null,
      "metadata": {
        "id": "cLY9WB7YRWxI"
      },
      "outputs": [
        {
          "name": "stdout",
          "output_type": "stream",
          "text": [
            "['Un', 'árbol', 'binario', 'es', 'una', 'estructura', 'de', 'un', 'tipo', 'particular', 'a', 'veces', 'no', 'es', 'ni', 'binario']\n",
            "Palabras duplicadas en la lista: ['un', 'binario', 'es']\n",
            "\n",
            "El string \"un\" aparece en los índices:\n",
            "0\n",
            "7\n",
            "El string \"binario\" aparece en los índices:\n",
            "2\n",
            "15\n",
            "El string \"es\" aparece en los índices:\n",
            "3\n",
            "13\n"
          ]
        }
      ],
      "source": [
        "ejer_3 = [\"Un\", \"árbol\", \"binario\", \"es\", \"una\", \"estructura\", \"de\", \"un\", \"tipo\", \"particular\", \"a\", \"veces\", \"no\", \"es\", \"ni\", \"binario\"]\n",
        "print(ejer_3)\n",
        "\n",
        "duplicados = []\n",
        "\n",
        "for i in range(len(ejer_3)):\n",
        "    palabra = ejer_3[i].lower()\n",
        "    for j in range(i + 1, len(ejer_3)):\n",
        "        if palabra == ejer_3[j].lower():\n",
        "            duplicados.append(palabra)\n",
        "\n",
        "print(\"Palabras duplicadas en la lista:\", duplicados)\n",
        "print()\n",
        "\n",
        "for palabra in duplicados:\n",
        "    print(f\"El string \\\"{palabra}\\\" aparece en los índices:\")\n",
        "    for i, palabra_lista in enumerate(ejer_3):\n",
        "        if palabra == palabra_lista.lower():\n",
        "            print(i)"
      ]
    },
    {
      "cell_type": "code",
      "execution_count": null,
      "metadata": {},
      "outputs": [
        {
          "name": "stdout",
          "output_type": "stream",
          "text": [
            "0 Un\n",
            "1 árbol\n",
            "2 binario\n",
            "3 es\n",
            "4 una\n",
            "5 estructura\n",
            "6 de\n",
            "7 un\n",
            "8 tipo\n",
            "9 particular\n",
            "10 a\n",
            "11 veces\n",
            "12 no\n",
            "13 es\n",
            "14 ni\n",
            "15 binario\n"
          ]
        }
      ],
      "source": [
        "ejer_3 = [\"Un\", \"árbol\", \"binario\", \"es\", \"una\", \"estructura\", \"de\", \"un\", \"tipo\", \"particular\", \"a\", \"veces\", \"no\", \"es\", \"ni\", \"binario\"]\n",
        "\n",
        "for i,j in enumerate(ejer_3):\n",
        "    print(i, j)\n",
        "    j = j.lower()\n",
        "    if j"
      ]
    },
    {
      "cell_type": "markdown",
      "metadata": {
        "id": "3WrBd5QaRWxI"
      },
      "source": [
        "## Ejercicio 3\n",
        "1. ¿Cuántas veces se repite el 3 en la siguiente tupla?\n",
        "2. Crea una tupla nueva con los elementos desde la posicion 5 a la 10.\n",
        "3. ¿Cuántos elementos tiene la tupla `ejer_3`?\n",
        "> ```ejer_9 = (3, 20, 3, 47, 19, 3, 29, 45, 67, 78, 90, 3, 3, 5, 2, 4, 7, 9, 4, 2, 4, 3, 3, 4, 6, 7)```"
      ]
    },
    {
      "cell_type": "code",
      "execution_count": 11,
      "metadata": {
        "id": "bkv_R5LYRWxI"
      },
      "outputs": [
        {
          "name": "stdout",
          "output_type": "stream",
          "text": [
            "El número 3 se repite en la lista 7 veces.\n",
            "(19, 3, 29, 45, 67, 78)\n",
            "La tupla creada tiene 6 elementos.\n"
          ]
        }
      ],
      "source": [
        "ejer_9 = (3, 20, 3, 47, 19, 3, 29, 45, 67, 78, 90, 3, 3, 5, 2, 4, 7, 9, 4, 2, 4, 3, 3, 4, 6, 7)\n",
        "\n",
        "print(\"El número 3 se repite en la lista\", ejer_9.count(3), \"veces.\")\n",
        "\n",
        "tupla_01 = tuple(ejer_9[4:10])\n",
        "print(tupla_01)\n",
        "\n",
        "print(\"La tupla creada tiene\", len(tupla_01), \"elementos.\")"
      ]
    },
    {
      "cell_type": "markdown",
      "metadata": {
        "id": "6g8Y54AeRWxI"
      },
      "source": [
        "## Ejercicio 4\n",
        "Comprueba si el numero 60 esta en la tupla del ejercicio 3"
      ]
    },
    {
      "cell_type": "code",
      "execution_count": 16,
      "metadata": {
        "id": "F8VTEZonRWxI"
      },
      "outputs": [
        {
          "name": "stdout",
          "output_type": "stream",
          "text": [
            "El número 60 no aparece en la tupla.\n",
            "El número 60 no aparece en la tupla.\n",
            "Mensaje Python de error: tuple.index(x): x not in tuple\n",
            "El número 60 no aparece en la tupla.\n"
          ]
        },
        {
          "data": {
            "text/plain": [
              "0"
            ]
          },
          "execution_count": 16,
          "metadata": {},
          "output_type": "execute_result"
        }
      ],
      "source": [
        "# Comprobación 1\n",
        "numero = 60\n",
        "encontrado = False\n",
        "for num in tupla_01: \n",
        "    if num == numero:\n",
        "        encontrado = True\n",
        "if encontrado:\n",
        "    print(f\"El número {numero} aparece en la tupla.\")\n",
        "else:\n",
        "    print(f\"El número {numero} no aparece en la tupla.\")\n",
        "\n",
        "# Comprobación 2\n",
        "numero = 60\n",
        "encontrado = False\n",
        "\n",
        "if numero in tupla_01:\n",
        "    print(f\"El número {numero} aparece en la tupla.\")\n",
        "else:\n",
        "    print(f\"El número {numero} no aparece en la tupla.\")\n",
        "\n",
        "# Comprobación 3\n",
        "try:\n",
        "    tupla_01.index(numero)\n",
        "except Exception as e: \n",
        "    print(f\"Mensaje Python de error: {e}\")\n",
        "    print(f\"El número {numero} no aparece en la tupla.\")\n",
        "    \n",
        "# Comprobación 3\n",
        "ejer_3.count(60)"
      ]
    },
    {
      "cell_type": "markdown",
      "metadata": {
        "id": "y0fg-ZA6RWxI"
      },
      "source": [
        "## Ejercicio 5\n",
        "1. Convierte la tupla del ejercicio 3 en una lista\n",
        "2. Convierte la tupla del ejercicio 3 en un set\n",
        "3. Convierte la tupla del ejercicio 3 en un diccionario. Usa también los indices"
      ]
    },
    {
      "cell_type": "code",
      "execution_count": 19,
      "metadata": {
        "id": "_O5hXr01RWxI"
      },
      "outputs": [
        {
          "name": "stdout",
          "output_type": "stream",
          "text": [
            "[19, 3, 29, 45, 67, 78]\n",
            "{3, 67, 45, 78, 19, 29}\n",
            "{0: 19, 1: 3, 2: 29, 3: 45, 4: 67, 5: 78}\n",
            "{0: 19, 1: 3, 2: 29, 3: 45, 4: 67, 5: 78}\n",
            "{0: 19, 1: 3, 2: 29, 3: 45, 4: 67, 5: 78}\n"
          ]
        }
      ],
      "source": [
        "# Conversión tupla a lista\n",
        "lista_01_tup = list(tupla_01)\n",
        "print(lista_01_tup)\n",
        "\n",
        "# Conversión tupla a set\n",
        "set_01_tup = set(tupla_01)\n",
        "print(set_01_tup)\n",
        "\n",
        "# Conversión tupla a diccionario opción 1\n",
        "dict_01_tup = {}\n",
        "for clave, valor in enumerate(tupla_01):\n",
        "    dict_01_tup[clave] = valor\n",
        "print(dict_01_tup)\n",
        "\n",
        "# Conversión tupla a diccionario opción 2\n",
        "dict_02_tup = {}\n",
        "for i in range(len(tupla_01)):\n",
        "    dict_02_tup[i] = tupla_01[i]\n",
        "print(dict_02_tup)\n",
        "\n",
        "dict_03_tup = dict(enumerate(tupla_01))\n",
        "print(dict_03_tup)"
      ]
    },
    {
      "cell_type": "markdown",
      "metadata": {
        "id": "eOdWWbxvRWxJ"
      },
      "source": [
        "## Ejercicio 6\n",
        "Multiplica todos los valores del diccionario\n",
        "> ```ejer_6 = {1: 11, 2: 22, 3: 33, 4: 44, 5: 55}```"
      ]
    },
    {
      "cell_type": "code",
      "execution_count": 77,
      "metadata": {
        "id": "KcuByovKRWxJ"
      },
      "outputs": [
        {
          "name": "stdout",
          "output_type": "stream",
          "text": [
            "19326120\n",
            "19326120\n",
            "19326120\n",
            "19326120\n"
          ]
        }
      ],
      "source": [
        "ejer_6 = {1: 11, 2: 22, 3: 33, 4: 44, 5: 55}\n",
        "multi = 1\n",
        "\n",
        "# OPCION 1\n",
        "for valor in ejer_6.values():\n",
        "    multi *= valor\n",
        "\n",
        "print(multi)\n",
        "\n",
        "# OPCION 2\n",
        "multi_02 = 1\n",
        "for clave in ejer_6.keys():\n",
        "    multi_02 *= ejer_6[clave]\n",
        "\n",
        "print(multi_02)\n",
        "\n",
        "# OPCION 3\n",
        "multi_03 = 1\n",
        "for clave in ejer_6:\n",
        "    multi_03 *= ejer_6[clave]\n",
        "\n",
        "print(multi_03)\n",
        "\n",
        "# OPCION 4\n",
        "multi_04 = 1\n",
        "for i, clave in enumerate(ejer_6):\n",
        "    multi_04 *= ejer_6[clave]\n",
        "\n",
        "print(multi_04)"
      ]
    },
    {
      "cell_type": "markdown",
      "metadata": {
        "id": "W7TUSaKRRWxJ"
      },
      "source": [
        "## Ejercicio 7\n",
        "\n",
        "1. Crea un diccionario que describa un libro, con los siguientes campos o claves: \"titulo\",\"autor\",\"idioma original\",\"año de publicación\".\n",
        "2. Crea un a lista, llamada librería.\n",
        "3. Añade cuatro libros a tu elección a la librería."
      ]
    },
    {
      "cell_type": "code",
      "execution_count": 25,
      "metadata": {
        "id": "d-IMRvxRRWxJ"
      },
      "outputs": [
        {
          "name": "stdout",
          "output_type": "stream",
          "text": [
            "{'título': 'Crónica de una muerte anunciada', 'autor': 'Gabriel García Márquez', 'idioma original': 'Español', 'año de publicación': '1981'}\n",
            "[{'título': 'Crónica de una muerte anunciada', 'autor': 'Gabriel García Márquez', 'idioma original': 'Español', 'año de publicación': '1981'}, {'título': 'Rebelión en la granja', 'autor': 'George Orwell', 'idioma original': 'Inglés', 'año de publicación': '1945'}, {'título': 'Crimen y castigo', 'autor': 'Fiódor Dostoyevski', 'idioma original': 'Ruso', 'año de publicación': '1866'}, {'título': 'Madame Bovary', 'autor': 'Gustave Flaubert', 'idioma original': 'Francés', 'año de publicación': '1857'}]\n"
          ]
        },
        {
          "data": {
            "text/plain": [
              "<function list.extend(iterable, /)>"
            ]
          },
          "execution_count": 25,
          "metadata": {},
          "output_type": "execute_result"
        }
      ],
      "source": [
        "libro = {\n",
        "    \"título\": \"Crónica de una muerte anunciada\",\n",
        "    \"autor\": \"Gabriel García Márquez\",\n",
        "    \"idioma original\": \"Español\",\n",
        "    \"año de publicación\": \"1981\",\n",
        "}\n",
        "\n",
        "print(libro)\n",
        "\n",
        "libreria = []\n",
        "\n",
        "libreria.append({\n",
        "    \"título\": \"Crónica de una muerte anunciada\",\n",
        "    \"autor\": \"Gabriel García Márquez\",\n",
        "    \"idioma original\": \"Español\",\n",
        "    \"año de publicación\": \"1981\",\n",
        "})\n",
        "\n",
        "libreria.append({\n",
        "    \"título\": \"Rebelión en la granja\",\n",
        "    \"autor\": \"George Orwell\",\n",
        "    \"idioma original\": \"Inglés\",\n",
        "    \"año de publicación\": \"1945\",\n",
        "})\n",
        "\n",
        "libreria.append({\n",
        "    \"título\": \"Crimen y castigo\",\n",
        "    \"autor\": \"Fiódor Dostoyevski\",\n",
        "    \"idioma original\": \"Ruso\",\n",
        "    \"año de publicación\": \"1866\",\n",
        "})\n",
        "\n",
        "libreria.append({\n",
        "    \"título\": \"Madame Bovary\",\n",
        "    \"autor\": \"Gustave Flaubert\",\n",
        "    \"idioma original\": \"Francés\",\n",
        "    \"año de publicación\": \"1857\",\n",
        "})\n",
        "\n",
        "print(libreria)\n",
        "\n",
        "libreria02 = []\n",
        "\n",
        "libreria02.extend"
      ]
    },
    {
      "cell_type": "code",
      "execution_count": 24,
      "metadata": {},
      "outputs": [
        {
          "name": "stdout",
          "output_type": "stream",
          "text": [
            "[{'título': 'Crónica de una muerte anunciada', 'autor': 'Gabriel García Márquez', 'idioma original': 'Español', 'año de publicación': '1981'}, {'título': 'Rebelión en la granja', 'autor': 'George Orwell', 'idioma original': 'Inglés', 'año de publicación': '1945'}, {'título': 'Crimen y castigo', 'autor': 'Fiódor Dostoyevski', 'idioma original': 'Ruso', 'año de publicación': '1866'}, {'título': 'Madame Bovary', 'autor': 'Gustave Flaubert', 'idioma original': 'Francés', 'año de publicación': '1857'}]\n"
          ]
        }
      ],
      "source": [
        "libreria02 = []\n",
        "\n",
        "libro01 = {\n",
        "    \"título\": \"Crónica de una muerte anunciada\",\n",
        "    \"autor\": \"Gabriel García Márquez\",\n",
        "    \"idioma original\": \"Español\",\n",
        "    \"año de publicación\": \"1981\",\n",
        "}\n",
        "\n",
        "libro02 = {\n",
        "    \"título\": \"Rebelión en la granja\",\n",
        "    \"autor\": \"George Orwell\",\n",
        "    \"idioma original\": \"Inglés\",\n",
        "    \"año de publicación\": \"1945\",\n",
        "}\n",
        "\n",
        "libro03 = {\n",
        "    \"título\": \"Crimen y castigo\",\n",
        "    \"autor\": \"Fiódor Dostoyevski\",\n",
        "    \"idioma original\": \"Ruso\",\n",
        "    \"año de publicación\": \"1866\",\n",
        "}\n",
        "\n",
        "libro04 = {\n",
        "    \"título\": \"Madame Bovary\",\n",
        "    \"autor\": \"Gustave Flaubert\",\n",
        "    \"idioma original\": \"Francés\",\n",
        "    \"año de publicación\": \"1857\",\n",
        "}\n",
        "\n",
        "libreria02.extend([libro01, libro02, libro03, libro04])\n",
        "\n",
        "print(libreria02)"
      ]
    },
    {
      "cell_type": "markdown",
      "metadata": {
        "id": "glMoedjYRWxJ"
      },
      "source": [
        "## Ejercicio 8\n",
        "Modifica los valores del idioma de todos los libros del ejercicio anterior para que sea \"esperanto\"\n"
      ]
    },
    {
      "cell_type": "code",
      "execution_count": 26,
      "metadata": {
        "id": "veNdC-uwRWxJ"
      },
      "outputs": [
        {
          "name": "stdout",
          "output_type": "stream",
          "text": [
            "[{'título': 'Crónica de una muerte anunciada', 'autor': 'Gabriel García Márquez', 'idioma original': 'Esperanto', 'año de publicación': '1981'}, {'título': 'Rebelión en la granja', 'autor': 'George Orwell', 'idioma original': 'Esperanto', 'año de publicación': '1945'}, {'título': 'Crimen y castigo', 'autor': 'Fiódor Dostoyevski', 'idioma original': 'Esperanto', 'año de publicación': '1866'}, {'título': 'Madame Bovary', 'autor': 'Gustave Flaubert', 'idioma original': 'Esperanto', 'año de publicación': '1857'}]\n"
          ]
        }
      ],
      "source": [
        "for i in range(len(libreria)):\n",
        "    libreria[i][\"idioma original\"] = \"Esperanto\" \n",
        "\n",
        "print(libreria)\n"
      ]
    },
    {
      "cell_type": "code",
      "execution_count": 27,
      "metadata": {},
      "outputs": [
        {
          "name": "stdout",
          "output_type": "stream",
          "text": [
            "[{'título': 'Crónica de una muerte anunciada', 'autor': 'Gabriel García Márquez', 'idioma original': 'urdu', 'año de publicación': '1981'}, {'título': 'Rebelión en la granja', 'autor': 'George Orwell', 'idioma original': 'urdu', 'año de publicación': '1945'}, {'título': 'Crimen y castigo', 'autor': 'Fiódor Dostoyevski', 'idioma original': 'urdu', 'año de publicación': '1866'}, {'título': 'Madame Bovary', 'autor': 'Gustave Flaubert', 'idioma original': 'urdu', 'año de publicación': '1857'}]\n"
          ]
        }
      ],
      "source": [
        "for libro in libreria:\n",
        "    libro[\"idioma original\"] = \"urdu\"\n",
        "\n",
        "print(libreria)"
      ]
    },
    {
      "cell_type": "code",
      "execution_count": 28,
      "metadata": {},
      "outputs": [],
      "source": [
        "def cambio_idioma(lista, idioma):\n",
        "    for libro in lista:\n",
        "        libro[\"idioma original\"] = idioma\n",
        "\n",
        "    print(lista)"
      ]
    },
    {
      "cell_type": "code",
      "execution_count": 29,
      "metadata": {},
      "outputs": [
        {
          "name": "stdout",
          "output_type": "stream",
          "text": [
            "[{'título': 'Crónica de una muerte anunciada', 'autor': 'Gabriel García Márquez', 'idioma original': 'Español', 'año de publicación': '1981'}, {'título': 'Rebelión en la granja', 'autor': 'George Orwell', 'idioma original': 'Español', 'año de publicación': '1945'}, {'título': 'Crimen y castigo', 'autor': 'Fiódor Dostoyevski', 'idioma original': 'Español', 'año de publicación': '1866'}, {'título': 'Madame Bovary', 'autor': 'Gustave Flaubert', 'idioma original': 'Español', 'año de publicación': '1857'}]\n",
            "[{'título': 'Crónica de una muerte anunciada', 'autor': 'Gabriel García Márquez', 'idioma original': 'Aleman', 'año de publicación': '1981'}, {'título': 'Rebelión en la granja', 'autor': 'George Orwell', 'idioma original': 'Aleman', 'año de publicación': '1945'}, {'título': 'Crimen y castigo', 'autor': 'Fiódor Dostoyevski', 'idioma original': 'Aleman', 'año de publicación': '1866'}, {'título': 'Madame Bovary', 'autor': 'Gustave Flaubert', 'idioma original': 'Aleman', 'año de publicación': '1857'}]\n",
            "None\n",
            "None\n"
          ]
        }
      ],
      "source": [
        "lista_espaniol = cambio_idioma(libreria, \"Español\")\n",
        "lista_aleman = cambio_idioma(libreria, \"Aleman\")\n",
        "\n",
        "print(lista_espaniol)\n",
        "print(lista_aleman)"
      ]
    },
    {
      "cell_type": "markdown",
      "metadata": {
        "id": "DRCJG04KRWxJ"
      },
      "source": [
        "## Ejercicio 9\n",
        "1. Escribe un programa que dada una variable titulo busque los libros que hay en la librería con ese título. Si no se encuentra debe devolver el mensaje `Ese no lo tengo, ¿mola?`\n",
        "2. Prueba que el programa con uno de tus libros y con otro que no contenga tu librería."
      ]
    },
    {
      "cell_type": "code",
      "execution_count": 30,
      "metadata": {
        "id": "eWHdJi9BRWxJ"
      },
      "outputs": [
        {
          "name": "stdout",
          "output_type": "stream",
          "text": [
            "El libro titulado \"crónica de una muerte anunciada\" se encuentra en la librería\n"
          ]
        }
      ],
      "source": [
        "titulo_libro = \"crónica de una muerte anunciada\"\n",
        "libro_encontrado = False\n",
        "\n",
        "for i in range(len(libreria)):\n",
        "    # print(libreria[i])\n",
        "    if libreria[i][\"título\"].lower() == titulo_libro.lower():  \n",
        "        libro_encontrado = True\n",
        "        break\n",
        "\n",
        "if libro_encontrado:\n",
        "    print(f\"El libro titulado \\\"{titulo_libro}\\\" se encuentra en la librería\")\n",
        "else:\n",
        "    print(\"Ese no lo tengo, ¿mola?\")"
      ]
    },
    {
      "cell_type": "markdown",
      "metadata": {
        "id": "17YOpYuFRWxJ"
      },
      "source": [
        "## Ejercicio 10\n",
        "Convierte el programa del ejercicio 2 en una función al que se le pase el valor a buscar como un argumento posicional"
      ]
    },
    {
      "cell_type": "code",
      "execution_count": 114,
      "metadata": {
        "id": "xbj0LgvnRWxJ"
      },
      "outputs": [
        {
          "name": "stdout",
          "output_type": "stream",
          "text": [
            "La palabra \"binario\" esta duplicada en la lista\n",
            "La palabra \"estructura\" no esta duplicada en la lista\n",
            "La palabra \"un\" esta duplicada en la lista\n"
          ]
        }
      ],
      "source": [
        "def buscar_palabra(palabra_introducida):\n",
        "\n",
        "    ejer_3 = [\"Un\", \"árbol\", \"binario\", \"es\", \"una\", \"estructura\", \"de\", \"un\", \"tipo\", \"particular\", \"a\", \"veces\", \"no\", \"es\", \"ni\", \"binario\"]\n",
        "\n",
        "    duplicados = []\n",
        "\n",
        "    for i in range(len(ejer_3)):\n",
        "        palabra = ejer_3[i].lower()\n",
        "        for j in range(i + 1, len(ejer_3)):\n",
        "            if palabra == ejer_3[j].lower():\n",
        "                duplicados.append(palabra)\n",
        "\n",
        "    if palabra_introducida not in ejer_3:\n",
        "        return f\"La palabra \\\"{palabra_introducida}\\\" no esta en la lista\"\n",
        "    \n",
        "    if palabra_introducida in duplicados:\n",
        "        return f\"La palabra \\\"{palabra_introducida}\\\" esta duplicada en la lista\"\n",
        "    else:\n",
        "        return f\"La palabra \\\"{palabra_introducida}\\\" no esta duplicada en la lista\"\n",
        "    \n",
        "palabra_01 = buscar_palabra(\"binario\")\n",
        "print(palabra_01)\n",
        "palabra_02 = buscar_palabra(\"estructura\")\n",
        "print(palabra_02)\n",
        "palabra_03 = buscar_palabra(\"un\")\n",
        "print(palabra_03)\n"
      ]
    },
    {
      "cell_type": "markdown",
      "metadata": {
        "id": "xZ-sWJxPRWxJ"
      },
      "source": [
        "## Ejercicio 11\n",
        "Convierte el programa del ejercicio 9 en una función al que se le pasen como argumentos la librería, posicional, y el título, argumento keyword con valor \"ninguno\", por defecto."
      ]
    },
    {
      "cell_type": "code",
      "execution_count": 107,
      "metadata": {
        "id": "4-JrsMdNRWxK"
      },
      "outputs": [
        {
          "name": "stdout",
          "output_type": "stream",
          "text": [
            "Ese libro no lo tengo, ¿mola?\n"
          ]
        }
      ],
      "source": [
        "# Declaración de función\n",
        "def buscar_libro(nombre_libreria, titulo_libro = \"ninguno\"):\n",
        "    encontrado = False\n",
        "    \n",
        "    for libro in libreria:\n",
        "        if libro[\"título\"] == titulo_libro:\n",
        "            print(\"Este libro se encuentra en la librería\")\n",
        "            encontrado = True\n",
        "    if not encontrado:\n",
        "        print(\"Ese libro no lo tengo, ¿mola?\")\n",
        "\n",
        "# Llamada a función\n",
        "buscar_libro(libreria, \"La colmena\")"
      ]
    },
    {
      "cell_type": "markdown",
      "metadata": {
        "id": "FtJir95QRWxK"
      },
      "source": [
        "## Ejercicio 12\n",
        "Solicitar al usuario que ingrese su dirección email. Imprimir un mensaje indicando si la dirección es válida o no, valiéndose de una función para decidirlo. Una dirección se considerará válida si contiene el símbolo \"@\"."
      ]
    },
    {
      "cell_type": "code",
      "execution_count": null,
      "metadata": {
        "id": "sk852IZ8RWxK"
      },
      "outputs": [],
      "source": [
        "# Declaración de función\n",
        "def comprobar_email(correo_electrónico):\n",
        "    #correo_electrónico = input(\"Introduce tu correo electrónico\\n\")\n",
        "    caracter = \"@\"\n",
        "    \n",
        "    if caracter in correo_electrónico:\n",
        "        print(\"El correo introducido es válido\")\n",
        "    else:\n",
        "        print(\"El correo introducido NO es válido\")\n",
        "\n",
        "# Llamada a función\n",
        "comprobar_email(input(\"Introduce tu correo electrónico\\n\"))"
      ]
    },
    {
      "cell_type": "code",
      "execution_count": 3,
      "metadata": {},
      "outputs": [],
      "source": [
        "def email(mail):\n",
        "    if \"@\" in mail:\n",
        "        return \"Tu correo es válido\"\n",
        "    else: \n",
        "        return \"Tu correo no es válido\""
      ]
    },
    {
      "cell_type": "code",
      "execution_count": 5,
      "metadata": {},
      "outputs": [
        {
          "name": "stdout",
          "output_type": "stream",
          "text": [
            "Tu correo es válido\n"
          ]
        }
      ],
      "source": [
        "email_usuario = input(\"Email:\")\n",
        "res = email(email_usuario)\n",
        "print(res)\n"
      ]
    },
    {
      "cell_type": "markdown",
      "metadata": {
        "id": "Kw1MWBwBRWxK"
      },
      "source": [
        "## Ejercicio 13\n",
        "Escribe una función que compruebe si un DNI es válido, devolviendo `True` en caso afirmativo.  \n",
        "En primer lugar, el DNI debe tener entre 7 y 8 dígitos numéricos.  \n",
        "Para saber si la letra del DNI es correcta puedes utilizar el siguiente fragmento de código:\n",
        ">```Python\n",
        ">DNI= 55555555\n",
        ">palabra='TRWAGMYFPDXBNJZSQVHLCKE'\n",
        ">print('La letra del DNI es: ', palabra[DNI%23])\n",
        ">````\n"
      ]
    },
    {
      "cell_type": "code",
      "execution_count": 111,
      "metadata": {
        "id": "F5Z9rSHqRWxK"
      },
      "outputs": [
        {
          "name": "stdout",
          "output_type": "stream",
          "text": [
            "La letra del DNI introducida es correcta\n",
            "El DNI es válido: True\n"
          ]
        }
      ],
      "source": [
        "#DNI= 55555555\n",
        "#palabra='TRWAGMYFPDXBNJZSQVHLCKE'\n",
        "#print('La letra del DNI es: ', palabra[DNI%23])\n",
        "\n",
        "def comprobar_dni(dni, letra):\n",
        "    letras = 'TRWAGMYFPDXBNJZSQVHLCKE'\n",
        "    letra_correcta = letras[dni % 23]\n",
        "    dni_str = str(dni)\n",
        "\n",
        "    if len(dni_str) == 8 and letra.upper() == letra_correcta:\n",
        "        print(\"La letra del DNI introducida es correcta\")    \n",
        "        print(\"El DNI es válido:\", True)\n",
        "    else:\n",
        "        print(\"La letra del DNI introducida NO es correcta\")\n",
        "        print(\"El DNI es válido:\", False)\n",
        "\n",
        "comprobar_dni(72728566, \"j\")"
      ]
    },
    {
      "cell_type": "code",
      "execution_count": 7,
      "metadata": {},
      "outputs": [],
      "source": [
        "def letra_dni(dni):\n",
        "    print(type(dni))\n",
        "    palabra='TRWAGMYFPDXBNJZSQVHLCKE'\n",
        "    return palabra[dni%23]"
      ]
    },
    {
      "cell_type": "code",
      "execution_count": 8,
      "metadata": {},
      "outputs": [],
      "source": [
        "def comp_dni(dni):\n",
        "    letra = dni[-1]\n",
        "    numero = dni[:-1]\n",
        "    print(letra)\n",
        "    print(numero)\n",
        "    print(type(numero))\n",
        "    if len(numero) >=7 and  len(numero) <=8:\n",
        "        print(\"numeros validos\")\n",
        "        numero = int(numero)\n",
        "        valor_letra = letra_dni(numero)\n",
        "        if valor_letra == letra:\n",
        "            return \"Dni correcto\"\n",
        "        else:\n",
        "            return \"Dni incorrecto\"\n",
        "    else:\n",
        "        return \"Dni incorrecto\""
      ]
    },
    {
      "cell_type": "code",
      "execution_count": 13,
      "metadata": {},
      "outputs": [
        {
          "name": "stdout",
          "output_type": "stream",
          "text": [
            "J\n",
            "727285566\n",
            "<class 'str'>\n"
          ]
        },
        {
          "data": {
            "text/plain": [
              "'Dni incorrecto'"
            ]
          },
          "execution_count": 13,
          "metadata": {},
          "output_type": "execute_result"
        }
      ],
      "source": [
        "comp_dni(\"727285566J\")"
      ]
    }
  ],
  "metadata": {
    "colab": {
      "provenance": []
    },
    "kernelspec": {
      "display_name": "Python 3",
      "language": "python",
      "name": "python3"
    },
    "language_info": {
      "codemirror_mode": {
        "name": "ipython",
        "version": 3
      },
      "file_extension": ".py",
      "mimetype": "text/x-python",
      "name": "python",
      "nbconvert_exporter": "python",
      "pygments_lexer": "ipython3",
      "version": "3.13.7"
    },
    "orig_nbformat": 4
  },
  "nbformat": 4,
  "nbformat_minor": 0
}
