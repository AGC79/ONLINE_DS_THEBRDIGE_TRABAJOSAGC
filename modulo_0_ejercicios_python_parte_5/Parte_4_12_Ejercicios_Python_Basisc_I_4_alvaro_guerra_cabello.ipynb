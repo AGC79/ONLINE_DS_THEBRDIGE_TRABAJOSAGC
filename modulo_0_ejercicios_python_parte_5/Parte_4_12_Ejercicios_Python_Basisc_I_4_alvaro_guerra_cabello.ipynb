{
 "cells": [
  {
   "cell_type": "markdown",
   "metadata": {
    "id": "xXntYpovtpP-"
   },
   "source": [
    "![TheBridge_logo_RGB_color.jpg](attachment:TheBridge_logo_RGB_color.jpg)"
   ]
  },
  {
   "cell_type": "markdown",
   "metadata": {
    "id": "3AWXQBtFtpP_"
   },
   "source": [
    "![imagen](./img/ejercicios.png)"
   ]
  },
  {
   "cell_type": "markdown",
   "metadata": {
    "id": "IHKY4OyYtpP_"
   },
   "source": [
    "## EJERCICIOS PYTHON BASICO 4:\n",
    "## Funciones, métodos, listas"
   ]
  },
  {
   "cell_type": "markdown",
   "metadata": {
    "id": "anjX-FQHtpQA"
   },
   "source": [
    "Completa los siguiente ejercicios, la solución completa a los mismos se publicarán en el repo del curso a lo largo del sprint. En algunos ejercicios se muestra la solución final, para que puedas comprobar que lo has hecho bien, pero lo importante es el código que generes. ¡Vaaamos, a ello...!"
   ]
  },
  {
   "cell_type": "markdown",
   "metadata": {
    "id": "0mjeBhUctpQB"
   },
   "source": [
    "![ejercicio.png](./img/ejercicio.png)\n",
    "\n",
    "## Ejercicio 1\n",
    "Para este ejercicio vamos a poner en práctica [las funciones built in](https://docs.python.org/3/library/functions.html).\n",
    "\n",
    "1. Calcula el máximo de la lista: [4, 6, 8, -1]\n",
    "2. Suma todos los elementos de la lista anterior\n",
    "3. Redondea este float a 3 dígitos decimales: 63.451256965\n",
    "4. Valor absoluto de: -74"
   ]
  },
  {
   "cell_type": "code",
   "execution_count": 6,
   "metadata": {
    "id": "lQUHdhiZtpQB"
   },
   "outputs": [
    {
     "name": "stdout",
     "output_type": "stream",
     "text": [
      "8\n",
      "17\n",
      "63.451\n",
      "74\n"
     ]
    }
   ],
   "source": [
    "# Declaración de variable\n",
    "lista = [4, 6, 8, -1]\n",
    "\n",
    "# 1. Calcula el máximo de la lista: [4, 6, 8, -1]\n",
    "print(max(lista))\n",
    "\n",
    "# 2. Suma todos los elementos de la lista anterior\n",
    "print(sum(lista))\n",
    "\n",
    "# 3. Redondea este float a 3 dígitos decimales: 63.451256965\n",
    "num_real = 63.451256965\n",
    "print(round(num_real, 3))\n",
    "\n",
    "# 4. Valor absoluto de: -74\n",
    "num_entero = -74\n",
    "print(abs(num_entero))"
   ]
  },
  {
   "cell_type": "markdown",
   "metadata": {
    "id": "kIBGK5uQtpQB"
   },
   "source": [
    "![ejercicio.png](./img/ejercicio.png)\n",
    "\n",
    "## Ejercicio 2\n",
    "Para el siguiente string se pide imprimir por pantalla los siguientes casos\n",
    "\n",
    "    \"En un lugar de la Mancha, de cuyo nombre no quiero acordarme.\"\n",
    "\n",
    "1. Pásalo todo a mayúsculas\n",
    "2. Pásalo todo a minúsculas\n",
    "3. Solo la primera letra de cada palabra en mayúscula, el resto en minúscula\n",
    "4. Crea una lista dividiéndolo por sus espacios\n",
    "5. Sustituye las comas `,` por puntos y comas `;`\n",
    "6. Elimina las `a` minúsculas"
   ]
  },
  {
   "cell_type": "code",
   "execution_count": 15,
   "metadata": {
    "id": "I5iX84LNtpQC",
    "outputId": "f56829de-ceb5-45fc-9cb4-1fe13f4e1a93"
   },
   "outputs": [
    {
     "name": "stdout",
     "output_type": "stream",
     "text": [
      "EN UN LUGAR DE LA MANCHA, DE CUYO NOMBRE NO QUIERO ACORDARME.\n",
      "en un lugar de la mancha, de cuyo nombre no quiero acordarme.\n",
      "En Un Lugar De La Mancha, De Cuyo Nombre No Quiero Acordarme.\n",
      "['En', 'un', 'lugar', 'de', 'la', 'Mancha,', 'de', 'cuyo', 'nombre', 'no', 'quiero', 'acordarme.']\n",
      "En un lugar de la Mancha; de cuyo nombre no quiero acordarme.\n",
      "En un lugr de l Mnch, de cuyo nombre no quiero cordrme.\n"
     ]
    }
   ],
   "source": [
    "# Declaración de variable string\n",
    "frase = \"En un lugar de la Mancha, de cuyo nombre no quiero acordarme.\"\n",
    "\n",
    "# 1. Pásalo todo a mayúsculas\n",
    "print(frase.upper())\n",
    "\n",
    "# 2. Pásalo todo a minúsculas\n",
    "print(frase.lower())\n",
    "\n",
    "# 3. Solo la primera letra de cada palabra en mayúscula, el resto en minúscula\n",
    "print(frase.title())\n",
    "\n",
    "# 4. Crea una lista dividiéndolo por sus espacios\n",
    "lista_frase = frase.split(\" \")\n",
    "print(lista_frase)\n",
    "\n",
    "# 5. Sustituye las comas `,` por puntos y comas `;`\n",
    "print(frase.replace(\",\", \";\"))\n",
    "\n",
    "# 6. Elimina las `a` minúsculas\n",
    "print(frase.replace(\"a\", \"\"))"
   ]
  },
  {
   "cell_type": "markdown",
   "metadata": {
    "id": "L2JuEaoTtpQD"
   },
   "source": [
    "![ejercicio.png](./img/ejercicio.png)\n",
    "\n",
    "## Ejercicio 3\n",
    "1. Crea una lista con 3 elementos numéricos\n",
    "2. Añade un cuarto elemento\n",
    "3. Calcula la suma de todos\n",
    "4. Elimina el segundo elemento de la lista\n",
    "5. Añade otro elemento en la posicion 3 de la lista\n",
    "6. Crea otra lista con 4 elementos y concaténala a la que ya tenías.\n",
    "7. Ordena la lista de menor a mayor.\n",
    "8. BONUS: Ordena la lista de mayor a menor.  \n",
    "(*PISTA: Para hacer 8, tendrás que buscar en la información del método...*)  \n",
    "  \n",
    "  \n",
    "NOTA: Pinta por pantalla el resultado de cada paso."
   ]
  },
  {
   "cell_type": "code",
   "execution_count": 32,
   "metadata": {
    "id": "bajccRhwtpQD",
    "outputId": "ee6f88e4-242b-4156-85da-20c587788c02"
   },
   "outputs": [
    {
     "name": "stdout",
     "output_type": "stream",
     "text": [
      "[4, 7, 9]\n",
      "[4, 7, 9, 15]\n",
      "[4, 7, 9, 15]\n",
      "35\n",
      "[4, 9, 15]\n",
      "[4, 9, 12, 15]\n",
      "[25, 5, 16, 1]\n",
      "[4, 9, 12, 15, 25, 5, 16, 1]\n",
      "[1, 4, 5, 9, 12, 15, 16, 25]\n",
      "[25, 16, 15, 12, 9, 5, 4, 1]\n"
     ]
    }
   ],
   "source": [
    "# 1. Crea una lista con 3 elementos numéricos\n",
    "lista_numeros = [4, 7, 9]\n",
    "print(lista_numeros)\n",
    "\n",
    "# 2. Añade un cuarto elemento\n",
    "lista_numeros.append(15)\n",
    "print(lista_numeros)\n",
    "\n",
    "# 3. Calcula la suma de todos\n",
    "suma_numeros = sum(lista_numeros)\n",
    "print(lista_numeros)\n",
    "print(suma_numeros)\n",
    "\n",
    "# 4. Elimina el segundo elemento de la lista\n",
    "lista_numeros.pop(1)\n",
    "print(lista_numeros)\n",
    "\n",
    "# 5. Añade otro elemento en la posicion 3 de la lista\n",
    "lista_numeros.insert(2, 12)\n",
    "print(lista_numeros)\n",
    "\n",
    "# 6. Crea otra lista con 4 elementos y concaténala a la que ya tenías.\n",
    "lista_numeros_2 = [25, 5, 16, 1]\n",
    "print(lista_numeros_2)\n",
    "listas_concatenadas = lista_numeros + lista_numeros_2\n",
    "print(listas_concatenadas)\n",
    "\n",
    "# 7. Ordena la lista de menor a mayor.\n",
    "listas_concatenadas.sort()\n",
    "print(listas_concatenadas)\n",
    "\n",
    "# 8. BONUS: Ordena la lista de mayor a menor. \n",
    "listas_concatenadas.sort(reverse = True)\n",
    "print(listas_concatenadas)"
   ]
  },
  {
   "cell_type": "code",
   "execution_count": null,
   "metadata": {},
   "outputs": [],
   "source": []
  }
 ],
 "metadata": {
  "colab": {
   "provenance": []
  },
  "kernelspec": {
   "display_name": "Python 3 (ipykernel)",
   "language": "python",
   "name": "python3"
  },
  "language_info": {
   "codemirror_mode": {
    "name": "ipython",
    "version": 3
   },
   "file_extension": ".py",
   "mimetype": "text/x-python",
   "name": "python",
   "nbconvert_exporter": "python",
   "pygments_lexer": "ipython3",
   "version": "3.13.7"
  }
 },
 "nbformat": 4,
 "nbformat_minor": 4
}
