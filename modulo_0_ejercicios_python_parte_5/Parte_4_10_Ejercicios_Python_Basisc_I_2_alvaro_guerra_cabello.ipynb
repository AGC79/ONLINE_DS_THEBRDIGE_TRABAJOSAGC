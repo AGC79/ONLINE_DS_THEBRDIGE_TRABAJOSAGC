{
 "cells": [
  {
   "cell_type": "markdown",
   "metadata": {
    "id": "GB2K42EgK9q5"
   },
   "source": [
    "![TheBridge_logo_RGB_color.jpg](attachment:TheBridge_logo_RGB_color.jpg)"
   ]
  },
  {
   "cell_type": "markdown",
   "metadata": {
    "id": "GnwVlO37K9q6"
   },
   "source": [
    "![imagen](./img/ejercicios.png)"
   ]
  },
  {
   "cell_type": "markdown",
   "metadata": {
    "id": "_9pTa0PXK9q6"
   },
   "source": [
    "## EJERCICIOS PYTHON BASICO 2:\n",
    "## Tipos y conversión de tipos"
   ]
  },
  {
   "cell_type": "markdown",
   "metadata": {
    "id": "tYmV-veoK9q6"
   },
   "source": [
    "Completa los siguiente ejercicios, la solución a los mismos se publicarán en el repo del curso a lo largo del sprint"
   ]
  },
  {
   "cell_type": "markdown",
   "metadata": {
    "id": "YAdFbIOXK9q7"
   },
   "source": [
    "![ejercicio.png](./img/ejercicio.png)\n",
    "\n",
    "## Ejercicio 1\n",
    "\n",
    "1. Crea dos variables numericas: un `int` y un `float`\n",
    "2. Comprueba sus tipos\n",
    "3. Sumalas en otra nueva\n",
    "4. ¿De qué tipo es la nueva variable?\n",
    "5. Elimina las dos primeras variables creadas"
   ]
  },
  {
   "cell_type": "code",
   "execution_count": 6,
   "metadata": {
    "id": "8QZmuLOsK9q7"
   },
   "outputs": [
    {
     "name": "stdout",
     "output_type": "stream",
     "text": [
      "El tipo de dato de la variable num_entero es: <class 'int'>\n",
      "El tipo de dato de la variable num_real es: <class 'float'>\n",
      "5 + 8.53 = 13.53\n",
      "El tipo de dato del resultado es <class 'float'>\n",
      "5\n"
     ]
    },
    {
     "ename": "NameError",
     "evalue": "name 'num_real' is not defined",
     "output_type": "error",
     "traceback": [
      "\u001b[31m---------------------------------------------------------------------------\u001b[39m",
      "\u001b[31mNameError\u001b[39m                                 Traceback (most recent call last)",
      "\u001b[36mCell\u001b[39m\u001b[36m \u001b[39m\u001b[32mIn[6]\u001b[39m\u001b[32m, line 18\u001b[39m\n\u001b[32m     16\u001b[39m \u001b[38;5;28;01mdel\u001b[39;00m num_real\n\u001b[32m     17\u001b[39m \u001b[38;5;28mprint\u001b[39m(num_entero)\n\u001b[32m---> \u001b[39m\u001b[32m18\u001b[39m \u001b[38;5;28mprint\u001b[39m(\u001b[43mnum_real\u001b[49m)\n",
      "\u001b[31mNameError\u001b[39m: name 'num_real' is not defined"
     ]
    }
   ],
   "source": [
    "# Declaración de variables de entero y float\n",
    "num_entero = 5\n",
    "num_real = 8.53\n",
    "\n",
    "# Comprobación de los tipos\n",
    "print(\"El tipo de dato de la variable num_entero es:\", type(num_entero))\n",
    "print(\"El tipo de dato de la variable num_real es:\", type(num_real))\n",
    "\n",
    "# Variable con la suma y comprobación del tipo de dato del resultado\n",
    "num_suma = num_entero + num_real\n",
    "print(num_entero, \"+\", num_real, \"=\", num_suma)\n",
    "print(\"El tipo de dato del resultado es\", type(num_suma))\n",
    "\n",
    "# Borrado de las dos primeras variables creadas\n",
    "del num_entero\n",
    "del num_real\n",
    "print(num_entero)\n",
    "print(num_real)"
   ]
  },
  {
   "cell_type": "markdown",
   "metadata": {
    "id": "f5xfpkpQK9q7"
   },
   "source": [
    "![ejercicio.png](./img/ejercicio.png)\n",
    "\n",
    "## Ejercicio 2\n",
    "Escribe un programa para pasar de grados a radianes. Hay que usar `input`. Recuerda que la conversión se realiza mediante\n",
    "\n",
    "radianes = grados*(pi/180)"
   ]
  },
  {
   "cell_type": "code",
   "execution_count": 14,
   "metadata": {
    "id": "V50TUQMzK9q7"
   },
   "outputs": [
    {
     "name": "stdin",
     "output_type": "stream",
     "text": [
      "Introduce valor en grados: 90\n"
     ]
    },
    {
     "name": "stdout",
     "output_type": "stream",
     "text": [
      "El valor introducido en grados equivale a 1.57 radianes\n"
     ]
    }
   ],
   "source": [
    "# Declaración de variables\n",
    "input_grados = input(\"Introduce valor en grados:\")\n",
    "pi = 3.1415\n",
    "radianes = float(input_grados)*(pi/180)\n",
    "\n",
    "# Impresión del resultado en radianes\n",
    "print(\"El valor introducido en grados equivale a\", round(radianes, 2), \"radianes\")"
   ]
  },
  {
   "cell_type": "markdown",
   "metadata": {
    "id": "zX3-p58CK9q7"
   },
   "source": [
    "![ejercicio.png](./img/ejercicio.png)\n",
    "\n",
    "## Ejercicio 3\n",
    "Escribe un programa que calcule el area de un paralelogramo (base x altura). También con `input`"
   ]
  },
  {
   "cell_type": "code",
   "execution_count": 24,
   "metadata": {
    "id": "s2QfNiBAK9q7"
   },
   "outputs": [
    {
     "name": "stdin",
     "output_type": "stream",
     "text": [
      "Introduce el valor de la base:\n",
      " 9.567\n",
      "Introduce el valor de la altura:\n",
      " 4.6631\n"
     ]
    },
    {
     "name": "stdout",
     "output_type": "stream",
     "text": [
      "Área del paralelogramo:\n",
      " 9.57 x 4.66 = 44.61\n"
     ]
    }
   ],
   "source": [
    "# Declaración de variables\n",
    "input_base = input(\"Introduce el valor de la base:\\n\")\n",
    "input_base_real = float(input_base)\n",
    "input_altura = input(\"Introduce el valor de la altura:\\n\")\n",
    "input_altura_real = float(input_altura)\n",
    "area = input_base_real * input_altura_real\n",
    "\n",
    "# Impresión del resulado\n",
    "print(\"Área del paralelogramo:\\n\", round(input_base_real, 2), \"x\", round(input_altura_real, 2), \"=\", round(area, 2))"
   ]
  },
  {
   "cell_type": "markdown",
   "metadata": {
    "id": "-6TBo_HvK9q8"
   },
   "source": [
    "![ejercicio.png](./img/ejercicio.png)\n",
    "\n",
    "## Ejercicio 4\n",
    "Escribe un programa que calcule el area de un paralelogramo (base x altura). También con `input`. En este caso debe ser capaz de admitir valores reales, con decimales, para base y altura en español. (PISTA: Recuerda que tendrás que hacer uso del método replace)"
   ]
  },
  {
   "cell_type": "code",
   "execution_count": 26,
   "metadata": {
    "id": "uzUIa1JqK9q8"
   },
   "outputs": [
    {
     "name": "stdin",
     "output_type": "stream",
     "text": [
      "Introduce el valor de la base:\n",
      " 4,89\n",
      "Introduce el valor de la altura:\n",
      " 5,63\n"
     ]
    },
    {
     "name": "stdout",
     "output_type": "stream",
     "text": [
      "Área del paralelogramo:\n",
      " 4.89 x 5.63 = 27.53\n"
     ]
    }
   ],
   "source": [
    "# Declaración de variables\n",
    "input_base = input(\"Introduce el valor de la base:\\n\")\n",
    "input_base_en = input_base.replace(\",\", \".\")\n",
    "input_base_real = float(input_base_en)\n",
    "input_altura = input(\"Introduce el valor de la altura:\\n\")\n",
    "input_altura_en = input_altura.replace(\",\", \".\")\n",
    "input_altura_real = float(input_altura_en)\n",
    "area = input_base_real * input_altura_real\n",
    "\n",
    "# Impresión del resulado\n",
    "print(\"Área del paralelogramo:\\n\", round(input_base_real, 2), \"x\", round(input_altura_real, 2), \"=\", round(area, 2))"
   ]
  },
  {
   "cell_type": "markdown",
   "metadata": {
    "id": "5zKugi5iK9q8"
   },
   "source": [
    "![ejercicio.png](./img/ejercicio.png)\n",
    "\n",
    "## Ejercicio 5\n",
    "Complete el siguiente código para solicitar al usuario su nombre y su edad. Luego, calcule en qué año nació el usuario y muestre el resultado."
   ]
  },
  {
   "cell_type": "code",
   "execution_count": 28,
   "metadata": {
    "id": "LISfTnRkK9q8"
   },
   "outputs": [
    {
     "name": "stdin",
     "output_type": "stream",
     "text": [
      "¿Cuál es tu nombre?  Álvaro\n",
      "¿Cuál es tu edad?  46\n"
     ]
    },
    {
     "name": "stdout",
     "output_type": "stream",
     "text": [
      "Álvaro, naciste en el año 1979.\n"
     ]
    }
   ],
   "source": [
    "nombre = input(\"¿Cuál es tu nombre? \")\n",
    "edad = int(input(\"¿Cuál es tu edad? \"))\n",
    "año_actual = 2025  # Puedes cambiarlo según el año en curso\n",
    "año_nacimiento = año_actual - edad\n",
    "\n",
    "print(f\"{nombre}, naciste en el año {año_nacimiento}.\")\n"
   ]
  },
  {
   "cell_type": "code",
   "execution_count": null,
   "metadata": {},
   "outputs": [],
   "source": []
  }
 ],
 "metadata": {
  "colab": {
   "provenance": []
  },
  "kernelspec": {
   "display_name": "Python 3 (ipykernel)",
   "language": "python",
   "name": "python3"
  },
  "language_info": {
   "codemirror_mode": {
    "name": "ipython",
    "version": 3
   },
   "file_extension": ".py",
   "mimetype": "text/x-python",
   "name": "python",
   "nbconvert_exporter": "python",
   "pygments_lexer": "ipython3",
   "version": "3.13.7"
  }
 },
 "nbformat": 4,
 "nbformat_minor": 4
}
