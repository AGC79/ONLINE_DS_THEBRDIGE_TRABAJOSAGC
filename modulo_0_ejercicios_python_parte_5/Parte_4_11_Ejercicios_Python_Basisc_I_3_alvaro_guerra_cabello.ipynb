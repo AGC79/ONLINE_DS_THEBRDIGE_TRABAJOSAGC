{
 "cells": [
  {
   "cell_type": "markdown",
   "metadata": {
    "id": "Akt02Rnytjzq"
   },
   "source": [
    "![TheBridge_logo_RGB_color.jpg](attachment:TheBridge_logo_RGB_color.jpg)"
   ]
  },
  {
   "cell_type": "markdown",
   "metadata": {
    "id": "npz4AHMBtjzr"
   },
   "source": [
    "![imagen](./img/ejercicios.png)"
   ]
  },
  {
   "cell_type": "markdown",
   "metadata": {
    "id": "TBQ5BeWGtjzs"
   },
   "source": [
    "## EJERCICIOS PYTHON BASICO 3:\n",
    "## Operaciones matemáticas, comparación y booleanas"
   ]
  },
  {
   "cell_type": "markdown",
   "metadata": {
    "id": "8_XPuOA1tjzt"
   },
   "source": [
    "Completa los siguiente ejercicios, la solución completa a los mismos se publicarán en el repo del curso a lo largo del sprint. En algunos ejercicios se muestra la solución final, para que puedas comprobar que lo has hecho bien, pero lo importante es el código que generes. ¡Vaaamos, a ello...!"
   ]
  },
  {
   "cell_type": "markdown",
   "metadata": {
    "id": "fsaymJlBtjzt"
   },
   "source": [
    "![ejercicio.png](./img/ejercicio.png)\n",
    "\n",
    "\n",
    "## Ejercicio 1\n",
    "Tenemos las siguientes variables:\n",
    "\n",
    "```Python\n",
    "A = 4\n",
    "B = \"Text\"\n",
    "C = 4.1\n",
    "```\n",
    "\n",
    "Comprueba:\n",
    "1. Si A y B son equivalentes\n",
    "2. Si A y C NO son equivalentes\n",
    "3. Si A es mayor que C\n",
    "4. Si C es menor o igual que A\n",
    "5. Si B NO es equivalente a C"
   ]
  },
  {
   "cell_type": "code",
   "execution_count": 3,
   "metadata": {
    "id": "7K752MHetjzu",
    "outputId": "f2187eee-f705-4f94-855b-b64c741a2aab"
   },
   "outputs": [
    {
     "name": "stdout",
     "output_type": "stream",
     "text": [
      "False\n",
      "True\n",
      "False\n",
      "False\n",
      "True\n"
     ]
    }
   ],
   "source": [
    "# Declaración de variables\n",
    "A = 4\n",
    "B = \"Text\"\n",
    "C = 4.1\n",
    "\n",
    "# 1. Si A y B son equivalentes\n",
    "print(A == B)\n",
    "# 2. Si A y C NO son equivalentes\n",
    "print(A != C)\n",
    "# 3. Si A es mayor que C\n",
    "print(A > C)\n",
    "# 4. Si C es menor o igual que A\n",
    "print(C <= A)\n",
    "# 5. Si B NO es equivalente a C\n",
    "print(B != C)"
   ]
  },
  {
   "cell_type": "markdown",
   "metadata": {
    "id": "2JC3r6uLtjzv"
   },
   "source": [
    "![ejercicio.png](./img/ejercicio.png)\n",
    "\n",
    "## Ejercicio 2\n",
    "Crea un programa donde se recojan dos inputs del usuario, y el output del programa sea si esos inputs son iguales o no"
   ]
  },
  {
   "cell_type": "code",
   "execution_count": 7,
   "metadata": {
    "id": "zStMaImmtjzv"
   },
   "outputs": [
    {
     "name": "stdin",
     "output_type": "stream",
     "text": [
      "Introduce un primer numero entero: 5\n",
      "Introduce un segundo numero entero: 6\n"
     ]
    },
    {
     "name": "stdout",
     "output_type": "stream",
     "text": [
      "False\n",
      "Los números introducidos son distintos\n"
     ]
    }
   ],
   "source": [
    "# Declaración de variables\n",
    "num_1 = input(\"Introduce un primer numero entero:\")\n",
    "num_1_entero = int(num_1)\n",
    "num_2 = input(\"Introduce un segundo numero entero:\")\n",
    "num_2_entero = int(num_2)\n",
    "\n",
    "print(num_1_entero == num_2_entero)\n",
    "\n",
    "if num_1_entero == num_2_entero:\n",
    "    print(\"Los números introducidos son iguales\")\n",
    "else:\n",
    "    print(\"Los números introducidos son distintos\")"
   ]
  },
  {
   "cell_type": "markdown",
   "metadata": {
    "id": "SDIqq5Votjzv"
   },
   "source": [
    "![ejercicio.png](./img/ejercicio.png)\n",
    "\n",
    "## Ejercicio 3\n",
    "Mismo programa que en 2, pero en esta ocasión tienen que ser tres inputs y dos salidas. Una de las salidas que nos indique si todos son iguales, y la otra si al menos dos inputs sí que lo son"
   ]
  },
  {
   "cell_type": "code",
   "execution_count": 10,
   "metadata": {
    "id": "JbjSDjxytjzw",
    "outputId": "0a311614-43d2-418d-bca3-55f133918ce3"
   },
   "outputs": [
    {
     "name": "stdin",
     "output_type": "stream",
     "text": [
      "Introduce un primer numero entero: 4\n",
      "Introduce un segundo numero entero: 5\n",
      "Introduce un segundo numero entero: 6\n"
     ]
    },
    {
     "name": "stdout",
     "output_type": "stream",
     "text": [
      "False\n",
      "False\n",
      "Los 3 números introducidos son distintos\n"
     ]
    }
   ],
   "source": [
    "# Declaración de variables\n",
    "num_1 = input(\"Introduce un primer numero entero:\")\n",
    "num_1_entero = int(num_1)\n",
    "num_2 = input(\"Introduce un segundo numero entero:\")\n",
    "num_2_entero = int(num_2)\n",
    "num_3 = input(\"Introduce un segundo numero entero:\")\n",
    "num_3_entero = int(num_3)\n",
    "\n",
    "print(num_1_entero == num_2_entero and num_1_entero == num_3_entero and num_2_entero == num_3_entero)\n",
    "print(num_1_entero == num_2_entero or num_1_entero == num_3_entero or num_2_entero == num_3_entero)\n",
    "\n",
    "if (num_1_entero == num_2_entero and num_1_entero == num_3_entero and num_2_entero == num_3_entero):\n",
    "    print(\"Los 3 números introducidos son iguales\")\n",
    "elif (num_1_entero == num_2_entero or num_1_entero == num_3_entero or num_2_entero == num_3_entero):\n",
    "    print(\"Al menos 2 de números introducidos son iguales\")\n",
    "else:\n",
    "    print(\"Los 3 números introducidos son distintos\")"
   ]
  },
  {
   "cell_type": "markdown",
   "metadata": {
    "id": "Vg-JyeyPtjzw"
   },
   "source": [
    "![ejercicio.png](./img/ejercicio.png)\n",
    "\n",
    "## Ejercicio 4\n",
    "Razona sin ejecutar código el output que obtendremos de las siguientes sentencias\n",
    "1. True and True and False\n",
    "2. not ((True or False) and (True or False))\n",
    "3. (False or False or False or True) and False\n",
    "4. not False and True and not True"
   ]
  },
  {
   "cell_type": "markdown",
   "metadata": {
    "id": "_A5cqSLptjzw"
   },
   "source": [
    "1. True and True and False\n",
    "\n",
    "False\n",
    "\n",
    "3. not ((True or False) and (True or False))\n",
    "\n",
    "False\n",
    "\n",
    "4. (False or False or False or True) and False\n",
    "\n",
    "False\n",
    "\n",
    "5. not False and True and not True\n",
    "\n",
    "False"
   ]
  },
  {
   "cell_type": "code",
   "execution_count": null,
   "metadata": {},
   "outputs": [],
   "source": []
  }
 ],
 "metadata": {
  "colab": {
   "provenance": []
  },
  "kernelspec": {
   "display_name": "Python 3 (ipykernel)",
   "language": "python",
   "name": "python3"
  },
  "language_info": {
   "codemirror_mode": {
    "name": "ipython",
    "version": 3
   },
   "file_extension": ".py",
   "mimetype": "text/x-python",
   "name": "python",
   "nbconvert_exporter": "python",
   "pygments_lexer": "ipython3",
   "version": "3.13.7"
  }
 },
 "nbformat": 4,
 "nbformat_minor": 4
}
