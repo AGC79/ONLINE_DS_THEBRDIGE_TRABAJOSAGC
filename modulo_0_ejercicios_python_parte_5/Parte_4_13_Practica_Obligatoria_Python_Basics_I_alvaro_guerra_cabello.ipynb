{
 "cells": [
  {
   "cell_type": "markdown",
   "metadata": {
    "id": "BNCAebJANPxq"
   },
   "source": [
    "![TheBridge_logo_RGB_color.jpg](attachment:TheBridge_logo_RGB_color.jpg)"
   ]
  },
  {
   "cell_type": "markdown",
   "metadata": {
    "id": "A9eDZvZaNPxs"
   },
   "source": [
    "![imagen](./img/ejercicios.png)"
   ]
  },
  {
   "cell_type": "markdown",
   "metadata": {
    "id": "59zPhBxXNPxs"
   },
   "source": [
    "## PRACTICA OBLIGATORIA: PYTHON"
   ]
  },
  {
   "cell_type": "markdown",
   "metadata": {
    "id": "mv2kb1GMNPxs"
   },
   "source": [
    "* La práctica obligatoria de esta unidad consiste en dos ejercicios de programación libre a completar.   \n",
    "* Recuerda que debes subirla a tu repositorio personal antes de la sesión en vivo para que puntúe adecuadamente.  \n",
    "* Recuerda también que no es necesario que esté perfecta, sólo es necesario que se vea el esfuerzo.\n",
    "* Esta práctica se resolverá en la sesión en vivo correspondiente y la solución se publicará en el repo del curso."
   ]
  },
  {
   "cell_type": "markdown",
   "metadata": {
    "id": "Kl9JzST2NPxt"
   },
   "source": [
    "![ejercicio.png](./img/ejercicio.png)\n",
    "## PARTE I\n",
    "\n",
    "En este ejercicio debes simular un chatbot al que le haremos pedidos de pizzas.\n",
    "\n",
    "1. El chatbot tiene que saludar con un: \"Buenas tardes, bienvenido al servicio de pedido online, el precio de nuestra pizzas es de 8,95 para la familiar o de 9,90 para la mediana ¿Cuántas pizzas  familiares desea?\"\n",
    "2. El ususario tiene que introducir un número de pizzas en una variable llamada 'pizz_familiar'\n",
    "3. El chatbot debe responder: \"Estupendo, ¿cuántas pizzas medianas desea?\" y guardar el número de pizzas medianas en otra variable 'pizz_mediana'\n",
    "4. Además debe responder del chatbot: \"Estupendo, se están preparando 'pizz' pizzas familiares y 'pizz_mediana' pizzas medianas. Digame su dirección\"\n",
    "5. El ususario tiene que introducir una direccion en formato String en otra variable llamada 'direcc'\n",
    "6. El programa debe calcular el monto total\n",
    "7. Respuesta final del chatbot: \"Le mandaremos las '(número total de pizzas)' pizzas a la dirección 'direcc'. Serán <precio total a pagar en euros>. Muchas gracias por su pedido.\"\n",
    "         \n"
   ]
  },
  {
   "cell_type": "code",
   "execution_count": 6,
   "metadata": {
    "id": "qkKibyt-NPxt"
   },
   "outputs": [
    {
     "name": "stdin",
     "output_type": "stream",
     "text": [
      "Buenas tardes, bienvenido al servicio de pedido online, el precio de nuestra pizzas es de 8,95 para la familiar o de 9,90 para la mediana ¿Cuántas pizzas familiares desea?\n",
      " 4\n",
      "Estupendo, ¿cuántas pizzas medianas desea?\n",
      " 2\n",
      "Estupendo, se están preparando 4 pizzas familiares y 2 pizzas medianas. Dígame su dirección:\n",
      " madird 34\n"
     ]
    },
    {
     "name": "stdout",
     "output_type": "stream",
     "text": [
      "Le mandaremos las 6 pizzas a la dirección madird 34 . Serán 55.6 euros. Muchas gracias por su pedido.\n"
     ]
    }
   ],
   "source": [
    "pizz_familiar = input(\"Buenas tardes, bienvenido al servicio de pedido online, el precio de nuestra pizzas es de 8,95 para la familiar o de 9,90 para la mediana ¿Cuántas pizzas familiares desea?\\n\")\n",
    "pizz_familiar_int = int(pizz_familiar)\n",
    "pizz_mediana = input(\"Estupendo, ¿cuántas pizzas medianas desea?\\n\")\n",
    "pizz_mediana_int = int(pizz_mediana)\n",
    "num_total_pizzas = pizz_familiar_int + pizz_mediana_int\n",
    "direcc = input(f\"Estupendo, se están preparando {pizz_familiar_int} pizzas familiares y {pizz_mediana_int} pizzas medianas. Dígame su dirección:\\n\")\n",
    "total_pago = round((pizz_familiar_int * 8.95) + (pizz_mediana_int * 9.90), 2)\n",
    "print(\"Le mandaremos las\", num_total_pizzas, \"pizzas a la dirección\", direcc,\". Serán\",  total_pago, \"euros. Muchas gracias por su pedido.\")"
   ]
  },
  {
   "cell_type": "markdown",
   "metadata": {
    "id": "f0oqoGDGNPxt"
   },
   "source": [
    "![ejercicio.png](./img/ejercicio.png)\n",
    "## Parte II\n",
    "\n",
    "Crea un programa que realice las siguientes acciones:\n",
    "\n",
    "1. Solicite al usuario que introduzca 3 números enteros separados por comas (por ejemplo: 1,2,3).\n",
    "2. Convierta esa entrada en una lista de números enteros.\n",
    "3. Utilizando funciones built-in, determine el número máximo, el número mínimo y la suma total de los números introducidos.\n",
    "4. Determine la verdad o falsedad de la siguiente afirmación: \"El número máximo menos el número mínimo es igual a la suma total dividida por 5\".\n",
    "5. Muestre los resultados utilizando print."
   ]
  },
  {
   "cell_type": "code",
   "execution_count": 24,
   "metadata": {
    "id": "rAlpWiQ9NPxt"
   },
   "outputs": [
    {
     "name": "stdin",
     "output_type": "stream",
     "text": [
      "Introduzca 3 números enteros separados por comas (por ejemplo: 1,2,3)\n",
      " 3,6,6\n"
     ]
    },
    {
     "name": "stdout",
     "output_type": "stream",
     "text": [
      "[3, 6, 6] <class 'list'>\n",
      "El número mayor de la lista es: 6\n",
      "El número menor de la lista es: 3\n",
      "La suma de los tres numeros de la lista es: 15\n",
      "¿El número máximo menos el número mínimo es igual a la suma total dividida por 5? Sí\n",
      " Se cumple que el número máximo menos el número mínimo es igual a la suma total dividida por 5\n"
     ]
    }
   ],
   "source": [
    "# 1. Solicite al usuario que introduzca 3 números enteros separados por comas (por ejemplo: 1,2,3).\n",
    "insert_numeros = input(\"Introduzca 3 números enteros separados por comas (por ejemplo: 1,2,3)\\n\")\n",
    "\n",
    "# 2. Convierta esa entrada en una lista de números enteros.\n",
    "lista_numeros = insert_numeros.split(\",\")\n",
    "num_1 = int(lista_numeros[0])\n",
    "num_2 = int(lista_numeros[1])\n",
    "num_3 = int(lista_numeros[2])\n",
    "lista_numeros_enteros = [num_1, num_2, num_3]\n",
    "print(lista_numeros_enteros, type(lista_numeros))\n",
    "\n",
    "# 3. Utilizando funciones built-in, determine el número máximo, el número mínimo y la suma total de los números introducidos.\n",
    "\n",
    "# Número máximo\n",
    "num_max = max(lista_numeros_enteros)\n",
    "print(\"El número mayor de la lista es:\", num_max)\n",
    "\n",
    "# Número mínimo\n",
    "num_min = min(lista_numeros_enteros)\n",
    "print(\"El número menor de la lista es:\", num_min)\n",
    "\n",
    "# Suma total de los números introducidos\n",
    "num_suma = sum(lista_numeros_enteros)\n",
    "print(\"La suma de los tres numeros de la lista es:\", num_suma)\n",
    "\n",
    "# 4. Determine la verdad o falsedad de la siguiente afirmación: \"El número máximo menos el número mínimo es igual a la suma total dividida por 5\".\n",
    "# print(\"¿El número máximo menos el número mínimo es igual a la suma total dividida por 5?\", num_max - num_min == num_suma / 5)\n",
    "\n",
    "resultado_bool = num_max - num_min == num_suma / 5\n",
    "\n",
    "resultado_bool_str = str(resultado_bool)\n",
    "\n",
    "if resultado_bool_str == \"True\":\n",
    "    resultado_bool_str = \"Sí\"\n",
    "else:\n",
    "    resultado_bool_str = \"No\"\n",
    "\n",
    "print(\"¿El número máximo menos el número mínimo es igual a la suma total dividida por 5?\", resultado_bool_str)\n",
    "\n",
    "if num_max - num_min == num_suma / 5:\n",
    "    print(\" Se cumple que el número máximo menos el número mínimo es igual a la suma total dividida por 5\")\n",
    "else:\n",
    "    print(\"No se cumple el número máximo menos el número mínimo es igual a la suma total dividida por 5\")"
   ]
  },
  {
   "cell_type": "code",
   "execution_count": null,
   "metadata": {},
   "outputs": [],
   "source": []
  }
 ],
 "metadata": {
  "colab": {
   "provenance": []
  },
  "kernelspec": {
   "display_name": "Python 3 (ipykernel)",
   "language": "python",
   "name": "python3"
  },
  "language_info": {
   "codemirror_mode": {
    "name": "ipython",
    "version": 3
   },
   "file_extension": ".py",
   "mimetype": "text/x-python",
   "name": "python",
   "nbconvert_exporter": "python",
   "pygments_lexer": "ipython3",
   "version": "3.13.7"
  }
 },
 "nbformat": 4,
 "nbformat_minor": 4
}
