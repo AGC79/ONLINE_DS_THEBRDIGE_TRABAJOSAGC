{
 "cells": [
  {
   "cell_type": "markdown",
   "metadata": {},
   "source": [
    "![imagen](./img/ejercicios.png)"
   ]
  },
  {
   "cell_type": "code",
   "execution_count": 2,
   "metadata": {},
   "outputs": [],
   "source": [
    "import numpy as np"
   ]
  },
  {
   "cell_type": "markdown",
   "metadata": {},
   "source": [
    "## Ejercicio 1\n",
    "1. Crea un array que vaya del 0 al 9 y que se llame `my_array`\n",
    "2. Imprime por pantalla los elementos [9 7 5 3 1] en ese orden."
   ]
  },
  {
   "cell_type": "code",
   "execution_count": 8,
   "metadata": {},
   "outputs": [
    {
     "name": "stdout",
     "output_type": "stream",
     "text": [
      "[0 1 2 3 4 5 6 7 8 9]\n",
      "[9 7 5 3 1]\n"
     ]
    }
   ],
   "source": [
    "my_array = np.arange(10)\n",
    "\n",
    "print(my_array)\n",
    "\n",
    "lista_impares = []\n",
    "for i in range(len(my_array)):\n",
    "    if my_array[i] % 2 != 0:\n",
    "        lista_impares.append(my_array[i])\n",
    "\n",
    "array_impares = np.array(lista_impares[::-1])\n",
    "print(array_impares)"
   ]
  },
  {
   "cell_type": "code",
   "execution_count": 7,
   "metadata": {},
   "outputs": [
    {
     "name": "stdout",
     "output_type": "stream",
     "text": [
      "[9 7 5 3 1]\n"
     ]
    }
   ],
   "source": [
    "array_impares = my_array[my_array % 2 != 0][::-1]\n",
    "print(array_impares)"
   ]
  },
  {
   "cell_type": "markdown",
   "metadata": {},
   "source": [
    "## Ejercicio 2\n",
    "Imprime por pantalla la secuencia [8 7] del array `my_array`"
   ]
  },
  {
   "cell_type": "code",
   "execution_count": 5,
   "metadata": {},
   "outputs": [
    {
     "name": "stdout",
     "output_type": "stream",
     "text": [
      "[8 7]\n"
     ]
    }
   ],
   "source": [
    "print(my_array[8:6:-1])"
   ]
  },
  {
   "cell_type": "markdown",
   "metadata": {},
   "source": [
    "## Ejercicio 3\n",
    "Imprime por pantalla la secuencia [2 1 0] de `my_array`"
   ]
  },
  {
   "cell_type": "code",
   "execution_count": 27,
   "metadata": {},
   "outputs": [
    {
     "name": "stdout",
     "output_type": "stream",
     "text": [
      "[2 1 0]\n"
     ]
    }
   ],
   "source": [
    "print(my_array[2::-1])"
   ]
  },
  {
   "cell_type": "markdown",
   "metadata": {},
   "source": [
    "## Ejercicio 4\n",
    "1. Crea una matriz de 4x5, con una secuencia del 1 al 20\n",
    "2. Invierte totalmente la matriz. Tanto las filas, como las columnas"
   ]
  },
  {
   "cell_type": "code",
   "execution_count": 10,
   "metadata": {},
   "outputs": [
    {
     "name": "stdout",
     "output_type": "stream",
     "text": [
      "[[ 1  2  3  4  5]\n",
      " [ 6  7  8  9 10]\n",
      " [11 12 13 14 15]\n",
      " [16 17 18 19 20]]\n",
      "--------------------\n",
      "[[20 19 18 17 16]\n",
      " [15 14 13 12 11]\n",
      " [10  9  8  7  6]\n",
      " [ 5  4  3  2  1]]\n"
     ]
    }
   ],
   "source": [
    "matriz_ejer4 = np.arange(1,21).reshape(4, 5)\n",
    "print(matriz_ejer4)\n",
    "\n",
    "print(\"-\" * 20)\n",
    "\n",
    "matriz_ejer4_new = matriz_ejer4[::,::-1][::-1]\n",
    "print(matriz_ejer4_new)"
   ]
  },
  {
   "cell_type": "markdown",
   "metadata": {},
   "source": [
    "## Ejercicio 5\n",
    "\n",
    "Obtén el siguiente array, partiendo de la matriz del ejercicio 4\n",
    "```Python\n",
    "array([[1, 2],\n",
    "       [6, 7]])\n",
    "```"
   ]
  },
  {
   "cell_type": "code",
   "execution_count": 15,
   "metadata": {},
   "outputs": [
    {
     "name": "stdout",
     "output_type": "stream",
     "text": [
      "[[1 2]\n",
      " [6 7]]\n"
     ]
    }
   ],
   "source": [
    "matriz_ejer5 = matriz_ejer4[0:2, 0:2]\n",
    "print(matriz_ejer5)"
   ]
  },
  {
   "cell_type": "markdown",
   "metadata": {},
   "source": [
    "## Ejercicio 6\n",
    "Obtén el siguiente array, partiendo de la matriz del ejercicio 4\n",
    "```Python\n",
    "array([[ 1,  3,  5],\n",
    "       [11, 13, 15]])\n",
    "```"
   ]
  },
  {
   "cell_type": "code",
   "execution_count": 28,
   "metadata": {},
   "outputs": [
    {
     "name": "stdout",
     "output_type": "stream",
     "text": [
      "[[ 1  2  3  4  5]\n",
      " [11 12 13 14 15]]\n",
      "--------------------\n",
      "[[ 1  3  5]\n",
      " [11 13 15]]\n"
     ]
    }
   ],
   "source": [
    "matriz_ejer6 = matriz_ejer4[0:3:2]\n",
    "print(matriz_ejer6)\n",
    "\n",
    "print(\"-\" * 20)\n",
    "\n",
    "columnas_impares = matriz_ejer6 % 2 != 0\n",
    "matriz_ejer6_impares = matriz_ejer6[:, np.all(columnas_impares, axis=0)]\n",
    "\n",
    "print(matriz_ejer6_impares)\n"
   ]
  },
  {
   "cell_type": "markdown",
   "metadata": {},
   "source": [
    "## Ejercicio 7\n",
    "Obtén el siguiente array, partiendo de la matriz del ejercicio 4\n",
    "```Python\n",
    "array([[ 5,  4,  3,  2,  1],\n",
    "       [10,  9,  8,  7,  6],\n",
    "       [15, 14, 13, 12, 11]])\n",
    "```"
   ]
  },
  {
   "cell_type": "code",
   "execution_count": 33,
   "metadata": {},
   "outputs": [
    {
     "name": "stdout",
     "output_type": "stream",
     "text": [
      "[[ 5  4  3  2  1]\n",
      " [10  9  8  7  6]\n",
      " [15 14 13 12 11]]\n"
     ]
    }
   ],
   "source": [
    "matriz_ejer7 = matriz_ejer4[0:3, ::-1]\n",
    "print(matriz_ejer7)"
   ]
  },
  {
   "cell_type": "markdown",
   "metadata": {},
   "source": [
    "## Ejercicio 8\n",
    "Dado el siguiente array:\n",
    "\n",
    "```Python\n",
    "x = np.array([\"Loro\", \"Perro\", \"Gato\", \"Loro\", \"Perro\"])\n",
    "```\n",
    "\n",
    "Filtra el array para quedarte únicamente con los loros.\n",
    "\n",
    "Resuélvelo de dos maneras diferentes"
   ]
  },
  {
   "cell_type": "code",
   "execution_count": 38,
   "metadata": {},
   "outputs": [
    {
     "name": "stdout",
     "output_type": "stream",
     "text": [
      "['Loro' 'Loro']\n"
     ]
    }
   ],
   "source": [
    "# Manera 1\n",
    "x = np.array([\"Loro\", \"Perro\", \"Gato\", \"Loro\", \"Perro\"])\n",
    "z = np.array([])\n",
    "\n",
    "for animal in x:\n",
    "    if animal == \"Loro\":\n",
    "        z = np.append(z, animal)\n",
    "\n",
    "print(z)"
   ]
  },
  {
   "cell_type": "markdown",
   "metadata": {},
   "source": [
    "## Ejercicio 9\n",
    "Crea una secuencia de 20 elementos y transfórmala en un array compuesto por 2 matrices de 5x2"
   ]
  },
  {
   "cell_type": "code",
   "execution_count": 16,
   "metadata": {},
   "outputs": [
    {
     "name": "stdout",
     "output_type": "stream",
     "text": [
      "[[[ 1  2]\n",
      "  [ 3  4]\n",
      "  [ 5  6]\n",
      "  [ 7  8]\n",
      "  [ 9 10]]\n",
      "\n",
      " [[11 12]\n",
      "  [13 14]\n",
      "  [15 16]\n",
      "  [17 18]\n",
      "  [19 20]]]\n"
     ]
    }
   ],
   "source": [
    "ejer9 = np.arange(1, 21).reshape(2, 5, 2)\n",
    "print(ejer9)"
   ]
  },
  {
   "cell_type": "markdown",
   "metadata": {},
   "source": [
    "## Ejercicio 10\n",
    "\n",
    "Crea un array de 10 0s. ¿Cuánto ocupa en memoria?\n",
    "\n",
    "Sustituye el 4to elemento por 1, e imprime el array por pantalla"
   ]
  },
  {
   "cell_type": "code",
   "execution_count": 22,
   "metadata": {},
   "outputs": [
    {
     "name": "stdout",
     "output_type": "stream",
     "text": [
      "[0 0 0 0 0 0 0 0 0 0]\n",
      "80\n"
     ]
    }
   ],
   "source": [
    "ejer10 = np.full(10, 0)\n",
    "print(ejer10)\n",
    "\n",
    "print(ejer10.nbytes)"
   ]
  },
  {
   "cell_type": "markdown",
   "metadata": {},
   "source": [
    "## Ejercicio 11\n",
    "\n",
    "Crea un vector que vaya del 10 al 49\n",
    "\n",
    "Inviértelo"
   ]
  },
  {
   "cell_type": "code",
   "execution_count": 27,
   "metadata": {},
   "outputs": [
    {
     "name": "stdout",
     "output_type": "stream",
     "text": [
      "[10 11 12 13 14 15 16 17 18 19 20 21 22 23 24 25 26 27 28 29 30 31 32 33\n",
      " 34 35 36 37 38 39 40 41 42 43 44 45 46 47 48 49]\n",
      "--------------------------------------------------------------------------------\n",
      "[49 48 47 46 45 44 43 42 41 40 39 38 37 36 35 34 33 32 31 30 29 28 27 26\n",
      " 25 24 23 22 21 20 19 18 17 16 15 14 13 12 11 10]\n"
     ]
    }
   ],
   "source": [
    "ejer11 = np.arange(10,50)\n",
    "print(ejer11)\n",
    "\n",
    "print(\"-\" * 80)\n",
    "\n",
    "ejer11_invertido = ejer11[::-1]\n",
    "print(ejer11_invertido)"
   ]
  },
  {
   "cell_type": "markdown",
   "metadata": {},
   "source": [
    "## Ejercicio 12\n",
    "Encuentra los índices de los valores que no sean 0 del siguiente vector [1,2,0,0,4,0]. El output sería [0, 1, 4]. [Encuentra el método apropiado en la documentación.](https://numpy.org/doc/) Encapsúlalo en una función, con un argumento de entrada de un vector."
   ]
  },
  {
   "cell_type": "code",
   "execution_count": 34,
   "metadata": {},
   "outputs": [
    {
     "name": "stdout",
     "output_type": "stream",
     "text": [
      "[1 2 0 0 4 0]\n",
      "<class 'numpy.ndarray'>\n",
      "(array([0, 1, 4]),)\n"
     ]
    }
   ],
   "source": [
    "ejer12 = np.array([1,2,0,0,4,0])\n",
    "print(ejer12)\n",
    "print(type(ejer12))\n",
    "\n",
    "array_indices = np.where(ejer12 != 0)\n",
    "print(array_indices)"
   ]
  },
  {
   "attachments": {},
   "cell_type": "markdown",
   "metadata": {},
   "source": [
    "## Ejercicio 13\n",
    "Crea una matriz de números aleatorios 10x10. Encuentra los valores mínimo y máximo."
   ]
  },
  {
   "cell_type": "code",
   "execution_count": 47,
   "metadata": {},
   "outputs": [
    {
     "name": "stdout",
     "output_type": "stream",
     "text": [
      "[[57 58 25 51 33 64 10 21 13  6]\n",
      " [14  4 75 63 31 76  2 21 13 77]\n",
      " [43 30 37 89 99 57 61 80 69 14]\n",
      " [30 32 85 58 39 48 44 34 32 56]\n",
      " [75 37 37 71 58 85 31 75 61 24]\n",
      " [91 11 25 11 65 82 20  1 46 83]\n",
      " [51 11 90 32 36 97 22 35 43 76]\n",
      " [52 77  5 33 19 49 84 49 63 79]\n",
      " [52  2 19 55 47  9 37 91 41 96]\n",
      " [72 13 15 48 57 87 19 95 94 23]]\n",
      "--------------------------------------------------\n",
      "Numero máximo:  99\n",
      "Numero mínimo:  1\n"
     ]
    }
   ],
   "source": [
    "matriz_aleatorios = np.random.randint(100, size = (10,10))\n",
    "print(matriz_aleatorios)\n",
    "\n",
    "print(\"-\" * 50)\n",
    "\n",
    "print(\"Numero máximo: \", np.max(matriz_aleatorios))\n",
    "\n",
    "print(\"Numero mínimo: \", np.min(matriz_aleatorios))"
   ]
  },
  {
   "cell_type": "markdown",
   "metadata": {},
   "source": [
    "## Ejercicio 14\n",
    "Crea un vector aleatorio de tamaño 30 y calcula su media"
   ]
  },
  {
   "cell_type": "code",
   "execution_count": 55,
   "metadata": {},
   "outputs": [
    {
     "name": "stdout",
     "output_type": "stream",
     "text": [
      "[50 24 54 53 32 74 81 20  8 33  8 97 20 38 35 35 40 67 46 40 64 39  7  6\n",
      " 74 51 72 90 41 64]\n",
      "--------------------------------------------------\n",
      "Media:  45.43\n"
     ]
    }
   ],
   "source": [
    "matriz_aleatorios_02 = np.random.randint(100, size=30)\n",
    "print(matriz_aleatorios_02)\n",
    "\n",
    "print(\"-\" * 50)\n",
    "\n",
    "print(\"Media: \", round(np.mean(matriz_aleatorios_02), 2))"
   ]
  },
  {
   "cell_type": "markdown",
   "metadata": {},
   "source": [
    "## Ejercicio 15\n",
    "Crea un array cuadrado de 2D, con las dimensiones que quieras, pero que todo el borde esté compuesto por 1s, y el interior por 0s"
   ]
  },
  {
   "cell_type": "code",
   "execution_count": 89,
   "metadata": {},
   "outputs": [
    {
     "name": "stdout",
     "output_type": "stream",
     "text": [
      "[[0 0 0 0 0 0 0 0 0 0]\n",
      " [0 0 0 0 0 0 0 0 0 0]\n",
      " [0 0 0 0 0 0 0 0 0 0]\n",
      " [0 0 0 0 0 0 0 0 0 0]\n",
      " [0 0 0 0 0 0 0 0 0 0]\n",
      " [0 0 0 0 0 0 0 0 0 0]\n",
      " [0 0 0 0 0 0 0 0 0 0]\n",
      " [0 0 0 0 0 0 0 0 0 0]\n",
      " [0 0 0 0 0 0 0 0 0 0]\n",
      " [0 0 0 0 0 0 0 0 0 0]]\n",
      "--------------------------------------------------\n",
      "[[1 1 1 1 1 1 1 1 1 1]\n",
      " [1 0 0 0 0 0 0 0 0 1]\n",
      " [1 0 0 0 0 0 0 0 0 1]\n",
      " [1 0 0 0 0 0 0 0 0 1]\n",
      " [1 0 0 0 0 0 0 0 0 1]\n",
      " [1 0 0 0 0 0 0 0 0 1]\n",
      " [1 0 0 0 0 0 0 0 0 1]\n",
      " [1 0 0 0 0 0 0 0 0 1]\n",
      " [1 0 0 0 0 0 0 0 0 1]\n",
      " [1 1 1 1 1 1 1 1 1 1]]\n"
     ]
    }
   ],
   "source": [
    "matriz_ejer15 = np.full((10, 10), 0)\n",
    "print(matriz_ejer15)\n",
    "\n",
    "print(\"-\" * 50)\n",
    "\n",
    "matriz_ejer15[0:1][0:] = 1\n",
    "matriz_ejer15[9:][0:] = 1\n",
    "\n",
    "matriz_ejer15[:, 0] = 1\n",
    "matriz_ejer15[:, 9] = 1\n",
    "\n",
    "print(matriz_ejer15)"
   ]
  },
  {
   "cell_type": "code",
   "execution_count": null,
   "metadata": {},
   "outputs": [],
   "source": [
    "my_filter = ([True, False, True])\n",
    "\n",
    "xy[0][my_filter] = 10\n",
    "print(xy)\n"
   ]
  },
  {
   "cell_type": "markdown",
   "metadata": {},
   "source": [
    "## Ejercicio 16\n",
    "Crea una matriz de 8x8, y rellénala con 0s y 1s. Tienes que replicar:\n",
    "```Python\n",
    "[[0 1 0 1 0 1 0 1]\n",
    " [1 0 1 0 1 0 1 0]\n",
    " [0 1 0 1 0 1 0 1]\n",
    " [1 0 1 0 1 0 1 0]\n",
    " [0 1 0 1 0 1 0 1]\n",
    " [1 0 1 0 1 0 1 0]\n",
    " [0 1 0 1 0 1 0 1]\n",
    " [1 0 1 0 1 0 1 0]]\n",
    "```"
   ]
  },
  {
   "cell_type": "code",
   "execution_count": 108,
   "metadata": {},
   "outputs": [
    {
     "name": "stdout",
     "output_type": "stream",
     "text": [
      "[[0 0 0 0 0 0 0 0]\n",
      " [0 0 0 0 0 0 0 0]\n",
      " [0 0 0 0 0 0 0 0]\n",
      " [0 0 0 0 0 0 0 0]\n",
      " [0 0 0 0 0 0 0 0]\n",
      " [0 0 0 0 0 0 0 0]\n",
      " [0 0 0 0 0 0 0 0]\n",
      " [0 0 0 0 0 0 0 0]]\n",
      "--------------------------------------------------\n",
      "[[0 1 0 1 0 1 0 1]\n",
      " [1 0 1 0 1 0 1 0]\n",
      " [0 1 0 1 0 1 0 1]\n",
      " [1 0 1 0 1 0 1 0]\n",
      " [0 1 0 1 0 1 0 1]\n",
      " [1 0 1 0 1 0 1 0]\n",
      " [0 1 0 1 0 1 0 1]\n",
      " [1 0 1 0 1 0 1 0]]\n"
     ]
    }
   ],
   "source": [
    "matriz_ejer15 = np.full((8, 8), 0)\n",
    "print(matriz_ejer15)\n",
    "\n",
    "print(\"-\" * 50)\n",
    "\n",
    "matriz_ejer15[1::2, ::2] = 1  \n",
    "matriz_ejer15[::2, 1::2] = 1  \n",
    "\n",
    "print(matriz_ejer15)\n"
   ]
  },
  {
   "cell_type": "markdown",
   "metadata": {},
   "source": [
    "## Ejercicio 17\n",
    "Replica la matriz del apartado anterior, pero en este caso usando [la función `tile`](https://numpy.org/doc/stable/reference/generated/numpy.tile.html)"
   ]
  },
  {
   "cell_type": "code",
   "execution_count": 118,
   "metadata": {},
   "outputs": [
    {
     "name": "stdout",
     "output_type": "stream",
     "text": [
      "[[0 1 0 1 0 1 0 1]\n",
      " [1 0 1 0 1 0 1 0]\n",
      " [0 1 0 1 0 1 0 1]\n",
      " [1 0 1 0 1 0 1 0]\n",
      " [0 1 0 1 0 1 0 1]\n",
      " [1 0 1 0 1 0 1 0]\n",
      " [0 1 0 1 0 1 0 1]\n",
      " [1 0 1 0 1 0 1 0]]\n"
     ]
    }
   ],
   "source": [
    "matriz_ejer17 = np.tile([[0,1], [1,0]], (4, 4))\n",
    "\n",
    "print(matriz_ejer17)"
   ]
  },
  {
   "cell_type": "markdown",
   "metadata": {},
   "source": [
    "## Ejercicio 18\n",
    "Crea una matriz aleatoria de 5x5 y normaliza sus valores. Para normalizar tienes que restar sus valores por la media(`np.mean`) y dividir el resultado por la desviación estándar(`np.std`)."
   ]
  },
  {
   "cell_type": "code",
   "execution_count": 142,
   "metadata": {},
   "outputs": [
    {
     "name": "stdout",
     "output_type": "stream",
     "text": [
      "[[4 6 5 8 1]\n",
      " [1 5 5 4 9]\n",
      " [7 3 1 9 1]\n",
      " [1 4 8 2 7]\n",
      " [4 8 6 9 9]]\n",
      "--------------------\n",
      "Media de todos los numeros de la matriz:  5.08\n",
      "Desviación estándar:  2.81\n",
      "[[-0.38434164  0.32740214 -0.02846975  1.03914591 -1.4519573 ]\n",
      " [-1.4519573  -0.02846975 -0.02846975 -0.38434164  1.39501779]\n",
      " [ 0.68327402 -0.74021352 -1.4519573   1.39501779 -1.4519573 ]\n",
      " [-1.4519573  -0.38434164  1.03914591 -1.09608541  0.68327402]\n",
      " [-0.38434164  1.03914591  0.32740214  1.39501779  1.39501779]]\n"
     ]
    }
   ],
   "source": [
    "matriz_aleatorios_03 = np.random.randint(1, 10, size = (5,5))\n",
    "print(matriz_aleatorios_03)\n",
    "\n",
    "print(\"-\" * 20)\n",
    "\n",
    "media_aleatorios = round(np.mean(matriz_aleatorios_03), 2)\n",
    "print(\"Media de todos los numeros de la matriz: \", media_aleatorios)\n",
    "\n",
    "desviacion_std = round(np.std(matriz_aleatorios_03), 2)\n",
    "print(\"Desviación estándar: \", desviacion_std)\n",
    "\n",
    "normalizacion = (matriz_aleatorios_03 - media_aleatorios) / desviacion_std\n",
    "\n",
    "print(normalizacion)\n",
    "\n",
    "\n"
   ]
  },
  {
   "cell_type": "code",
   "execution_count": 136,
   "metadata": {},
   "outputs": [
    {
     "name": "stdout",
     "output_type": "stream",
     "text": [
      "Suma de todos los numeros: 66\n",
      "La media de los numeros del array es: 2.64\n"
     ]
    }
   ],
   "source": [
    "def sacar_media(array):\n",
    "    suma = 0\n",
    "\n",
    "    for fila in array:\n",
    "        #print(fila)\n",
    "        for num in fila:\n",
    "            # print(num)\n",
    "            suma = suma + num\n",
    "    print(\"Suma de todos los numeros:\", suma)\n",
    "    media_numeros = suma / 25\n",
    "    # print(media_numeros)\n",
    "    return media_numeros\n",
    "\n",
    "\n",
    "matriz_prueba = ([1,2,3,2,3,4,3,4,5,6],[1,2,3,2,3,4,3,4,5,6])\n",
    "\n",
    "media = sacar_media(matriz_prueba)\n",
    "print(\"La media de los numeros del array es:\", media)"
   ]
  },
  {
   "cell_type": "markdown",
   "metadata": {},
   "source": [
    "## Ejercicio 19\n",
    "1. Crea una secuencia de números que vayan del 0 al 10.\n",
    "2. Crea un nuevo array, que parta del anterior, pero sustituya por el valor -1, todos los elementos cuyo valor se encuentre entre el 3 y el 8.\n",
    "3. Crea un nuevo array que niegue todos los elementos entre el 3 y el 8"
   ]
  },
  {
   "cell_type": "code",
   "execution_count": 148,
   "metadata": {},
   "outputs": [
    {
     "name": "stdout",
     "output_type": "stream",
     "text": [
      "[ 0  1  2  3  4  5  6  7  8  9 10]\n",
      "[3 4 5 6 7 8]\n",
      "[ 0  1  2  9 10]\n"
     ]
    }
   ],
   "source": [
    "secuencia_num = np.arange(11)\n",
    "print(secuencia_num)\n",
    "\n",
    "nuevo_array_01 = secuencia_num[(secuencia_num >= 3) & (secuencia_num <= 8)]\n",
    "print(nuevo_array_01)\n",
    "\n",
    "nuevo_array_02 = secuencia_num[~((secuencia_num >= 3) & (secuencia_num <= 8))]\n",
    "print(nuevo_array_02)"
   ]
  }
 ],
 "metadata": {
  "kernelspec": {
   "display_name": "Python 3",
   "language": "python",
   "name": "python3"
  },
  "language_info": {
   "codemirror_mode": {
    "name": "ipython",
    "version": 3
   },
   "file_extension": ".py",
   "mimetype": "text/x-python",
   "name": "python",
   "nbconvert_exporter": "python",
   "pygments_lexer": "ipython3",
   "version": "3.13.7"
  }
 },
 "nbformat": 4,
 "nbformat_minor": 4
}
