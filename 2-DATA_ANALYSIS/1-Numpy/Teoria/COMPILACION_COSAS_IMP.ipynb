{
 "cells": [
  {
   "cell_type": "code",
   "execution_count": 2,
   "id": "47aa692f",
   "metadata": {},
   "outputs": [],
   "source": [
    "import numpy as np"
   ]
  },
  {
   "cell_type": "markdown",
   "id": "16b21550",
   "metadata": {},
   "source": [
    "### Lista de métodos vistos para los arrays."
   ]
  },
  {
   "cell_type": "markdown",
   "id": "bcdf4ae6",
   "metadata": {},
   "source": [
    "Método arange (equivalente al range de python)"
   ]
  },
  {
   "cell_type": "code",
   "execution_count": 3,
   "id": "ea9153d8",
   "metadata": {},
   "outputs": [
    {
     "name": "stdout",
     "output_type": "stream",
     "text": [
      "[0 1 2 3 4 5 6 7 8 9]\n",
      "[0 2 4 6 8]\n",
      "[10  9  8  7  6  5  4  3  2  1]\n",
      "[0.  0.5 1.  1.5 2.  2.5 3.  3.5 4.  4.5 5.  5.5 6.  6.5 7.  7.5 8.  8.5\n",
      " 9.  9.5]\n",
      "[0. 2. 4. 6. 8.]\n"
     ]
    }
   ],
   "source": [
    "# Array del 0 al 9\n",
    "print(np.arange(10))\n",
    "\n",
    "# Del 0 al 9, con saltos de 2\n",
    "print(np.arange(start=0,stop=10,step=2))\n",
    "\n",
    "# Del 10 al 0, con saltos de -1\n",
    "print(np.arange(10, 0, -1))\n",
    "\n",
    "# Array de 0 al 10, con saltos de 0.5\n",
    "print(np.arange(0, 10, 0.5))\n",
    "\n",
    "# Especficiando el tipo de dato\n",
    "print(np.arange(0, 10, 2, np.float16))"
   ]
  },
  {
   "cell_type": "markdown",
   "id": "99c3873a",
   "metadata": {},
   "source": [
    "Método random"
   ]
  },
  {
   "cell_type": "code",
   "execution_count": 4,
   "id": "2204797f",
   "metadata": {},
   "outputs": [
    {
     "name": "stdout",
     "output_type": "stream",
     "text": [
      "[0.03057145 0.04818099 0.14776551 0.27652903 0.26057171 0.39302228\n",
      " 0.35207596 0.44898219 0.6447991  0.4753712  0.70442671 0.37745639\n",
      " 0.54675758 0.66726652 0.33861211 0.25856347 0.53236713 0.73747329\n",
      " 0.35089788 0.85614294]\n",
      "--------------------\n",
      "[0.99 0.52 0.66 0.12 0.   0.33 0.06 0.46 0.19 0.96]\n",
      "--------------------\n",
      "[[1 0 3 1]\n",
      " [2 3 1 1]\n",
      " [0 2 1 2]]\n",
      "--------------------\n",
      "[9 9 5 6 9 6 7 9 7 7]\n",
      "--------------------\n",
      "[[14  5 16  5]\n",
      " [14 12 17  6]\n",
      " [11  8  5 18]]\n"
     ]
    }
   ],
   "source": [
    "# Si no se espcifica un rango, el que se coge por defecto es de 0 a 1\n",
    "print(np.random.rand(20))\n",
    "\n",
    "print(\"-\" * 20)\n",
    "\n",
    "# permite aplicar el round a todos los elementos, si no, tendriamos que iterar sobre todos los elementos \n",
    "array = np.random.rand(10)\n",
    "print(np.round(array,2))\n",
    "\n",
    "print(\"-\" * 20)\n",
    "\n",
    "# Matriz de numeros aleatorios\n",
    "print(np.random.randint(5, size = (3,4)))\n",
    "\n",
    "print(\"-\" * 20)\n",
    "\n",
    "# Lista unidimensional\n",
    "print(np.random.randint(5,10, size = (10)))\n",
    "\n",
    "print(\"-\" * 20)\n",
    "\n",
    "# Matriz bidimensional\n",
    "print(np.random.randint(5,20, size = (3,4)))"
   ]
  },
  {
   "cell_type": "markdown",
   "id": "68b05713",
   "metadata": {},
   "source": [
    "#### Métodos para crear arrays o matrices"
   ]
  },
  {
   "cell_type": "markdown",
   "id": "41825628",
   "metadata": {},
   "source": [
    "Matrices predefinidas con un único valor"
   ]
  },
  {
   "cell_type": "markdown",
   "id": "accfb592",
   "metadata": {},
   "source": [
    "- Método identidad\n",
    "\n",
    "Es una matriz cuadrada (mismo número de filas y columnas) que tiene:\n",
    "\n",
    "Todos los elementos de la diagonal principal iguales a 1\n",
    "\n",
    "Todos los demás elementos iguales a 0"
   ]
  },
  {
   "cell_type": "code",
   "execution_count": 5,
   "id": "ccb51550",
   "metadata": {},
   "outputs": [
    {
     "name": "stdout",
     "output_type": "stream",
     "text": [
      "[[1. 0. 0.]\n",
      " [0. 1. 0.]\n",
      " [0. 0. 1.]]\n",
      "--------------------\n",
      "[[1. 0. 0. 0. 0. 0. 0. 0. 0. 0.]\n",
      " [0. 1. 0. 0. 0. 0. 0. 0. 0. 0.]\n",
      " [0. 0. 1. 0. 0. 0. 0. 0. 0. 0.]\n",
      " [0. 0. 0. 1. 0. 0. 0. 0. 0. 0.]\n",
      " [0. 0. 0. 0. 1. 0. 0. 0. 0. 0.]\n",
      " [0. 0. 0. 0. 0. 1. 0. 0. 0. 0.]\n",
      " [0. 0. 0. 0. 0. 0. 1. 0. 0. 0.]\n",
      " [0. 0. 0. 0. 0. 0. 0. 1. 0. 0.]\n",
      " [0. 0. 0. 0. 0. 0. 0. 0. 1. 0.]\n",
      " [0. 0. 0. 0. 0. 0. 0. 0. 0. 1.]]\n"
     ]
    }
   ],
   "source": [
    "# Matriz identidad\n",
    "print(np.identity(3))\n",
    "\n",
    "# fila 0 columna 0 = 1\n",
    "# fila 0 columna 1 = 0\n",
    "# fila 0 columna 2 = 2\n",
    "\n",
    "# fila 1 columna 0 = 0\n",
    "# fila 1 columna 1 = 1\n",
    "# fila 1 columna 2 = 0\n",
    "\n",
    "# fila 2 columna 0 = 0\n",
    "# fila 2 columna 1 = 0\n",
    "# fila 2 columna 2 = 1\n",
    "\n",
    "print(\"-\" * 20)\n",
    "\n",
    "print(np.identity(10))"
   ]
  },
  {
   "cell_type": "markdown",
   "id": "c47ad2ba",
   "metadata": {},
   "source": [
    "- Método zeros\n",
    "\n",
    "Crea una matriz con todos los valores a 0"
   ]
  },
  {
   "cell_type": "code",
   "execution_count": 6,
   "id": "32dd6688",
   "metadata": {},
   "outputs": [
    {
     "data": {
      "text/plain": [
       "array([[0., 0., 0.],\n",
       "       [0., 0., 0.],\n",
       "       [0., 0., 0.]])"
      ]
     },
     "execution_count": 6,
     "metadata": {},
     "output_type": "execute_result"
    }
   ],
   "source": [
    "# Matriz de 0s\n",
    "np.zeros((3,3))"
   ]
  },
  {
   "cell_type": "markdown",
   "id": "d199e7b9",
   "metadata": {},
   "source": [
    "- Método ones\n",
    "\n",
    "Crea una matriz con todos los valores a 1"
   ]
  },
  {
   "cell_type": "code",
   "execution_count": 7,
   "id": "f9974fbb",
   "metadata": {},
   "outputs": [
    {
     "data": {
      "text/plain": [
       "array([[1, 1, 1],\n",
       "       [1, 1, 1],\n",
       "       [1, 1, 1]], dtype=int8)"
      ]
     },
     "execution_count": 7,
     "metadata": {},
     "output_type": "execute_result"
    }
   ],
   "source": [
    "# Matriz de unos con tipo de datos int8\n",
    "np.ones((3,3), np.int8)"
   ]
  },
  {
   "cell_type": "markdown",
   "id": "bf8cabe3",
   "metadata": {},
   "source": [
    "Matrices predefinidas introduciendo valor"
   ]
  },
  {
   "cell_type": "code",
   "execution_count": 8,
   "id": "af0597d3",
   "metadata": {},
   "outputs": [
    {
     "name": "stdout",
     "output_type": "stream",
     "text": [
      "[[10 10 10]\n",
      " [10 10 10]\n",
      " [10 10 10]\n",
      " [10 10 10]]\n",
      "[[20 20 20]\n",
      " [20 20 20]\n",
      " [20 20 20]\n",
      " [20 20 20]]\n"
     ]
    }
   ],
   "source": [
    "array_02 = np.full((4,3), 10)\n",
    "print(array_02)\n",
    "print(array_02 * 2)"
   ]
  },
  {
   "cell_type": "markdown",
   "id": "9ca5a74f",
   "metadata": {},
   "source": [
    "#### Atributos del array"
   ]
  },
  {
   "cell_type": "code",
   "execution_count": 9,
   "id": "8f1a6496",
   "metadata": {},
   "outputs": [
    {
     "name": "stdout",
     "output_type": "stream",
     "text": [
      "[[1 2 3]\n",
      " [4 5 6]\n",
      " [7 8 9]]\n",
      "2\n",
      "(3, 3)\n",
      "9\n",
      "8\n",
      "72\n"
     ]
    }
   ],
   "source": [
    "array_multi = np.array([[1,2,3], [4,5,6], [7,8,9]])\n",
    "\n",
    "print(array_multi)\n",
    "\n",
    "# Número de dimernsiones\n",
    "print(array_multi.ndim)\n",
    "\n",
    "# Tamaño de cada una de las dimensiones, devuelve una tupla\n",
    "print(array_multi.shape)\n",
    "\n",
    "# Cantidad de elementos del array\n",
    "print(array_multi.size)\n",
    "\n",
    "# Tamaño em bytes de los items del array\n",
    "print(array_multi.itemsize)\n",
    "\n",
    "# Tamaño em bytes de todo el array\n",
    "print(array_multi.nbytes)"
   ]
  },
  {
   "cell_type": "markdown",
   "id": "272ac0ae",
   "metadata": {},
   "source": [
    "#### INDEXADO, ACCESO A LOS ELEMENTOS DEL ARRAY"
   ]
  },
  {
   "cell_type": "code",
   "execution_count": 10,
   "id": "21e18675",
   "metadata": {},
   "outputs": [
    {
     "data": {
      "text/plain": [
       "array([[[ 25,  13,  16,  48,  88,   8,  52,  66,  59,  99],\n",
       "        [ 67,  31,  34,  40,  22,  49,  81,  49,  81,  97],\n",
       "        [ 11,  94,  22,  92,  72,  96,  43,  80,  34,  63]],\n",
       "\n",
       "       [[ 63,  69,  87,  12,  38,  96,  77,  14,  23,  29],\n",
       "        [ 61,  50,  52,  78,  87,   6,   2,   3,  94,  80],\n",
       "        [ 45,   1,  62,  90,  52,   7,  51,  23,  17,   9]],\n",
       "\n",
       "       [[ 36,  15,  17,   9,  98,  63,  49,  87,   4,  30],\n",
       "        [ 78,  23,  46,  79,  67,  56,  78,  55,  90,   2],\n",
       "        [ 99,  39,  23,  23,  72,   2,  34,  33,  41, 100]]], dtype=int32)"
      ]
     },
     "execution_count": 10,
     "metadata": {},
     "output_type": "execute_result"
    }
   ],
   "source": [
    "array_03 = np.random.randint(1, 101, size = (3,3,10))\n",
    "\n",
    "array_03"
   ]
  },
  {
   "cell_type": "code",
   "execution_count": 11,
   "id": "fdacdad6",
   "metadata": {},
   "outputs": [
    {
     "name": "stdout",
     "output_type": "stream",
     "text": [
      "[[25 13 16 48 88  8 52 66 59 99]\n",
      " [67 31 34 40 22 49 81 49 81 97]\n",
      " [11 94 22 92 72 96 43 80 34 63]]\n",
      "--------------------\n",
      "[[25 13 16 48 88  8 52 66 59 99]\n",
      " [67 31 34 40 22 49 81 49 81 97]\n",
      " [11 94 22 92 72 96 43 80 34 63]]\n",
      "--------------------\n",
      "[25 13 16 48 88  8 52 66 59 99]\n",
      "[25 13 16 48 88  8 52 66 59 99]\n",
      "--------------------\n",
      "25\n",
      "25\n",
      "--------------------\n",
      "[16 48 88]\n",
      "[16 48 88]\n"
     ]
    }
   ],
   "source": [
    "print(array_03[0])\n",
    "\n",
    "print(\"-\" * 20)\n",
    "\n",
    "print(array_03[0])\n",
    "print(\"-\" * 20)\n",
    "print(array_03[0][0])\n",
    "print(array_03[0, 0])\n",
    "print(\"-\" * 20)\n",
    "print(array_03[0][0][0])\n",
    "print(array_03[0, 0, 0])\n",
    "print(\"-\" * 20)\n",
    "print(array_03[0][0][2:5])\n",
    "print(array_03[0, 0, 2:5])"
   ]
  },
  {
   "cell_type": "markdown",
   "id": "090e97e6",
   "metadata": {},
   "source": [
    "### Slicing y subarrays\n",
    "\n",
    "Sintaxis:\n",
    "\n",
    "x[start:stop:step]"
   ]
  },
  {
   "cell_type": "code",
   "execution_count": 12,
   "id": "e1eba72e",
   "metadata": {},
   "outputs": [
    {
     "name": "stdout",
     "output_type": "stream",
     "text": [
      "[0 1 2 3 4 5 6 7 8 9]\n",
      "Del primer elemento al quinto [0 1 2 3 4]\n",
      "Del primero al quinto con saltos de dos [0 2 4]\n",
      "Desde el quinto [5 6 7 8 9]\n",
      "Desde el quinto [5 6 7 8 9]\n",
      "Desde el quinto hasta el penultimo [5 6 7 8]\n",
      "Desde el quinto, al primero [5 4 3 2 1 0]\n",
      "Sacar una copia [0 1 2 3 4 5 6 7 8 9]\n",
      "Sacar una copia [0 1 2 3 4 5 6 7 8 9]\n",
      "Ultimos dos elementos [8 9]\n"
     ]
    }
   ],
   "source": [
    "# Array de 10 elementos\n",
    "x = np.arange(10)\n",
    "print(x)\n",
    "\n",
    "print(\"Del primer elemento al quinto\", x[0:5])\n",
    "\n",
    "print(\"Del primero al quinto con saltos de dos\", x[0:5:2])\n",
    "\n",
    "print(\"Desde el quinto\", x[5::])\n",
    "print(\"Desde el quinto\", x[5:]) # equivalente\n",
    "\n",
    "print(\"Desde el quinto hasta el penultimo\", x[5:-1])\n",
    "\n",
    "print(\"Desde el quinto, al primero\", x[5::-1])\n",
    "\n",
    "print(\"Sacar una copia\", x[:])\n",
    "print(\"Sacar una copia\", x.copy())\n",
    "\n",
    "print(\"Ultimos dos elementos\",x[-2:])"
   ]
  },
  {
   "cell_type": "markdown",
   "id": "8c1f4ef1",
   "metadata": {},
   "source": [
    "#### MÁSCARA DE BOOLEANOS"
   ]
  },
  {
   "cell_type": "code",
   "execution_count": 13,
   "id": "baa76b6a",
   "metadata": {},
   "outputs": [
    {
     "name": "stdout",
     "output_type": "stream",
     "text": [
      "[2 4 5 2 3 7 2]\n",
      "[False False False False False  True False]\n",
      "[array([False, False, False, False, False,  True, False])]\n"
     ]
    }
   ],
   "source": [
    "x = np.array([2,4,5,2,3,7,2])\n",
    "\n",
    "print(x)\n",
    "print(x > 5)\n",
    "array_mas_5 = [x > 5 ]\n",
    "print(array_mas_5)"
   ]
  },
  {
   "cell_type": "code",
   "execution_count": 14,
   "id": "cbebcd6a",
   "metadata": {},
   "outputs": [
    {
     "name": "stdout",
     "output_type": "stream",
     "text": [
      "[False False  True False False  True False]\n",
      "[5 7]\n"
     ]
    }
   ],
   "source": [
    "x_bools = np.array(x >= 5)\n",
    "print(x_bools)\n",
    "\n",
    "print(x[x_bools])\n",
    "# print(x_bools[x_bools])"
   ]
  },
  {
   "cell_type": "code",
   "execution_count": 15,
   "id": "3cc8bda3",
   "metadata": {},
   "outputs": [
    {
     "name": "stdout",
     "output_type": "stream",
     "text": [
      "[5 7]\n"
     ]
    }
   ],
   "source": [
    "x_new = x[x >= 5]\n",
    "print(x_new)"
   ]
  },
  {
   "cell_type": "code",
   "execution_count": 16,
   "id": "58db2f4e",
   "metadata": {},
   "outputs": [
    {
     "name": "stdout",
     "output_type": "stream",
     "text": [
      "[5, 7]\n"
     ]
    }
   ],
   "source": [
    "# Sería el equivalente a esto\n",
    "\n",
    "mi_lista = [2,4,5,2,3,7,2]\n",
    "lista_filtrada = []\n",
    "\n",
    "for elem in mi_lista:\n",
    "    if elem >= 5:\n",
    "        lista_filtrada.append(elem)\n",
    "\n",
    "print(lista_filtrada)"
   ]
  },
  {
   "cell_type": "markdown",
   "id": "c64ffa23",
   "metadata": {},
   "source": [
    "#### Función reshape\n",
    "\n",
    "Sirve para cambiar las dimensiones de un array siempre que el número de elemmentos del arry lo permita.  Por ejemplo, si tenemos 4 elementos, no podremos hacer una matriz de 3x3."
   ]
  },
  {
   "cell_type": "code",
   "execution_count": 17,
   "id": "2d57d477",
   "metadata": {},
   "outputs": [
    {
     "name": "stdout",
     "output_type": "stream",
     "text": [
      "[0 1 2 3 4 5 6 7 8]\n",
      "[[0 1 2]\n",
      " [3 4 5]\n",
      " [6 7 8]]\n"
     ]
    }
   ],
   "source": [
    "x = np.arange(9)\n",
    "print(x)\n",
    "\n",
    "y = x.reshape((3,3))\n",
    "print(y)"
   ]
  },
  {
   "cell_type": "code",
   "execution_count": 18,
   "id": "8770f53d",
   "metadata": {},
   "outputs": [
    {
     "name": "stdout",
     "output_type": "stream",
     "text": [
      "[[[ 0  1  2  3  4]\n",
      "  [ 5  6  7  8  9]\n",
      "  [10 11 12 13 14]]\n",
      "\n",
      " [[15 16 17 18 19]\n",
      "  [20 21 22 23 24]\n",
      "  [25 26 27 28 29]]]\n",
      "--------------------\n",
      "[[ 0  1  2  3  4]\n",
      " [ 5  6  7  8  9]\n",
      " [10 11 12 13 14]\n",
      " [15 16 17 18 19]\n",
      " [20 21 22 23 24]\n",
      " [25 26 27 28 29]]\n"
     ]
    }
   ],
   "source": [
    "x = np.arange(30).reshape(2,3,5) # 2 * 3 * 5\n",
    "print(x)\n",
    "\n",
    "print(\"--------------------\")\n",
    "\n",
    "x = np.arange(30).reshape((6,5)) # 6 * 5\n",
    "print(x)"
   ]
  },
  {
   "cell_type": "code",
   "execution_count": 19,
   "id": "121c1344",
   "metadata": {},
   "outputs": [
    {
     "name": "stdout",
     "output_type": "stream",
     "text": [
      "[[ 0  1  2  3  4]\n",
      " [ 5  6  7  8  9]\n",
      " [10 11 12 13 14]\n",
      " [15 16 17 18 19]\n",
      " [20 21 22 23 24]\n",
      " [25 26 27 28 29]]\n",
      "--------------------\n",
      "[[ 0  1  2  3  4  5]\n",
      " [ 6  7  8  9 10 11]\n",
      " [12 13 14 15 16 17]\n",
      " [18 19 20 21 22 23]\n",
      " [24 25 26 27 28 29]]\n"
     ]
    }
   ],
   "source": [
    "# Mete 6 filas, el -1 significa que meta columnas hasta que quepan 36 columanas\n",
    "x = np.arange(30).reshape((6,-1))\n",
    "print(x)\n",
    "\n",
    "print(\"--------------------\")\n",
    "\n",
    "z = np.arange(30).reshape((-1,6))\n",
    "print(z)"
   ]
  },
  {
   "cell_type": "markdown",
   "id": "6cbbaed5",
   "metadata": {},
   "source": [
    "#### Métodos para la concatenación\n",
    "\n",
    "Hay que tener en cuenta es que coincidan las dimensiones, para que el concatenado sea correcto."
   ]
  },
  {
   "cell_type": "code",
   "execution_count": 20,
   "id": "22057ec4",
   "metadata": {},
   "outputs": [
    {
     "name": "stdout",
     "output_type": "stream",
     "text": [
      "[1, 2, 3, 1, 2, 3]\n",
      "[1, 2, 3, 4, 5, 6]\n",
      "[2 4 6]\n",
      "[20 40 60]\n",
      "[1. 2. 3.]\n",
      "[3 5 7]\n",
      "[1 3 5]\n",
      "[ 4 16 36]\n"
     ]
    }
   ],
   "source": [
    "# El concatenado de las listas con Python no funciona igual que el de las series en Numpy.\n",
    "\n",
    "print([1,2,3] + [1,2,3])\n",
    "\n",
    "lista_01 = [1, 2, 3]\n",
    "lista_02 = [4, 5, 6]\n",
    "lista_concatenada = lista_01 + lista_02\n",
    "print(lista_concatenada)\n",
    "\n",
    "# En este caso se están sumando los valores de las columnas de los arrays\n",
    "array_suma = np.array([1,2,3]) + np.array([1,2,3])\n",
    "print(array_suma)\n",
    "print(array_suma * 10)\n",
    "print(array_suma / 2)\n",
    "print(array_suma + 1)\n",
    "print(array_suma - 1)\n",
    "print(array_suma ** 2)"
   ]
  },
  {
   "cell_type": "code",
   "execution_count": 21,
   "id": "b5ff0761",
   "metadata": {},
   "outputs": [
    {
     "name": "stdout",
     "output_type": "stream",
     "text": [
      "[[1 2 3]\n",
      " [4 5 6]\n",
      " [1 2 3]\n",
      " [4 5 6]]\n",
      "--------------------\n",
      "[[1 2 3 1 2 3]\n",
      " [4 5 6 4 5 6]]\n"
     ]
    }
   ],
   "source": [
    "# Método concatenate\n",
    "# Por defecto, el concatenado es horizontal\n",
    "\n",
    "# Arrays unidimensionales\n",
    "x = np.array([1,2,3])\n",
    "y = np.array([3,2,1])\n",
    "np.concatenate((x,y))\n",
    "\n",
    "# Arrays bidimensionales (matrices)\n",
    "xy = np.array([[1,2,3],\n",
    "              [4,5,6]])\n",
    "\n",
    "np.concatenate([xy,xy])\n",
    "\n",
    "# En el caso de los arrays bidimensionales podemos jugar con las dimensiones y elegir el tipo de concatenado con el argumento axis.\n",
    "xy_01 = np.concatenate([xy,xy], axis = 0) # Por defecto\n",
    "print(xy_01)\n",
    "\n",
    "print(\"--------------------\")\n",
    "\n",
    "xy_02 = np.concatenate([xy,xy], axis = 1)\n",
    "print(xy_02)\n"
   ]
  },
  {
   "cell_type": "code",
   "execution_count": 22,
   "id": "28825250",
   "metadata": {},
   "outputs": [
    {
     "data": {
      "text/plain": [
       "array([[1, 2, 3],\n",
       "       [4, 5, 6],\n",
       "       [7, 8, 9]])"
      ]
     },
     "execution_count": 22,
     "metadata": {},
     "output_type": "execute_result"
    }
   ],
   "source": [
    "# Para arrays de varias dimensiones puede ser mejor usar el método vstack para el concatenado vertical\n",
    "xy = np.array([[1,2,3],\n",
    "              [4,5,6]])\n",
    "\n",
    "x = np.array([7,8,9])\n",
    "\n",
    "np.vstack([xy,x])\n",
    "\n",
    "\n"
   ]
  },
  {
   "cell_type": "code",
   "execution_count": 23,
   "id": "227c6331",
   "metadata": {},
   "outputs": [
    {
     "data": {
      "text/plain": [
       "array([[1, 2, 3, 7],\n",
       "       [4, 5, 6, 8]])"
      ]
     },
     "execution_count": 23,
     "metadata": {},
     "output_type": "execute_result"
    }
   ],
   "source": [
    "# Para el concatenado horzontal se usaria hstack\n",
    "zt = np.array([[1,2,3],\n",
    "              [4,5,6]])\n",
    "\n",
    "w = np.array([[7], [8]])\n",
    "np.hstack([zt,w])"
   ]
  },
  {
   "cell_type": "markdown",
   "id": "1ce13573",
   "metadata": {},
   "source": [
    "#### Sustitucion\n",
    "En `numpy` podemos aplicar operaciones para sustituir elementos dependiendo de ciertas condiciones, y con esa sintaxis de sustitución también es posible filtrar datos de las matrices."
   ]
  },
  {
   "cell_type": "code",
   "execution_count": 24,
   "id": "d1aacfd3",
   "metadata": {},
   "outputs": [
    {
     "name": "stdout",
     "output_type": "stream",
     "text": [
      "[1 2]\n",
      "\n"
     ]
    }
   ],
   "source": [
    "xy = np.array([[1,2,3],\n",
    "              [4,5,6]])\n",
    "\n",
    "print(xy[0,0:2]) # la posicion 2 no se muestra\n",
    "print()"
   ]
  },
  {
   "cell_type": "code",
   "execution_count": 25,
   "id": "2e63b456",
   "metadata": {},
   "outputs": [
    {
     "name": "stdout",
     "output_type": "stream",
     "text": [
      "[[1 2 3]\n",
      " [4 5 6]]\n"
     ]
    },
    {
     "data": {
      "text/plain": [
       "array([1, 3])"
      ]
     },
     "execution_count": 25,
     "metadata": {},
     "output_type": "execute_result"
    }
   ],
   "source": [
    "# Lista de booleanos aplicada al array\n",
    "print(xy)\n",
    "\n",
    "my_filter = ([True, False],[True, False,True]) # equivale a este slicing xy[0,0:2:2]\n",
    "# filter = np.array([True, False, True])\n",
    "xy[my_filter]"
   ]
  },
  {
   "cell_type": "code",
   "execution_count": 26,
   "id": "870f2558",
   "metadata": {},
   "outputs": [
    {
     "name": "stdout",
     "output_type": "stream",
     "text": [
      "[[10  2 10]\n",
      " [ 4  5  6]]\n"
     ]
    }
   ],
   "source": [
    "my_filter = ([True, False, True])\n",
    "\n",
    "xy[0][my_filter] = 10\n",
    "print(xy)"
   ]
  },
  {
   "cell_type": "markdown",
   "id": "caa5e240",
   "metadata": {},
   "source": [
    "Método where. Sintaxis:\n",
    "\n",
    "np.where(condición, x, y)\n",
    "\n",
    "- condición = expresión booleana\n",
    "- x = Valor que se elige cuando la condición es True.\n",
    "- y = Valor que se elige cuando la condición es False."
   ]
  },
  {
   "cell_type": "code",
   "execution_count": 27,
   "id": "33e87845",
   "metadata": {},
   "outputs": [
    {
     "name": "stdout",
     "output_type": "stream",
     "text": [
      "[[10 10 10]\n",
      " [20 20 20]]\n",
      "--------------------\n",
      "[[10 10 10]\n",
      " [ 4  5  6]]\n"
     ]
    }
   ],
   "source": [
    "xy = np.array([[1,2,3],\n",
    "              [4,5,6]])\n",
    "\n",
    "\n",
    "print(np.where(xy < 4, 10, 20))\n",
    "\n",
    "print(\"-\" * 20)\n",
    "\n",
    "# En este caso, si la condición es False, se mantienen los valores del array\n",
    "print(np.where(xy < 4, 10, xy))"
   ]
  },
  {
   "cell_type": "code",
   "execution_count": 28,
   "id": "d3e243d3",
   "metadata": {},
   "outputs": [
    {
     "name": "stdout",
     "output_type": "stream",
     "text": [
      "[[10 10 10]\n",
      " [ 1  1  1]]\n"
     ]
    }
   ],
   "source": [
    "xy = np.array([[1,2,3],\n",
    "              [4,5,6]])\n",
    "\n",
    "\n",
    "print(np.where(xy < 4, 10, True))"
   ]
  },
  {
   "cell_type": "markdown",
   "id": "044afb14",
   "metadata": {},
   "source": [
    "#### Copias\n",
    "Una característica importante y extremadamente útil en los arrays es que cuando **hacemos *slicing*, realmente obtenemos de los arrays vistas, no copias**. ¿Esto qué significa? Que si hacemos *slicing*, creando un nuevo array, y lo modificamos, también estaremos modificando el original.\n",
    "\n",
    "Esto difiere con las listas de Python, que al aplicar *slicing* lo que obtenemos es una copia, y por tanto cualquier modificación sobre la nueva lista no afectará a la lista original.\n",
    "\n",
    "Declaro un array"
   ]
  },
  {
   "cell_type": "code",
   "execution_count": 29,
   "id": "d96b5a95",
   "metadata": {},
   "outputs": [
    {
     "data": {
      "text/plain": [
       "array([[1., 1., 1., 1.],\n",
       "       [1., 1., 1., 1.],\n",
       "       [1., 1., 1., 1.]])"
      ]
     },
     "execution_count": 29,
     "metadata": {},
     "output_type": "execute_result"
    }
   ],
   "source": [
    "x2 = np.ones((3, 4))\n",
    "x2"
   ]
  },
  {
   "cell_type": "code",
   "execution_count": 30,
   "id": "bb231efb",
   "metadata": {},
   "outputs": [
    {
     "name": "stdout",
     "output_type": "stream",
     "text": [
      "[[1. 1.]\n",
      " [1. 1.]]\n"
     ]
    }
   ],
   "source": [
    "x2_sub = x2[:2, :2]\n",
    "print(x2_sub)"
   ]
  },
  {
   "cell_type": "code",
   "execution_count": 31,
   "id": "dc435c55",
   "metadata": {},
   "outputs": [
    {
     "name": "stdout",
     "output_type": "stream",
     "text": [
      "[[99.  1.]\n",
      " [ 1.  1.]]\n"
     ]
    }
   ],
   "source": [
    "# El array ha cambiado\n",
    "x2_sub[0, 0] = 99\n",
    "print(x2_sub)"
   ]
  },
  {
   "cell_type": "code",
   "execution_count": 32,
   "id": "a70e95cc",
   "metadata": {},
   "outputs": [
    {
     "name": "stdout",
     "output_type": "stream",
     "text": [
      "[[99.  1.]\n",
      " [ 1.  1.]]\n"
     ]
    }
   ],
   "source": [
    "# Si no queremos modificar un array podemos hacer una copia\n",
    "x2_sub_copy = x2[:2, :2].copy()\n",
    "print(x2_sub_copy)"
   ]
  },
  {
   "cell_type": "code",
   "execution_count": 33,
   "id": "f4372c60",
   "metadata": {},
   "outputs": [
    {
     "name": "stdout",
     "output_type": "stream",
     "text": [
      "[10  2  3]\n",
      "[1 2 3 4 5]\n"
     ]
    }
   ],
   "source": [
    "lista_1 = np.array([1,2,3,4,5])\n",
    "lista_1_sub = lista_1[0:3].copy()\n",
    "lista_1_sub[0]=10\n",
    "print(lista_1_sub)\n",
    "print(lista_1)"
   ]
  },
  {
   "cell_type": "markdown",
   "id": "89528842",
   "metadata": {},
   "source": [
    "#### Splitting\n",
    "Al igual que hacíamos el concatenado, podemos realizar la operación contraria mediante `np.split`, `np.hsplit` y `np.vsplit`. Le podemos pasar una lista de indices por los que realizar el split."
   ]
  },
  {
   "cell_type": "code",
   "execution_count": 34,
   "id": "3f918dfc",
   "metadata": {},
   "outputs": [
    {
     "name": "stdout",
     "output_type": "stream",
     "text": [
      "[ 1  2  3 99 99  3  2  1]\n",
      "--------------------\n",
      "[ 1  2  3 99]\n",
      "[99  3  2  1]\n",
      "--------------------\n",
      "[1 2]\n",
      "[ 3 99 99]\n",
      "[3 2 1]\n",
      "[1 2]\n",
      "[ 3 99 99]\n",
      "[3 2 1]\n"
     ]
    }
   ],
   "source": [
    "x = np.array([1, 2, 3, 99, 99, 3, 2, 1])\n",
    "print(x)\n",
    "\n",
    "print(\"-\" * 20)\n",
    "\n",
    "x1,x2 = np.split(x, 2)\n",
    "print(x1)\n",
    "print(x2)\n",
    "\n",
    "print(\"-\" * 20)\n",
    "\n",
    "# En est caso, 2 y 5 indica los índices de división por los que se hace el corte\n",
    "\"\"\"\n",
    "índices:  0   1   2   3   4   5   6   7\n",
    "x =      [1,  2,  3, 99, 99,  3,  2,  1]\n",
    "             ^       ^\n",
    "             2       5\n",
    "\"\"\"\n",
    "\n",
    "x1, x2, x3 = np.split(x, [2, 5])\n",
    "print(x1)\n",
    "print(x2)\n",
    "print(x3)\n",
    "\n",
    "print(x[:2])\n",
    "print(x[2:5])\n",
    "print(x[5:])"
   ]
  },
  {
   "cell_type": "code",
   "execution_count": 35,
   "id": "fa980c94",
   "metadata": {},
   "outputs": [
    {
     "name": "stdout",
     "output_type": "stream",
     "text": [
      "[1 2]\n",
      "[ 3 99 99]\n",
      "[3 2 1]\n"
     ]
    }
   ],
   "source": [
    "# serñia\n",
    "\n",
    "print(x[:2])\n",
    "print(x[2:5])\n",
    "print(x[5:])"
   ]
  },
  {
   "cell_type": "markdown",
   "id": "337613b0",
   "metadata": {},
   "source": [
    "`np.hsplit` y `np.vsplit`"
   ]
  },
  {
   "cell_type": "code",
   "execution_count": 36,
   "id": "647dc413",
   "metadata": {},
   "outputs": [
    {
     "data": {
      "text/plain": [
       "array([[ 0,  1,  2,  3],\n",
       "       [ 4,  5,  6,  7],\n",
       "       [ 8,  9, 10, 11],\n",
       "       [12, 13, 14, 15]])"
      ]
     },
     "execution_count": 36,
     "metadata": {},
     "output_type": "execute_result"
    }
   ],
   "source": [
    "grid = np.arange(16).reshape((4, 4))\n",
    "grid"
   ]
  },
  {
   "cell_type": "code",
   "execution_count": 37,
   "id": "0f066561",
   "metadata": {},
   "outputs": [
    {
     "name": "stdout",
     "output_type": "stream",
     "text": [
      "[[ 0  1  2  3]\n",
      " [ 4  5  6  7]\n",
      " [ 8  9 10 11]]\n",
      "----------\n",
      "[[12 13 14 15]]\n"
     ]
    }
   ],
   "source": [
    "# se hace el split por la fila 2\n",
    "upper, lower = np.vsplit(grid, [3])\n",
    "print(upper)\n",
    "print(\"-\"*10)\n",
    "print(lower)"
   ]
  },
  {
   "cell_type": "code",
   "execution_count": 38,
   "id": "7d1c46b5",
   "metadata": {},
   "outputs": [
    {
     "name": "stdout",
     "output_type": "stream",
     "text": [
      "[[ 0  1  2]\n",
      " [ 4  5  6]\n",
      " [ 8  9 10]\n",
      " [12 13 14]]\n",
      "----------\n",
      "[[ 3]\n",
      " [ 7]\n",
      " [11]\n",
      " [15]]\n"
     ]
    }
   ],
   "source": [
    "left, right = np.hsplit(grid, [3])\n",
    "print(left)\n",
    "print(\"-\"*10)\n",
    "print(right)"
   ]
  },
  {
   "cell_type": "markdown",
   "id": "53b0504b",
   "metadata": {},
   "source": [
    "#### Agregaciones\n",
    "\n",
    "Numpy ofrece métodos que permiten calcular estadísticas mediante agregaciones de los datos: media, mediana y desviación estándar."
   ]
  },
  {
   "cell_type": "markdown",
   "id": "d4ae4aea",
   "metadata": {},
   "source": [
    "SUMA"
   ]
  },
  {
   "cell_type": "code",
   "execution_count": 42,
   "id": "b16ce9db",
   "metadata": {},
   "outputs": [
    {
     "name": "stdout",
     "output_type": "stream",
     "text": [
      "[0.6678386  0.11822493 0.97468055 0.16611178 0.70672887 0.59174256\n",
      " 0.3018423  0.5482106  0.17031567 0.94139215 0.24227687 0.26434546\n",
      " 0.08314016 0.52827896 0.7311672  0.42942835 0.74558339 0.17335701\n",
      " 0.81800442 0.55477592 0.18716037 0.46305379 0.58197491 0.39406277\n",
      " 0.64874085 0.37082923 0.73078571 0.57947236 0.60083586 0.92337251\n",
      " 0.14835556 0.7198876  0.68630813 0.32561326 0.3884795  0.09783243\n",
      " 0.92029572 0.82821752 0.82689762 0.64958043 0.61142322 0.54184197\n",
      " 0.0408344  0.03281388 0.58574675 0.89467717 0.13095023 0.72709304\n",
      " 0.61518194 0.93998355 0.640195   0.42413059 0.09171245 0.17028168\n",
      " 0.43539052 0.28047117 0.89171049 0.44173454 0.66874281 0.97484631\n",
      " 0.36238422 0.84775967 0.38625977 0.30021967 0.8062302  0.76480585\n",
      " 0.94397812 0.5939447  0.00345034 0.03582933 0.85659144 0.89239414\n",
      " 0.10730932 0.6044063  0.96049842 0.69118211 0.19157977 0.83652816\n",
      " 0.27728911 0.88154894 0.29912905 0.74428648 0.16469704 0.62416917\n",
      " 0.38419127 0.62640411 0.51019451 0.45492676 0.96106718 0.04857727\n",
      " 0.25447172 0.07911832 0.32621222 0.2784933  0.95456538 0.81641449\n",
      " 0.57128698 0.35020121 0.07963903 0.60110653]\n"
     ]
    },
    {
     "data": {
      "text/plain": [
       "np.float64(51.4423052032783)"
      ]
     },
     "execution_count": 42,
     "metadata": {},
     "output_type": "execute_result"
    }
   ],
   "source": [
    "# SUMA\n",
    "L = np.random.random(100)\n",
    "print(L)\n",
    "sum(L)"
   ]
  },
  {
   "cell_type": "code",
   "execution_count": null,
   "id": "ce25e83b",
   "metadata": {},
   "outputs": [
    {
     "data": {
      "text/plain": [
       "np.float64(51.4423052032783)"
      ]
     },
     "execution_count": 44,
     "metadata": {},
     "output_type": "execute_result"
    }
   ],
   "source": [
    "#\n",
    "np.sum(L)"
   ]
  },
  {
   "cell_type": "code",
   "execution_count": null,
   "id": "a1a651af",
   "metadata": {},
   "outputs": [
    {
     "name": "stdout",
     "output_type": "stream",
     "text": [
      "58.8 ms ± 2.48 ms per loop (mean ± std. dev. of 7 runs, 10 loops each)\n",
      "394 μs ± 32.9 μs per loop (mean ± std. dev. of 7 runs, 1,000 loops each)\n"
     ]
    }
   ],
   "source": [
    "\"\"\"\n",
    "El %timeit es una \"magic command\" (comando mágico) de IPython o Jupyter Notebook que se usa para medir el \n",
    "tiempo de ejecución de una instrucción o bloque de código.\n",
    "\"\"\"\n",
    "\n",
    "big_array = np.random.rand(1000000)\n",
    "%timeit sum(big_array)\n",
    "%timeit np.sum(big_array)"
   ]
  },
  {
   "cell_type": "markdown",
   "id": "d84ea60c",
   "metadata": {},
   "source": [
    "MIN Y MAX"
   ]
  },
  {
   "cell_type": "code",
   "execution_count": 47,
   "id": "13123d2c",
   "metadata": {},
   "outputs": [
    {
     "data": {
      "text/plain": [
       "(np.float64(2.838274793082185e-06), np.float64(0.9999981977503771))"
      ]
     },
     "execution_count": 47,
     "metadata": {},
     "output_type": "execute_result"
    }
   ],
   "source": [
    "# FUNCIONES DE PYTHON\n",
    "min(big_array), max(big_array)"
   ]
  },
  {
   "cell_type": "code",
   "execution_count": 48,
   "id": "5594c8c1",
   "metadata": {},
   "outputs": [
    {
     "data": {
      "text/plain": [
       "(np.float64(2.838274793082185e-06), np.float64(0.9999981977503771))"
      ]
     },
     "execution_count": 48,
     "metadata": {},
     "output_type": "execute_result"
    }
   ],
   "source": [
    "# MÉTODOS NUMPY \n",
    "np.min(big_array), np.max(big_array)"
   ]
  },
  {
   "cell_type": "markdown",
   "id": "9cc21ba5",
   "metadata": {},
   "source": [
    "AGREGACIONES MULTIDEIMENSIONALES"
   ]
  }
 ],
 "metadata": {
  "kernelspec": {
   "display_name": "Python 3",
   "language": "python",
   "name": "python3"
  },
  "language_info": {
   "codemirror_mode": {
    "name": "ipython",
    "version": 3
   },
   "file_extension": ".py",
   "mimetype": "text/x-python",
   "name": "python",
   "nbconvert_exporter": "python",
   "pygments_lexer": "ipython3",
   "version": "3.13.7"
  }
 },
 "nbformat": 4,
 "nbformat_minor": 5
}
