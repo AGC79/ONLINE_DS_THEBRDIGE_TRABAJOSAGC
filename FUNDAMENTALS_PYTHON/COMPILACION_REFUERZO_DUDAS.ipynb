{
 "cells": [
  {
   "cell_type": "markdown",
   "id": "23c03ef5-1fd6-4627-99b6-277977b33794",
   "metadata": {},
   "source": [
    "# CÓDIGO PARA RECORDAR, REFUERZO, DUDAS"
   ]
  },
  {
   "cell_type": "markdown",
   "id": "eab20548",
   "metadata": {},
   "source": [
    "## Basics I"
   ]
  },
  {
   "cell_type": "markdown",
   "id": "81b87e1c",
   "metadata": {},
   "source": [
    "Si hacemos un print de un texto, podemos concatenar valores de variables mediante `%s`."
   ]
  },
  {
   "cell_type": "code",
   "execution_count": 2,
   "id": "9f1e39d9",
   "metadata": {},
   "outputs": [],
   "source": [
    "beneficio = 200"
   ]
  },
  {
   "cell_type": "code",
   "execution_count": 3,
   "id": "f282cfda",
   "metadata": {},
   "outputs": [
    {
     "name": "stdout",
     "output_type": "stream",
     "text": [
      "Los beneficios de junio han sido de 900 millones\n"
     ]
    }
   ],
   "source": [
    "print('Los beneficios de junio han sido de 900 millones')"
   ]
  },
  {
   "cell_type": "code",
   "execution_count": null,
   "id": "be33058f",
   "metadata": {},
   "outputs": [
    {
     "name": "stdout",
     "output_type": "stream",
     "text": [
      "Los beneficios de septiembre han sido de 200 millones\n",
      "Los beneficios de septiembre han sido de 200 millones\n"
     ]
    }
   ],
   "source": [
    "print(\"Los beneficios de %s han sido de %s millones\" % (\"septiembre\", beneficio))\n",
    "\n",
    "print(\"Los beneficios de\", \"septiembre\", \"han sido de\" ,beneficio, \"millones\")"
   ]
  },
  {
   "cell_type": "markdown",
   "id": "f811e381",
   "metadata": {},
   "source": [
    "Otra opcion si queremos imprimir por pantalla varios strings, es separandolos por comas en el `print`. Fíjate que le añade espacios en la salida cada vez que ponemos un valor nuevo entre comas."
   ]
  },
  {
   "cell_type": "code",
   "execution_count": 5,
   "id": "06c2b8c2",
   "metadata": {},
   "outputs": [
    {
     "name": "stdout",
     "output_type": "stream",
     "text": [
      "Los beneficios de agosto han sido de 200 millones\n"
     ]
    }
   ],
   "source": [
    "mes = \"agosto\"\n",
    "print(\"Los beneficios de\", mes, \"han sido de\", beneficio, \"millones\")"
   ]
  },
  {
   "cell_type": "code",
   "execution_count": 6,
   "id": "d82308f6",
   "metadata": {},
   "outputs": [],
   "source": [
    "# \"Los beneficios deagostohan sido de800millones\""
   ]
  },
  {
   "cell_type": "code",
   "execution_count": null,
   "id": "b937e83a",
   "metadata": {},
   "outputs": [
    {
     "name": "stdout",
     "output_type": "stream",
     "text": [
      "Los beneficios de agosto han sido de 200 millones\n"
     ]
    }
   ],
   "source": [
    "# Si se pone f delante de un string, se detectarán variables entre llaves dentro del texto\n",
    "print(f\"Los beneficios de {mes} han sido de {beneficio} millones\")"
   ]
  },
  {
   "cell_type": "markdown",
   "id": "bbac875d",
   "metadata": {},
   "source": [
    "## Basics II"
   ]
  },
  {
   "cell_type": "markdown",
   "id": "c92e0e46",
   "metadata": {},
   "source": [
    "Interesante función built-in. Itera sobre varios iterables en paralelo, produciendo tuplas con un elemento de cada uno."
   ]
  },
  {
   "cell_type": "code",
   "execution_count": 9,
   "id": "5d7f4bd9",
   "metadata": {},
   "outputs": [
    {
     "name": "stdout",
     "output_type": "stream",
     "text": [
      "(1, 'sugar')\n",
      "(2, 'spice')\n",
      "(3, 'everything nice')\n"
     ]
    },
    {
     "data": {
      "text/plain": [
       "(3, 'everything nice')"
      ]
     },
     "execution_count": 9,
     "metadata": {},
     "output_type": "execute_result"
    }
   ],
   "source": [
    "for item in zip([1, 2, 3], ['sugar', 'spice', 'everything nice']):\n",
    "    print(item)\n",
    "\n",
    "(1, 'sugar')\n",
    "(2, 'spice')\n",
    "(3, 'everything nice')"
   ]
  },
  {
   "cell_type": "markdown",
   "id": "b55f1329",
   "metadata": {},
   "source": [
    "ENLACE A FUNCIONES BUILT-IN\n",
    "\n",
    "[funciones built-in](https://docs.python.org/3/library/functions.html)\n",
    "\n",
    "ENLACE A MÉTODOS DE LA CLASE STRING\n",
    "\n",
    "[métodos de string](https://docs.python.org/2.5/lib/string-methods.html)"
   ]
  },
  {
   "cell_type": "code",
   "execution_count": 13,
   "id": "699bf4c6",
   "metadata": {},
   "outputs": [
    {
     "name": "stdout",
     "output_type": "stream",
     "text": [
      "STRING DE EJEMPLO\n",
      "string de ejemplo\n",
      "String dE EjEmplo\n",
      "['String', 'de', 'ejemplo']\n",
      "<class 'list'>\n",
      "2\n"
     ]
    }
   ],
   "source": [
    "# EJEMPLOS DE MÉTODOS DE STRING ÚTILES\n",
    "string_ejemplo = \"String de ejemplo\"\n",
    "\n",
    "print(string_ejemplo.upper())\n",
    "# new_string = string_ejemplo.upper()\n",
    "# print(new_string)\n",
    "# print(string_ejemplo)\n",
    "\n",
    "\n",
    "print(string_ejemplo.lower())\n",
    "\n",
    "print(string_ejemplo.replace(\"e\", \"E\"))\n",
    "\n",
    "print(string_ejemplo.split(' '))\n",
    "string2lista = string_ejemplo.split(' ')\n",
    "print(type(string2lista))\n",
    "\n",
    "print(string_ejemplo.index('r'))"
   ]
  },
  {
   "cell_type": "markdown",
   "id": "c1b5e222",
   "metadata": {},
   "source": [
    "Forma de acceder a elementos de una lista que está dentro de otra lista."
   ]
  },
  {
   "cell_type": "code",
   "execution_count": 21,
   "id": "10a104ee",
   "metadata": {},
   "outputs": [
    {
     "name": "stdout",
     "output_type": "stream",
     "text": [
      "[4, 'diez', [True, 6], [], ['texto', 1, 55.78, True]]\n",
      "<class 'float'>\n",
      "55.78\n",
      "e\n",
      "e\n",
      "[4, 'diez', [True, 6], [], 'lista anidada eliminada']\n"
     ]
    }
   ],
   "source": [
    "list_mix = [\"texto\", 1, 55.78, True]\n",
    "list_list = [4, \"diez\", [True, 6], [], list_mix]\n",
    "\n",
    "print(list_list)\n",
    "\n",
    "# El primer número entre corchetes indica el índice del elemento dentro de la lista principal\n",
    "# El segundo número entre corchetes indica el índice del elemento dentro de la lista anidada en la anterior\n",
    "print(type(list_list[4][2]))\n",
    "print(list_list[4][2])\n",
    "# El tercer número entre corchetes indica el índice del caracter dentro del elemento string en la lista anidada en la anterior\n",
    "print(list_list[4][0][1])\n",
    "# El segundo número entre corchetes indica el índice del caracter dentro del elemento string en la lista principal\n",
    "print(list_list[1][2])\n",
    "\n",
    "# Modificación de un elemento de la lista\n",
    "list_list[4] = \"lista anidada eliminada\"\n",
    "print(list_list) "
   ]
  },
  {
   "cell_type": "markdown",
   "id": "1df357ec",
   "metadata": {},
   "source": [
    "ENLACE A MÉTODOS QUE SE PUEDEN USAR CON LISTAS\n",
    "\n",
    "[métodos para listas](https://www.w3schools.com/python/python_ref_list.asp)"
   ]
  },
  {
   "cell_type": "markdown",
   "id": "41ee3724",
   "metadata": {},
   "source": [
    "## Flujos de control"
   ]
  },
  {
   "cell_type": "code",
   "execution_count": null,
   "id": "e731043b",
   "metadata": {},
   "outputs": [],
   "source": [
    "def identificar_animal(pico, alas, sonido, patas):\n",
    "    # Con un función estas variables se pasan como argumentos en la llamada a la función\n",
    "    # pico = True\n",
    "    # alas = True\n",
    "    # sonido = \"Ladrar\"\n",
    "    # patas = 4\n",
    "\n",
    "    # No es necesario poner if pico == True or alas == True\n",
    "    if pico and alas:\n",
    "        # True or False = True\n",
    "        return print(\"Ave\")\n",
    "\n",
    "    elif patas == 4 and sonido == \"Ladrar\":\n",
    "        # True and True = True\n",
    "        return print(\"Perro\")\n",
    "\n",
    "    else:\n",
    "        return print(\"Otro animal\")"
   ]
  },
  {
   "cell_type": "code",
   "execution_count": 23,
   "id": "e3a1a187",
   "metadata": {},
   "outputs": [
    {
     "name": "stdout",
     "output_type": "stream",
     "text": [
      "Ave\n"
     ]
    }
   ],
   "source": [
    "identificar_animal(True, True, \"Rebuznar\", 4)"
   ]
  },
  {
   "cell_type": "markdown",
   "id": "5b73ba5b",
   "metadata": {},
   "source": [
    "EJEMPLO DE BUCLE FOR EN UNA MATRIZ"
   ]
  },
  {
   "cell_type": "code",
   "execution_count": 24,
   "id": "0a59b85c",
   "metadata": {},
   "outputs": [
    {
     "name": "stdout",
     "output_type": "stream",
     "text": [
      "[4, 5, 6, 7]\n",
      "4\n",
      "5\n",
      "6\n",
      "7\n",
      "[8, 9, 10, 11]\n",
      "8\n",
      "9\n",
      "10\n",
      "11\n",
      "[12, 13, 14, 7]\n",
      "12\n",
      "13\n",
      "14\n",
      "7\n",
      "El primer elemento de la primera lista de la matriz es:\n",
      " 4\n",
      "Salir del bucle\n"
     ]
    }
   ],
   "source": [
    "matriz = [[4, 5, 6, 7], [8, 9, 10, 11], [12, 13, 14, 7]]\n",
    "\n",
    "for lista in matriz:\n",
    "    print(lista)\n",
    "    for elemento in lista:\n",
    "        print(elemento)\n",
    "        \n",
    "print(\"El primer elemento de la primera lista de la matriz es:\\n\", matriz[0][0])\n",
    "\n",
    "print(\"Salir del bucle\")"
   ]
  },
  {
   "cell_type": "markdown",
   "id": "2742faa2",
   "metadata": {},
   "source": [
    "EJEMPLO DE BUCLE FOR USANDO 2 LISTAS EXISITENTES Y CREANDO UNA NUEVA A LA QUE SE LE AÑADEN NOTAS ACTUALIZADAS"
   ]
  },
  {
   "cell_type": "code",
   "execution_count": 42,
   "id": "a04ea597",
   "metadata": {},
   "outputs": [
    {
     "name": "stdout",
     "output_type": "stream",
     "text": [
      "False\n",
      "True\n",
      "True\n",
      "Notas actualizadas: [3, 6, 8]\n"
     ]
    }
   ],
   "source": [
    "notas_clase = [4,5,7]\n",
    "entregas = [False,True,True]\n",
    "notas_clase_actualizada = []\n",
    "\n",
    "# Bucle para comprobar correspondencia entre las notas de cada alumno y si han entregado o no tareas\n",
    "for nota in notas_clase:\n",
    "    print(entregas[notas_clase.index(nota)])\n",
    "\n",
    "for nota in notas_clase:\n",
    "    if entregas[notas_clase.index(nota)]:\n",
    "        notas_clase_actualizada.append(nota + 1)\n",
    "    else:\n",
    "        notas_clase_actualizada.append(nota - 1)\n",
    "\n",
    "print(f\"Notas actualizadas: {notas_clase_actualizada}\")"
   ]
  },
  {
   "cell_type": "markdown",
   "id": "91689370",
   "metadata": {},
   "source": [
    "EJEMPLO DE BUCLE FOR PARA IMPRIMIR CASILLAS DE TABLERO 3 EN RAYA"
   ]
  },
  {
   "cell_type": "code",
   "execution_count": 55,
   "id": "5fc08b30",
   "metadata": {},
   "outputs": [
    {
     "name": "stdout",
     "output_type": "stream",
     "text": [
      "Coordenadas: 1,1\n",
      "Coordenadas: 1,2\n",
      "Coordenadas: 1,3\n",
      "Coordenadas: 2,1\n",
      "Casilla central: 2,2\n",
      "Coordenadas: 2,3\n",
      "Coordenadas: 3,1\n",
      "Coordenadas: 3,2\n",
      "Coordenadas: 3,3\n"
     ]
    }
   ],
   "source": [
    "# Tablero 3 en raya\n",
    "# i es fila\n",
    "# j es columna\n",
    "\n",
    "for i in range (1, 4):\n",
    "    # print(i)\n",
    "    for j in range (1, 4):\n",
    "        # print(j)\n",
    "        if i == 2 and j == 2:\n",
    "            print(f\"Casilla central: {i},{j}\")\n",
    "        else:\n",
    "            print(f\"Coordenadas: {i},{j}\")"
   ]
  },
  {
   "cell_type": "markdown",
   "id": "c23dd9a0",
   "metadata": {},
   "source": [
    "FUNCIONES IMPORTANTES PARA ITERAR: función range\n",
    "\n",
    "[documentación](https://www.w3schools.com/python/ref_func_range.asp) "
   ]
  },
  {
   "cell_type": "code",
   "execution_count": null,
   "id": "c4a22b5e",
   "metadata": {},
   "outputs": [
    {
     "name": "stdout",
     "output_type": "stream",
     "text": [
      "[10, 9, 8, 7, 6, 5, 4, 3, 2, 1, 0]\n",
      "(10, 9, 8, 7, 6, 5, 4, 3, 2, 1, 0)\n",
      "{0, 1, 2, 3, 4, 5, 6, 7, 8, 9, 10}\n"
     ]
    }
   ],
   "source": [
    "# Se puede usar para crear listas, tupas o set de números\n",
    "lista_num = list(range(10, -1, -1))\n",
    "print(lista_num)\n",
    "\n",
    "lista_num = tuple(range(10, -1, -1))\n",
    "print(lista_num)\n",
    "\n",
    "lista_num = set(range(10, -1, -1))\n",
    "print(lista_num)"
   ]
  },
  {
   "cell_type": "code",
   "execution_count": 69,
   "id": "fa83dc33",
   "metadata": {},
   "outputs": [
    {
     "name": "stdout",
     "output_type": "stream",
     "text": [
      "0 rojo\n",
      "1 verde\n",
      "2 azul\n",
      "-----------------------------------------\n",
      "0 rojo\n",
      "1 verde\n",
      "2 azul\n",
      "-----------------------------------------\n",
      "0 rojo\n",
      "1 verde\n",
      "2 azul\n"
     ]
    }
   ],
   "source": [
    "# Se puede usar para iterar sobre elementos de una lista, tupla o set\n",
    "colores_list = ['rojo', 'verde', 'azul']\n",
    "\n",
    "for i in range(len(colores_list)):\n",
    "    print(i, colores_list[i])\n",
    "\n",
    "    \n",
    "print(\"-----------------------------------------\")\n",
    "\n",
    "colores_tup = ('rojo', 'verde', 'azul')\n",
    "\n",
    "for i in range(len(colores_tup)):\n",
    "    print(i, colores_tup[i])\n",
    "\n",
    "print(\"-----------------------------------------\")\n",
    "\n",
    "colores_set = {'rojo', 'verde', 'azul'}\n",
    "\n",
    "for i in range(len(colores_tup)):\n",
    "    print(i, colores_tup[i])"
   ]
  },
  {
   "cell_type": "markdown",
   "id": "035f35b8",
   "metadata": {},
   "source": [
    "FUNCIONES IMPORTANTES PARA ITERAR: función enumerate\n",
    "\n",
    "**Se usa para sacar dentro de un bucle tanto el elemento del iterable, como su índice.**\n",
    "\n",
    "**OJO: para imprimir el resultado de la función es necesario convertir en una lista la variable que la almacena o iterar sobre la lista.**\n",
    "\n",
    "[documentación](https://www.w3schools.com/python/ref_func_enumerate.asp)"
   ]
  },
  {
   "cell_type": "code",
   "execution_count": null,
   "id": "539202c5",
   "metadata": {},
   "outputs": [
    {
     "name": "stdout",
     "output_type": "stream",
     "text": [
      "[(0, 'manzana'), (1, 'pera'), (2, 'naranja'), (3, 'melón')]\n",
      "()\n"
     ]
    }
   ],
   "source": [
    "lista_frutas = [\"manzana\", \"pera\", \"naranja\", \"melón\"]\n",
    "x = enumerate(lista_frutas)\n",
    "print(list(x))"
   ]
  },
  {
   "cell_type": "code",
   "execution_count": 79,
   "id": "ee9d7f15",
   "metadata": {},
   "outputs": [
    {
     "name": "stdout",
     "output_type": "stream",
     "text": [
      "[(0, 'Pedro'), (1, 'Mariano'), (2, 'Jose Luis')]\n",
      "Indice: 0 **** Elemento: Pedro\n",
      "Indice: 1 **** Elemento: Mariano\n",
      "Indice: 2 **** Elemento: Jose Luis\n",
      "----------------------------------------------\n",
      "(0, 'Pedro')\n",
      "0\n",
      "Pedro\n",
      "(1, 'Mariano')\n",
      "1\n",
      "Mariano\n",
      "(2, 'Jose Luis')\n",
      "2\n",
      "Jose Luis\n"
     ]
    }
   ],
   "source": [
    "names = [\"Pedro\", \"Mariano\", \"Jose Luis\"]\n",
    "print(list(enumerate(names)))\n",
    "\n",
    "for ind, elem in enumerate(names):\n",
    "    print(f\"Indice: {ind} **** Elemento: {elem}\", )\n",
    "\n",
    "print(\"----------------------------------------------\")\n",
    "\n",
    "for i in list(enumerate(names)):\n",
    "    print(i)\n",
    "    for j in i:\n",
    "        print(j)"
   ]
  },
  {
   "cell_type": "code",
   "execution_count": 84,
   "id": "218066ab",
   "metadata": {},
   "outputs": [
    {
     "name": "stdout",
     "output_type": "stream",
     "text": [
      "0   ['Pedro', 'Paco']\n",
      "0 Pedro\n",
      "1 Paco\n",
      "1   Mariano\n",
      "0 M\n",
      "1 a\n",
      "2 r\n",
      "3 i\n",
      "4 a\n",
      "5 n\n",
      "6 o\n",
      "2   Jose Luis\n",
      "0 J\n",
      "1 o\n",
      "2 s\n",
      "3 e\n",
      "4  \n",
      "5 L\n",
      "6 u\n",
      "7 i\n",
      "8 s\n"
     ]
    }
   ],
   "source": [
    "names_2 = [[\"Pedro\",\"Paco\"], \"Mariano\", \"Jose Luis\"]\n",
    "\n",
    "list(enumerate(names_2))\n",
    "\n",
    "for i, elem in enumerate(names_2):\n",
    "    print(i, \" \", elem)\n",
    "    for j, name in enumerate(elem):\n",
    "        print(j, name )"
   ]
  }
 ],
 "metadata": {
  "kernelspec": {
   "display_name": "Python 3",
   "language": "python",
   "name": "python3"
  },
  "language_info": {
   "codemirror_mode": {
    "name": "ipython",
    "version": 3
   },
   "file_extension": ".py",
   "mimetype": "text/x-python",
   "name": "python",
   "nbconvert_exporter": "python",
   "pygments_lexer": "ipython3",
   "version": "3.11.4"
  }
 },
 "nbformat": 4,
 "nbformat_minor": 5
}
