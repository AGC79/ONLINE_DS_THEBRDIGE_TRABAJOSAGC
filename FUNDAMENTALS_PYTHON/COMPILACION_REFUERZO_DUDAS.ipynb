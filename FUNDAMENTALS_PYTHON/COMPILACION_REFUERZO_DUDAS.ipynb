{
 "cells": [
  {
   "cell_type": "markdown",
   "id": "23c03ef5-1fd6-4627-99b6-277977b33794",
   "metadata": {},
   "source": [
    "# CÓDIGO PARA RECORDAR, REFUERZO, DUDAS"
   ]
  },
  {
   "cell_type": "markdown",
   "id": "eab20548",
   "metadata": {},
   "source": [
    "## Basics I"
   ]
  },
  {
   "cell_type": "markdown",
   "id": "81b87e1c",
   "metadata": {},
   "source": [
    "Si hacemos un print de un texto, podemos concatenar valores de variables mediante `%s`."
   ]
  },
  {
   "cell_type": "code",
   "execution_count": 2,
   "id": "9f1e39d9",
   "metadata": {},
   "outputs": [],
   "source": [
    "beneficio = 200"
   ]
  },
  {
   "cell_type": "code",
   "execution_count": 3,
   "id": "f282cfda",
   "metadata": {},
   "outputs": [
    {
     "name": "stdout",
     "output_type": "stream",
     "text": [
      "Los beneficios de junio han sido de 900 millones\n"
     ]
    }
   ],
   "source": [
    "print('Los beneficios de junio han sido de 900 millones')"
   ]
  },
  {
   "cell_type": "code",
   "execution_count": null,
   "id": "be33058f",
   "metadata": {},
   "outputs": [
    {
     "name": "stdout",
     "output_type": "stream",
     "text": [
      "Los beneficios de septiembre han sido de 200 millones\n",
      "Los beneficios de septiembre han sido de 200 millones\n"
     ]
    }
   ],
   "source": [
    "print(\"Los beneficios de %s han sido de %s millones\" % (\"septiembre\", beneficio))\n",
    "\n",
    "print(\"Los beneficios de\", \"septiembre\", \"han sido de\" ,beneficio, \"millones\")"
   ]
  },
  {
   "cell_type": "markdown",
   "id": "f811e381",
   "metadata": {},
   "source": [
    "Otra opcion si queremos imprimir por pantalla varios strings, es separandolos por comas en el `print`. Fíjate que le añade espacios en la salida cada vez que ponemos un valor nuevo entre comas."
   ]
  },
  {
   "cell_type": "code",
   "execution_count": 5,
   "id": "06c2b8c2",
   "metadata": {},
   "outputs": [
    {
     "name": "stdout",
     "output_type": "stream",
     "text": [
      "Los beneficios de agosto han sido de 200 millones\n"
     ]
    }
   ],
   "source": [
    "mes = \"agosto\"\n",
    "print(\"Los beneficios de\", mes, \"han sido de\", beneficio, \"millones\")"
   ]
  },
  {
   "cell_type": "code",
   "execution_count": 6,
   "id": "d82308f6",
   "metadata": {},
   "outputs": [],
   "source": [
    "# \"Los beneficios deagostohan sido de800millones\""
   ]
  },
  {
   "cell_type": "code",
   "execution_count": null,
   "id": "b937e83a",
   "metadata": {},
   "outputs": [
    {
     "name": "stdout",
     "output_type": "stream",
     "text": [
      "Los beneficios de agosto han sido de 200 millones\n"
     ]
    }
   ],
   "source": [
    "# Si se pone f delante de un string, se detectarán variables entre llaves dentro del texto\n",
    "print(f\"Los beneficios de {mes} han sido de {beneficio} millones\")"
   ]
  },
  {
   "cell_type": "markdown",
   "id": "bbac875d",
   "metadata": {},
   "source": [
    "## Basics II"
   ]
  },
  {
   "cell_type": "markdown",
   "id": "c92e0e46",
   "metadata": {},
   "source": [
    "Interesante función built-in. Itera sobre varios iterables en paralelo, produciendo tuplas con un elemento de cada uno."
   ]
  },
  {
   "cell_type": "code",
   "execution_count": 9,
   "id": "5d7f4bd9",
   "metadata": {},
   "outputs": [
    {
     "name": "stdout",
     "output_type": "stream",
     "text": [
      "(1, 'sugar')\n",
      "(2, 'spice')\n",
      "(3, 'everything nice')\n"
     ]
    },
    {
     "data": {
      "text/plain": [
       "(3, 'everything nice')"
      ]
     },
     "execution_count": 9,
     "metadata": {},
     "output_type": "execute_result"
    }
   ],
   "source": [
    "for item in zip([1, 2, 3], ['sugar', 'spice', 'everything nice']):\n",
    "    print(item)\n",
    "\n",
    "(1, 'sugar')\n",
    "(2, 'spice')\n",
    "(3, 'everything nice')"
   ]
  },
  {
   "cell_type": "markdown",
   "id": "b55f1329",
   "metadata": {},
   "source": [
    "ENLACE A FUNCIONES BUILT-IN\n",
    "\n",
    "[funciones built-in](https://docs.python.org/3/library/functions.html)\n",
    "\n",
    "ENLACE A MÉTODOS DE LA CLASE STRING\n",
    "\n",
    "[métodos de string](https://docs.python.org/2.5/lib/string-methods.html)"
   ]
  },
  {
   "cell_type": "code",
   "execution_count": 13,
   "id": "699bf4c6",
   "metadata": {},
   "outputs": [
    {
     "name": "stdout",
     "output_type": "stream",
     "text": [
      "STRING DE EJEMPLO\n",
      "string de ejemplo\n",
      "String dE EjEmplo\n",
      "['String', 'de', 'ejemplo']\n",
      "<class 'list'>\n",
      "2\n"
     ]
    }
   ],
   "source": [
    "# EJEMPLOS DE MÉTODOS DE STRING ÚTILES\n",
    "string_ejemplo = \"String de ejemplo\"\n",
    "\n",
    "print(string_ejemplo.upper())\n",
    "# new_string = string_ejemplo.upper()\n",
    "# print(new_string)\n",
    "# print(string_ejemplo)\n",
    "\n",
    "\n",
    "print(string_ejemplo.lower())\n",
    "\n",
    "print(string_ejemplo.replace(\"e\", \"E\"))\n",
    "\n",
    "print(string_ejemplo.split(' '))\n",
    "string2lista = string_ejemplo.split(' ')\n",
    "print(type(string2lista))\n",
    "\n",
    "print(string_ejemplo.index('r'))"
   ]
  },
  {
   "cell_type": "markdown",
   "id": "c1b5e222",
   "metadata": {},
   "source": [
    "Forma de acceder a elementos de una lista que está dentro de otra lista."
   ]
  },
  {
   "cell_type": "code",
   "execution_count": 21,
   "id": "10a104ee",
   "metadata": {},
   "outputs": [
    {
     "name": "stdout",
     "output_type": "stream",
     "text": [
      "[4, 'diez', [True, 6], [], ['texto', 1, 55.78, True]]\n",
      "<class 'float'>\n",
      "55.78\n",
      "e\n",
      "e\n",
      "[4, 'diez', [True, 6], [], 'lista anidada eliminada']\n"
     ]
    }
   ],
   "source": [
    "list_mix = [\"texto\", 1, 55.78, True]\n",
    "list_list = [4, \"diez\", [True, 6], [], list_mix]\n",
    "\n",
    "print(list_list)\n",
    "\n",
    "# El primer número entre corchetes indica el índice del elemento dentro de la lista principal\n",
    "# El segundo número entre corchetes indica el índice del elemento dentro de la lista anidada en la anterior\n",
    "print(type(list_list[4][2]))\n",
    "print(list_list[4][2])\n",
    "# El tercer número entre corchetes indica el índice del caracter dentro del elemento string en la lista anidada en la anterior\n",
    "print(list_list[4][0][1])\n",
    "# El segundo número entre corchetes indica el índice del caracter dentro del elemento string en la lista principal\n",
    "print(list_list[1][2])\n",
    "\n",
    "# Modificación de un elemento de la lista\n",
    "list_list[4] = \"lista anidada eliminada\"\n",
    "print(list_list) "
   ]
  },
  {
   "cell_type": "markdown",
   "id": "1df357ec",
   "metadata": {},
   "source": [
    "ENLACE A MÉTODOS QUE SE PUEDEN USAR CON LISTAS\n",
    "\n",
    "[métodos para listas](https://www.w3schools.com/python/python_ref_list.asp)"
   ]
  },
  {
   "cell_type": "markdown",
   "id": "41ee3724",
   "metadata": {},
   "source": [
    "## Flujos de control"
   ]
  },
  {
   "cell_type": "code",
   "execution_count": null,
   "id": "e731043b",
   "metadata": {},
   "outputs": [],
   "source": [
    "def identificar_animal(pico, alas, sonido, patas):\n",
    "    # Con un función estas variables se pasan como argumentos en la llamada a la función\n",
    "    # pico = True\n",
    "    # alas = True\n",
    "    # sonido = \"Ladrar\"\n",
    "    # patas = 4\n",
    "\n",
    "    # No es necesario poner if pico == True or alas == True\n",
    "    if pico and alas:\n",
    "        # True or False = True\n",
    "        return print(\"Ave\")\n",
    "\n",
    "    elif patas == 4 and sonido == \"Ladrar\":\n",
    "        # True and True = True\n",
    "        return print(\"Perro\")\n",
    "\n",
    "    else:\n",
    "        return print(\"Otro animal\")"
   ]
  },
  {
   "cell_type": "code",
   "execution_count": 23,
   "id": "e3a1a187",
   "metadata": {},
   "outputs": [
    {
     "name": "stdout",
     "output_type": "stream",
     "text": [
      "Ave\n"
     ]
    }
   ],
   "source": [
    "identificar_animal(True, True, \"Rebuznar\", 4)"
   ]
  }
 ],
 "metadata": {
  "kernelspec": {
   "display_name": "Python 3",
   "language": "python",
   "name": "python3"
  },
  "language_info": {
   "codemirror_mode": {
    "name": "ipython",
    "version": 3
   },
   "file_extension": ".py",
   "mimetype": "text/x-python",
   "name": "python",
   "nbconvert_exporter": "python",
   "pygments_lexer": "ipython3",
   "version": "3.11.4"
  }
 },
 "nbformat": 4,
 "nbformat_minor": 5
}
