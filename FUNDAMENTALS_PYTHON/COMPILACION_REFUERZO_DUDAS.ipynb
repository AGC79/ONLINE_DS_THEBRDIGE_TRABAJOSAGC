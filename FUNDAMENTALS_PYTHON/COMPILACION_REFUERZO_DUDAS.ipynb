{
 "cells": [
  {
   "cell_type": "markdown",
   "id": "23c03ef5-1fd6-4627-99b6-277977b33794",
   "metadata": {},
   "source": [
    "# CÓDIGO PARA RECORDAR, REFUERZO, DUDAS"
   ]
  },
  {
   "cell_type": "markdown",
   "id": "eab20548",
   "metadata": {},
   "source": [
    "## Basics I"
   ]
  },
  {
   "cell_type": "markdown",
   "id": "81b87e1c",
   "metadata": {},
   "source": [
    "Si hacemos un print de un texto, podemos concatenar valores de variables mediante `%s`."
   ]
  },
  {
   "cell_type": "code",
   "execution_count": 2,
   "id": "9f1e39d9",
   "metadata": {},
   "outputs": [],
   "source": [
    "beneficio = 200"
   ]
  },
  {
   "cell_type": "code",
   "execution_count": 3,
   "id": "f282cfda",
   "metadata": {},
   "outputs": [
    {
     "name": "stdout",
     "output_type": "stream",
     "text": [
      "Los beneficios de junio han sido de 900 millones\n"
     ]
    }
   ],
   "source": [
    "print('Los beneficios de junio han sido de 900 millones')"
   ]
  },
  {
   "cell_type": "code",
   "execution_count": null,
   "id": "be33058f",
   "metadata": {},
   "outputs": [
    {
     "name": "stdout",
     "output_type": "stream",
     "text": [
      "Los beneficios de septiembre han sido de 200 millones\n",
      "Los beneficios de septiembre han sido de 200 millones\n"
     ]
    }
   ],
   "source": [
    "print(\"Los beneficios de %s han sido de %s millones\" % (\"septiembre\", beneficio))\n",
    "\n",
    "print(\"Los beneficios de\", \"septiembre\", \"han sido de\" ,beneficio, \"millones\")"
   ]
  },
  {
   "cell_type": "markdown",
   "id": "f811e381",
   "metadata": {},
   "source": [
    "Otra opcion si queremos imprimir por pantalla varios strings, es separandolos por comas en el `print`. Fíjate que le añade espacios en la salida cada vez que ponemos un valor nuevo entre comas."
   ]
  },
  {
   "cell_type": "code",
   "execution_count": 5,
   "id": "06c2b8c2",
   "metadata": {},
   "outputs": [
    {
     "name": "stdout",
     "output_type": "stream",
     "text": [
      "Los beneficios de agosto han sido de 200 millones\n"
     ]
    }
   ],
   "source": [
    "mes = \"agosto\"\n",
    "print(\"Los beneficios de\", mes, \"han sido de\", beneficio, \"millones\")"
   ]
  },
  {
   "cell_type": "code",
   "execution_count": 6,
   "id": "d82308f6",
   "metadata": {},
   "outputs": [],
   "source": [
    "# \"Los beneficios deagostohan sido de800millones\""
   ]
  },
  {
   "cell_type": "code",
   "execution_count": null,
   "id": "b937e83a",
   "metadata": {},
   "outputs": [
    {
     "name": "stdout",
     "output_type": "stream",
     "text": [
      "Los beneficios de agosto han sido de 200 millones\n"
     ]
    }
   ],
   "source": [
    "# Si se pone f delante de un string, se detectarán variables entre llaves dentro del texto\n",
    "print(f\"Los beneficios de {mes} han sido de {beneficio} millones\")"
   ]
  },
  {
   "cell_type": "markdown",
   "id": "bbac875d",
   "metadata": {},
   "source": [
    "## Basics II"
   ]
  },
  {
   "cell_type": "markdown",
   "id": "c92e0e46",
   "metadata": {},
   "source": [
    "Interesante función built-in. Itera sobre varios iterables en paralelo, produciendo tuplas con un elemento de cada uno."
   ]
  },
  {
   "cell_type": "code",
   "execution_count": 9,
   "id": "5d7f4bd9",
   "metadata": {},
   "outputs": [
    {
     "name": "stdout",
     "output_type": "stream",
     "text": [
      "(1, 'sugar')\n",
      "(2, 'spice')\n",
      "(3, 'everything nice')\n"
     ]
    },
    {
     "data": {
      "text/plain": [
       "(3, 'everything nice')"
      ]
     },
     "execution_count": 9,
     "metadata": {},
     "output_type": "execute_result"
    }
   ],
   "source": [
    "for item in zip([1, 2, 3], ['sugar', 'spice', 'everything nice']):\n",
    "    print(item)\n",
    "\n",
    "(1, 'sugar')\n",
    "(2, 'spice')\n",
    "(3, 'everything nice')"
   ]
  },
  {
   "cell_type": "markdown",
   "id": "b55f1329",
   "metadata": {},
   "source": [
    "ENLACE A FUNCIONES BUILT-IN\n",
    "\n",
    "[funciones built-in](https://docs.python.org/3/library/functions.html)\n",
    "\n",
    "ENLACE A MÉTODOS DE LA CLASE STRING\n",
    "\n",
    "[métodos de string](https://docs.python.org/2.5/lib/string-methods.html)"
   ]
  },
  {
   "cell_type": "code",
   "execution_count": 13,
   "id": "699bf4c6",
   "metadata": {},
   "outputs": [
    {
     "name": "stdout",
     "output_type": "stream",
     "text": [
      "STRING DE EJEMPLO\n",
      "string de ejemplo\n",
      "String dE EjEmplo\n",
      "['String', 'de', 'ejemplo']\n",
      "<class 'list'>\n",
      "2\n"
     ]
    }
   ],
   "source": [
    "# EJEMPLOS DE MÉTODOS DE STRING ÚTILES\n",
    "string_ejemplo = \"String de ejemplo\"\n",
    "\n",
    "print(string_ejemplo.upper())\n",
    "# new_string = string_ejemplo.upper()\n",
    "# print(new_string)\n",
    "# print(string_ejemplo)\n",
    "\n",
    "\n",
    "print(string_ejemplo.lower())\n",
    "\n",
    "print(string_ejemplo.replace(\"e\", \"E\"))\n",
    "\n",
    "print(string_ejemplo.split(' '))\n",
    "string2lista = string_ejemplo.split(' ')\n",
    "print(type(string2lista))\n",
    "\n",
    "print(string_ejemplo.index('r'))"
   ]
  },
  {
   "cell_type": "markdown",
   "id": "c1b5e222",
   "metadata": {},
   "source": [
    "Forma de acceder a elementos de una lista que está dentro de otra lista."
   ]
  },
  {
   "cell_type": "code",
   "execution_count": 21,
   "id": "10a104ee",
   "metadata": {},
   "outputs": [
    {
     "name": "stdout",
     "output_type": "stream",
     "text": [
      "[4, 'diez', [True, 6], [], ['texto', 1, 55.78, True]]\n",
      "<class 'float'>\n",
      "55.78\n",
      "e\n",
      "e\n",
      "[4, 'diez', [True, 6], [], 'lista anidada eliminada']\n"
     ]
    }
   ],
   "source": [
    "list_mix = [\"texto\", 1, 55.78, True]\n",
    "list_list = [4, \"diez\", [True, 6], [], list_mix]\n",
    "\n",
    "print(list_list)\n",
    "\n",
    "# El primer número entre corchetes indica el índice del elemento dentro de la lista principal\n",
    "# El segundo número entre corchetes indica el índice del elemento dentro de la lista anidada en la anterior\n",
    "print(type(list_list[4][2]))\n",
    "print(list_list[4][2])\n",
    "# El tercer número entre corchetes indica el índice del caracter dentro del elemento string en la lista anidada en la anterior\n",
    "print(list_list[4][0][1])\n",
    "# El segundo número entre corchetes indica el índice del caracter dentro del elemento string en la lista principal\n",
    "print(list_list[1][2])\n",
    "\n",
    "# Modificación de un elemento de la lista\n",
    "list_list[4] = \"lista anidada eliminada\"\n",
    "print(list_list) "
   ]
  },
  {
   "cell_type": "markdown",
   "id": "1df357ec",
   "metadata": {},
   "source": [
    "ENLACE A MÉTODOS QUE SE PUEDEN USAR CON LISTAS\n",
    "\n",
    "[métodos para listas](https://www.w3schools.com/python/python_ref_list.asp)"
   ]
  },
  {
   "cell_type": "markdown",
   "id": "41ee3724",
   "metadata": {},
   "source": [
    "## Flujos de control"
   ]
  },
  {
   "cell_type": "code",
   "execution_count": null,
   "id": "e731043b",
   "metadata": {},
   "outputs": [],
   "source": [
    "def identificar_animal(pico, alas, sonido, patas):\n",
    "    # Con un función estas variables se pasan como argumentos en la llamada a la función\n",
    "    # pico = True\n",
    "    # alas = True\n",
    "    # sonido = \"Ladrar\"\n",
    "    # patas = 4\n",
    "\n",
    "    # No es necesario poner if pico == True or alas == True\n",
    "    if pico and alas:\n",
    "        # True or False = True\n",
    "        return print(\"Ave\")\n",
    "\n",
    "    elif patas == 4 and sonido == \"Ladrar\":\n",
    "        # True and True = True\n",
    "        return print(\"Perro\")\n",
    "\n",
    "    else:\n",
    "        return print(\"Otro animal\")"
   ]
  },
  {
   "cell_type": "code",
   "execution_count": 23,
   "id": "e3a1a187",
   "metadata": {},
   "outputs": [
    {
     "name": "stdout",
     "output_type": "stream",
     "text": [
      "Ave\n"
     ]
    }
   ],
   "source": [
    "identificar_animal(True, True, \"Rebuznar\", 4)"
   ]
  },
  {
   "cell_type": "markdown",
   "id": "5b73ba5b",
   "metadata": {},
   "source": [
    "EJEMPLO DE BUCLE FOR EN UNA MATRIZ"
   ]
  },
  {
   "cell_type": "code",
   "execution_count": 24,
   "id": "0a59b85c",
   "metadata": {},
   "outputs": [
    {
     "name": "stdout",
     "output_type": "stream",
     "text": [
      "[4, 5, 6, 7]\n",
      "4\n",
      "5\n",
      "6\n",
      "7\n",
      "[8, 9, 10, 11]\n",
      "8\n",
      "9\n",
      "10\n",
      "11\n",
      "[12, 13, 14, 7]\n",
      "12\n",
      "13\n",
      "14\n",
      "7\n",
      "El primer elemento de la primera lista de la matriz es:\n",
      " 4\n",
      "Salir del bucle\n"
     ]
    }
   ],
   "source": [
    "matriz = [[4, 5, 6, 7], [8, 9, 10, 11], [12, 13, 14, 7]]\n",
    "\n",
    "for lista in matriz:\n",
    "    print(lista)\n",
    "    for elemento in lista:\n",
    "        print(elemento)\n",
    "        \n",
    "print(\"El primer elemento de la primera lista de la matriz es:\\n\", matriz[0][0])\n",
    "\n",
    "print(\"Salir del bucle\")"
   ]
  },
  {
   "cell_type": "markdown",
   "id": "2742faa2",
   "metadata": {},
   "source": [
    "EJEMPLO DE BUCLE FOR USANDO 2 LISTAS EXISITENTES Y CREANDO UNA NUEVA A LA QUE SE LE AÑADEN NOTAS ACTUALIZADAS"
   ]
  },
  {
   "cell_type": "code",
   "execution_count": 42,
   "id": "a04ea597",
   "metadata": {},
   "outputs": [
    {
     "name": "stdout",
     "output_type": "stream",
     "text": [
      "False\n",
      "True\n",
      "True\n",
      "Notas actualizadas: [3, 6, 8]\n"
     ]
    }
   ],
   "source": [
    "notas_clase = [4,5,7]\n",
    "entregas = [False,True,True]\n",
    "notas_clase_actualizada = []\n",
    "\n",
    "# Bucle para comprobar correspondencia entre las notas de cada alumno y si han entregado o no tareas\n",
    "for nota in notas_clase:\n",
    "    print(entregas[notas_clase.index(nota)])\n",
    "\n",
    "for nota in notas_clase:\n",
    "    if entregas[notas_clase.index(nota)]:\n",
    "        notas_clase_actualizada.append(nota + 1)\n",
    "    else:\n",
    "        notas_clase_actualizada.append(nota - 1)\n",
    "\n",
    "print(f\"Notas actualizadas: {notas_clase_actualizada}\")"
   ]
  },
  {
   "cell_type": "markdown",
   "id": "91689370",
   "metadata": {},
   "source": [
    "EJEMPLO DE BUCLE FOR PARA IMPRIMIR CASILLAS DE TABLERO 3 EN RAYA"
   ]
  },
  {
   "cell_type": "code",
   "execution_count": 55,
   "id": "5fc08b30",
   "metadata": {},
   "outputs": [
    {
     "name": "stdout",
     "output_type": "stream",
     "text": [
      "Coordenadas: 1,1\n",
      "Coordenadas: 1,2\n",
      "Coordenadas: 1,3\n",
      "Coordenadas: 2,1\n",
      "Casilla central: 2,2\n",
      "Coordenadas: 2,3\n",
      "Coordenadas: 3,1\n",
      "Coordenadas: 3,2\n",
      "Coordenadas: 3,3\n"
     ]
    }
   ],
   "source": [
    "# Tablero 3 en raya\n",
    "# i es fila\n",
    "# j es columna\n",
    "\n",
    "for i in range (1, 4):\n",
    "    # print(i)\n",
    "    for j in range (1, 4):\n",
    "        # print(j)\n",
    "        if i == 2 and j == 2:\n",
    "            print(f\"Casilla central: {i},{j}\")\n",
    "        else:\n",
    "            print(f\"Coordenadas: {i},{j}\")"
   ]
  },
  {
   "cell_type": "markdown",
   "id": "c23dd9a0",
   "metadata": {},
   "source": [
    "FUNCIONES IMPORTANTES PARA ITERAR: función range\n",
    "\n",
    "[documentación](https://www.w3schools.com/python/ref_func_range.asp) "
   ]
  },
  {
   "cell_type": "code",
   "execution_count": null,
   "id": "c4a22b5e",
   "metadata": {},
   "outputs": [
    {
     "name": "stdout",
     "output_type": "stream",
     "text": [
      "[10, 9, 8, 7, 6, 5, 4, 3, 2, 1, 0]\n",
      "(10, 9, 8, 7, 6, 5, 4, 3, 2, 1, 0)\n",
      "{0, 1, 2, 3, 4, 5, 6, 7, 8, 9, 10}\n"
     ]
    }
   ],
   "source": [
    "# Se puede usar para crear listas, tupas o set de números\n",
    "lista_num = list(range(10, -1, -1))\n",
    "print(lista_num)\n",
    "\n",
    "lista_num = tuple(range(10, -1, -1))\n",
    "print(lista_num)\n",
    "\n",
    "lista_num = set(range(10, -1, -1))\n",
    "print(lista_num)"
   ]
  },
  {
   "cell_type": "code",
   "execution_count": 69,
   "id": "fa83dc33",
   "metadata": {},
   "outputs": [
    {
     "name": "stdout",
     "output_type": "stream",
     "text": [
      "0 rojo\n",
      "1 verde\n",
      "2 azul\n",
      "-----------------------------------------\n",
      "0 rojo\n",
      "1 verde\n",
      "2 azul\n",
      "-----------------------------------------\n",
      "0 rojo\n",
      "1 verde\n",
      "2 azul\n"
     ]
    }
   ],
   "source": [
    "# Se puede usar para iterar sobre elementos de una lista, tupla o set\n",
    "colores_list = ['rojo', 'verde', 'azul']\n",
    "\n",
    "for i in range(len(colores_list)):\n",
    "    print(i, colores_list[i])\n",
    "\n",
    "    \n",
    "print(\"-----------------------------------------\")\n",
    "\n",
    "colores_tup = ('rojo', 'verde', 'azul')\n",
    "\n",
    "for i in range(len(colores_tup)):\n",
    "    print(i, colores_tup[i])\n",
    "\n",
    "print(\"-----------------------------------------\")\n",
    "\n",
    "colores_set = {'rojo', 'verde', 'azul'}\n",
    "\n",
    "for i in range(len(colores_tup)):\n",
    "    print(i, colores_tup[i])"
   ]
  },
  {
   "cell_type": "markdown",
   "id": "035f35b8",
   "metadata": {},
   "source": [
    "FUNCIONES IMPORTANTES PARA ITERAR: función enumerate\n",
    "\n",
    "**Se usa para sacar dentro de un bucle tanto el elemento del iterable, como su índice.**\n",
    "\n",
    "**OJO: para imprimir el resultado de la función es necesario convertir en una lista la variable que la almacena o iterar sobre la lista.**\n",
    "\n",
    "[documentación](https://www.w3schools.com/python/ref_func_enumerate.asp)"
   ]
  },
  {
   "cell_type": "code",
   "execution_count": null,
   "id": "539202c5",
   "metadata": {},
   "outputs": [
    {
     "name": "stdout",
     "output_type": "stream",
     "text": [
      "[(0, 'manzana'), (1, 'pera'), (2, 'naranja'), (3, 'melón')]\n",
      "()\n"
     ]
    }
   ],
   "source": [
    "lista_frutas = [\"manzana\", \"pera\", \"naranja\", \"melón\"]\n",
    "x = enumerate(lista_frutas)\n",
    "print(list(x))"
   ]
  },
  {
   "cell_type": "code",
   "execution_count": 79,
   "id": "ee9d7f15",
   "metadata": {},
   "outputs": [
    {
     "name": "stdout",
     "output_type": "stream",
     "text": [
      "[(0, 'Pedro'), (1, 'Mariano'), (2, 'Jose Luis')]\n",
      "Indice: 0 **** Elemento: Pedro\n",
      "Indice: 1 **** Elemento: Mariano\n",
      "Indice: 2 **** Elemento: Jose Luis\n",
      "----------------------------------------------\n",
      "(0, 'Pedro')\n",
      "0\n",
      "Pedro\n",
      "(1, 'Mariano')\n",
      "1\n",
      "Mariano\n",
      "(2, 'Jose Luis')\n",
      "2\n",
      "Jose Luis\n"
     ]
    }
   ],
   "source": [
    "names = [\"Pedro\", \"Mariano\", \"Jose Luis\"]\n",
    "print(list(enumerate(names)))\n",
    "\n",
    "for ind, elem in enumerate(names):\n",
    "    print(f\"Indice: {ind} **** Elemento: {elem}\", )\n",
    "\n",
    "print(\"----------------------------------------------\")\n",
    "\n",
    "for i in list(enumerate(names)):\n",
    "    print(i)\n",
    "    for j in i:\n",
    "        print(j)"
   ]
  },
  {
   "cell_type": "code",
   "execution_count": 84,
   "id": "218066ab",
   "metadata": {},
   "outputs": [
    {
     "name": "stdout",
     "output_type": "stream",
     "text": [
      "0   ['Pedro', 'Paco']\n",
      "0 Pedro\n",
      "1 Paco\n",
      "1   Mariano\n",
      "0 M\n",
      "1 a\n",
      "2 r\n",
      "3 i\n",
      "4 a\n",
      "5 n\n",
      "6 o\n",
      "2   Jose Luis\n",
      "0 J\n",
      "1 o\n",
      "2 s\n",
      "3 e\n",
      "4  \n",
      "5 L\n",
      "6 u\n",
      "7 i\n",
      "8 s\n"
     ]
    }
   ],
   "source": [
    "names_2 = [[\"Pedro\",\"Paco\"], \"Mariano\", \"Jose Luis\"]\n",
    "\n",
    "list(enumerate(names_2))\n",
    "\n",
    "for i, elem in enumerate(names_2):\n",
    "    print(i, \" \", elem)\n",
    "    for j, name in enumerate(elem):\n",
    "        print(j, name )"
   ]
  },
  {
   "cell_type": "markdown",
   "id": "44b85564",
   "metadata": {},
   "source": [
    "## Colecciones"
   ]
  },
  {
   "cell_type": "markdown",
   "id": "f3138ade",
   "metadata": {},
   "source": [
    "#### LISTAS\n",
    "\n",
    "Mutables, ordenadas y admiten valores repetidos.\n",
    "\n",
    "[documentación funciones](https://www.w3schools.com/python/python_ref_list.asp)"
   ]
  },
  {
   "cell_type": "markdown",
   "id": "4f9fcd1e",
   "metadata": {},
   "source": [
    "#### TUPLAS\n",
    "\n",
    "Inmutables, ordenadas y admiten valores repetidos.\n",
    "\n",
    "**OJO: para crear una tupla de un solo elemento se ha de añadir una coma, ya que los paréntesis se usan también para reordenar operaciones**"
   ]
  },
  {
   "cell_type": "code",
   "execution_count": 85,
   "id": "09594178",
   "metadata": {},
   "outputs": [
    {
     "name": "stdout",
     "output_type": "stream",
     "text": [
      "(1,)\n",
      "<class 'tuple'>\n"
     ]
    }
   ],
   "source": [
    "tupla = (1,)\n",
    "print(tupla)\n",
    "print(type(tupla))"
   ]
  },
  {
   "cell_type": "markdown",
   "id": "c451012b",
   "metadata": {},
   "source": [
    "EJEMPLO DE TUPLAS ANIDADAS. BUCLE EXTERNO PARA RECORRER LOS ELEMENTOS DE LA TUPLA PRINCIPAL, BUCLE INTERNO PARA RECORRER LOS ELEMENTOS DE LAS TUPLAS ANIDADAS"
   ]
  },
  {
   "cell_type": "code",
   "execution_count": 88,
   "id": "dc61dde5",
   "metadata": {},
   "outputs": [
    {
     "name": "stdout",
     "output_type": "stream",
     "text": [
      "0 :  ('A', 'B', 'C')\n",
      "---------------------\n",
      "A\n",
      "B\n",
      "C\n",
      "1 :  ('D', 'E', 'F')\n",
      "---------------------\n",
      "D\n",
      "E\n",
      "F\n"
     ]
    }
   ],
   "source": [
    "tupla_anid_2 = ((\"A\", \"B\", \"C\"), (\"D\", \"E\", \"F\"))\n",
    "for i in range(len(tupla_anid_2)):\n",
    "    print(i, \": \", tupla_anid_2[i])\n",
    "    print(\"---------------------\")\n",
    "    for j in tupla_anid_2[i]:\n",
    "        print(j)"
   ]
  },
  {
   "cell_type": "markdown",
   "id": "9b8cfbac",
   "metadata": {},
   "source": [
    "#### DICCIONARIOS\n",
    "\n",
    "Mutables, no ordenadoss y admiten valores repetidos.\n",
    "\n",
    "[documentación](https://www.w3schools.com/python/python_ref_dictionary.asp)"
   ]
  },
  {
   "cell_type": "markdown",
   "id": "e228bc76",
   "metadata": {},
   "source": [
    "A los elementos de un diccionario ya no se accede por medio de un índice ordenado de posiciones, sino por su clave, que puede estar  en cualquier posición dentro del diccionario."
   ]
  },
  {
   "cell_type": "code",
   "execution_count": null,
   "id": "fa6a6893",
   "metadata": {},
   "outputs": [
    {
     "name": "stdout",
     "output_type": "stream",
     "text": [
      "{'color': 'Gris', 'marca': 'VW', 'peso': 1500, 'Cambio automatico': True}\n",
      "dict_keys(['color', 'marca', 'peso', 'Cambio automatico'])\n",
      "color marca peso Cambio automatico\n",
      "dict_values(['Gris', 'VW', 1500, True])\n",
      "1500\n",
      "Gris\n",
      "True\n",
      "******************************************\n",
      "color :  Gris\n",
      "marca :  VW\n",
      "peso :  1500\n",
      "Cambio automatico :  True\n"
     ]
    }
   ],
   "source": [
    "# Normalmente un diccionario se tabula para mejorar la visualización\n",
    "# Independientemente de dónde se encuentre una clave accedemos al valor por esa clave, no por la posición  \n",
    "coche = {\"color\": \"Gris\",\n",
    "        \"marca\": \"VW\",\n",
    "        \"peso\": 1500,\n",
    "        \"Cambio automatico\": True}\n",
    "print(coche)\n",
    "\n",
    "print(coche.keys())\n",
    "\n",
    "# Se muestran las claves sin comas ni comillas\n",
    "print(*coche)\n",
    "\n",
    "print(coche.values())\n",
    "\n",
    "print(coche[\"color\"])\n",
    "print(coche[\"Cambio automatico\"])\n",
    "# Función para conseguir el valor de una clave\n",
    "print(coche.get(\"peso\"))\n",
    "\n",
    "print(\"******************************************\")\n",
    "\n",
    "for clave in coche:\n",
    "    print(clave, \": \", coche[clave])"
   ]
  },
  {
   "cell_type": "code",
   "execution_count": 90,
   "id": "9e008bc0",
   "metadata": {},
   "outputs": [
    {
     "data": {
      "text/plain": [
       "'azul'"
      ]
     },
     "execution_count": 90,
     "metadata": {},
     "output_type": "execute_result"
    }
   ],
   "source": [
    "# Los valores de un diccionario pueden ser listas, tuplas, sets...\n",
    "coches = {\n",
    "    \"id\": [1,2,3],\n",
    "    \"color\": [\"rojo\",'azul',\"gris\"]\n",
    "}\n",
    "\n",
    "coches['color'][1]"
   ]
  },
  {
   "cell_type": "markdown",
   "id": "71f8f901",
   "metadata": {},
   "source": [
    "Forma de crear un diccionario vacio"
   ]
  },
  {
   "cell_type": "code",
   "execution_count": 96,
   "id": "6f611175",
   "metadata": {},
   "outputs": [
    {
     "name": "stdout",
     "output_type": "stream",
     "text": [
      "{'Direccion': ['Avenida 1', 'Avenida 2'], 'Tamaño': [110, 90]}\n"
     ]
    }
   ],
   "source": [
    "# Podemos empezar tambien mediante un diccionario vacío\n",
    "tienda = {}\n",
    "tienda['Direccion'] = [\"Avenida 1\", \"Avenida 2\"]\n",
    "tienda['Tamaño'] = [110, 90]\n",
    "print(tienda)"
   ]
  },
  {
   "cell_type": "markdown",
   "id": "c42a6739",
   "metadata": {},
   "source": [
    "Forma de crear un diccionario a partir de una lista: iterar sobre la lista usando la función enumerate()"
   ]
  },
  {
   "cell_type": "code",
   "execution_count": 97,
   "id": "55cda365",
   "metadata": {},
   "outputs": [
    {
     "name": "stdout",
     "output_type": "stream",
     "text": [
      "['Avenida 1', 'Avenida 2', 110, 90]\n",
      "{0: 'Avenida 1', 1: 'Avenida 2', 2: 110, 3: 90}\n"
     ]
    }
   ],
   "source": [
    "lista_total = [\"Avenida 1\", \"Avenida 2\"] + [110, 90]\n",
    "print(lista_total)\n",
    "\n",
    "my_dict = {}\n",
    "\n",
    "for i, elem in enumerate(lista_total):\n",
    "    my_dict[i] = elem\n",
    "\n",
    "print(my_dict)"
   ]
  },
  {
   "cell_type": "markdown",
   "id": "064bd2c2",
   "metadata": {},
   "source": [
    "En el siguiente caso:\n",
    "\n",
    "➜ enumerate devuelve pares índice-valor:\n",
    "\n",
    "i=0, elem='Avenida 1'\n",
    "\n",
    "i=1, elem='Avenida 2'\n",
    "\n",
    "i=2, elem=110\n",
    "\n",
    "i=3, elem=90\n",
    "\n",
    "Dentro del bucle:\n",
    "\n",
    "- Cuando i = 0 → 'Dirección' = 'Avenida 1'\n",
    "- Cuando i = 1 → 'Dirección' = 'Avenida 2' ← sobrescribe la anterior\n",
    "- Cuando i = 2 → 'Tamaño' = 110'\n",
    "- Cuando i = 3 → 'Tamaño' = 90' ← sobrescribe la anterior\n",
    "\n",
    "CONCLUSIÓN: SE PIERDEN VALORES"
   ]
  },
  {
   "cell_type": "code",
   "execution_count": 100,
   "id": "060bb227",
   "metadata": {},
   "outputs": [
    {
     "name": "stdout",
     "output_type": "stream",
     "text": [
      "{'Dirección': 'Avenida 2', 'Tamaño': 90}\n"
     ]
    }
   ],
   "source": [
    "my_dict = {}\n",
    "\n",
    "for i, elem in enumerate(lista_total):\n",
    "    if i < 2:\n",
    "        my_dict['Dirección'] = elem\n",
    "    else:\n",
    "        my_dict['Tamaño'] = elem\n",
    "\n",
    "print(my_dict)"
   ]
  },
  {
   "cell_type": "markdown",
   "id": "956a01ff",
   "metadata": {},
   "source": [
    "SOLUCIÓN PARA QUE NO SE PIERDAN VALORES"
   ]
  },
  {
   "cell_type": "code",
   "execution_count": 101,
   "id": "b62dc1ff",
   "metadata": {},
   "outputs": [
    {
     "name": "stdout",
     "output_type": "stream",
     "text": [
      "{'Dirección': ['Avenida 1', 'Avenida 2'], 'Tamaño': [110, 90]}\n"
     ]
    }
   ],
   "source": [
    "my_dict = {'Dirección': [], 'Tamaño': []}\n",
    "\n",
    "for i, elem in enumerate(lista_total):\n",
    "    if i < 2:\n",
    "        my_dict['Dirección'].append(elem)\n",
    "    else:\n",
    "        my_dict['Tamaño'].append(elem)\n",
    "\n",
    "print(my_dict)"
   ]
  },
  {
   "cell_type": "markdown",
   "id": "8ac1a4c3",
   "metadata": {},
   "source": [
    "ITERACIÓN SOBRE DICCIONARIO"
   ]
  },
  {
   "cell_type": "code",
   "execution_count": 106,
   "id": "06c95cb2",
   "metadata": {},
   "outputs": [
    {
     "name": "stdout",
     "output_type": "stream",
     "text": [
      "color :  Gris\n",
      "marca :  VW\n"
     ]
    }
   ],
   "source": [
    "coche_2 = {\"color\": \"Gris\",\n",
    "        \"marca\": \"VW\"}\n",
    "\n",
    "for i in coche_2:\n",
    "    print(i, \": \", coche[i])"
   ]
  },
  {
   "cell_type": "code",
   "execution_count": 109,
   "id": "607da862",
   "metadata": {},
   "outputs": [
    {
     "name": "stdout",
     "output_type": "stream",
     "text": [
      "CLAVES\n",
      "color\n",
      "marca\n",
      "VALORES\n",
      "Gris\n",
      "VW\n"
     ]
    }
   ],
   "source": [
    "# Iteración sobre las claves\n",
    "print(\"CLAVES\")\n",
    "for i in coche_2.keys():\n",
    "    print(i)\n",
    "\n",
    "# Iteración sobre los valores\n",
    "print(\"VALORES\")\n",
    "for i in coche_2.values():\n",
    "    print(i)"
   ]
  },
  {
   "cell_type": "code",
   "execution_count": 124,
   "id": "b1f2850f",
   "metadata": {},
   "outputs": [
    {
     "name": "stdout",
     "output_type": "stream",
     "text": [
      "Clave:  color\n",
      "Clave:  marca\n",
      "Valor:  Gris\n",
      "Valor:  VW\n",
      "lista claves:  ['color', 'marca']\n",
      "lista valores:  ['Gris', 'VW']\n",
      "color :  Gris\n",
      "color :  VW\n",
      "marca :  Gris\n",
      "marca :  VW\n"
     ]
    }
   ],
   "source": [
    "# Iteración sobre las claves 02\n",
    "claves = []\n",
    "for i in coche_2.keys():\n",
    "    print(\"Clave: \", i)\n",
    "    claves.append(i)\n",
    "\n",
    "# Iteración sobre los valores\n",
    "valores = []\n",
    "for i in coche_2.values():\n",
    "    print(\"Valor: \", i)\n",
    "    valores.append(i)\n",
    "\n",
    "print(\"lista claves: \", claves)\n",
    "print(\"lista valores: \",valores)\n",
    "\n",
    "# BUCLE INCORRECTO\n",
    "for i in claves:\n",
    "    for j in valores:\n",
    "        print(i, \": \", j)"
   ]
  },
  {
   "cell_type": "code",
   "execution_count": null,
   "id": "114284ec",
   "metadata": {},
   "outputs": [
    {
     "name": "stdout",
     "output_type": "stream",
     "text": [
      "dict_items([('color', 'Gris'), ('marca', 'VW')])\n",
      "<class 'dict_items'>\n",
      "color :  Gris\n",
      "marca :  VW\n"
     ]
    }
   ],
   "source": [
    "# Iteración de clave-valor usando la función items.()\n",
    "print(coche_2.items())\n",
    "print(type(coche_2.items()))\n",
    "\n",
    "for clave, valor in coche_2.items():\n",
    "    print(clave, \": \", valor)"
   ]
  },
  {
   "cell_type": "markdown",
   "id": "478e8e6b",
   "metadata": {},
   "source": [
    "#### SETS\n",
    "\n",
    "Mutables, no ordenadoss y NO admiten valores repetidos.\n",
    "\n",
    "[documentación](https://docs.python.org/2/library/sets.html)"
   ]
  },
  {
   "cell_type": "markdown",
   "id": "0fc36732",
   "metadata": {},
   "source": [
    "#### CONVERSIONES ENTRE COLECCIONES\n",
    "\n"
   ]
  },
  {
   "cell_type": "markdown",
   "id": "43df8d88",
   "metadata": {},
   "source": [
    "## Funciones"
   ]
  },
  {
   "cell_type": "markdown",
   "id": "5ede3ebb",
   "metadata": {},
   "source": [
    "Cuando se meten argumentos variables, es necesario recorrerlos con un bucle for."
   ]
  },
  {
   "cell_type": "code",
   "execution_count": null,
   "id": "f46d0b0f",
   "metadata": {},
   "outputs": [],
   "source": [
    "# En este ejemplo, uso el ultimo argumento para dividir todo lo que habiamos multiplicado por este argumento\n",
    "# Si no se especifica el argumento posicional en la llamada a función, los argumentos variables tienen que ir al final \n",
    "def multipl_var_div(div, *args):   \n",
    "    total = 1\n",
    "    for i in args:\n",
    "        total = total * i\n",
    "    return total/div\n",
    "\n",
    "multipl_var_div(6,2,5,3)"
   ]
  },
  {
   "cell_type": "code",
   "execution_count": 127,
   "id": "8613a794",
   "metadata": {},
   "outputs": [
    {
     "data": {
      "text/plain": [
       "420.0"
      ]
     },
     "execution_count": 127,
     "metadata": {},
     "output_type": "execute_result"
    }
   ],
   "source": [
    "# En este caso, funciona con los argumentos variables al principio ya que se especifica explicitamente el argumento posicional\n",
    "def multipl_var_div(*args, div):   \n",
    "    total = 1\n",
    "    for i in args:\n",
    "        total = total * i\n",
    "    return total/div\n",
    "\n",
    "multipl_var_div(2,5,3,6,2,1,7,div = 6)"
   ]
  },
  {
   "cell_type": "code",
   "execution_count": 128,
   "id": "5a9c364c",
   "metadata": {},
   "outputs": [
    {
     "ename": "TypeError",
     "evalue": "multipl_var_div() missing 1 required keyword-only argument: 'div'",
     "output_type": "error",
     "traceback": [
      "\u001b[31m---------------------------------------------------------------------------\u001b[39m",
      "\u001b[31mTypeError\u001b[39m                                 Traceback (most recent call last)",
      "\u001b[36mCell\u001b[39m\u001b[36m \u001b[39m\u001b[32mIn[128]\u001b[39m\u001b[32m, line 8\u001b[39m\n\u001b[32m      5\u001b[39m         total = total * i\n\u001b[32m      6\u001b[39m     \u001b[38;5;28;01mreturn\u001b[39;00m total/div\n\u001b[32m----> \u001b[39m\u001b[32m8\u001b[39m \u001b[43mmultipl_var_div\u001b[49m\u001b[43m(\u001b[49m\u001b[32;43m2\u001b[39;49m\u001b[43m,\u001b[49m\u001b[32;43m5\u001b[39;49m\u001b[43m,\u001b[49m\u001b[32;43m3\u001b[39;49m\u001b[43m,\u001b[49m\u001b[32;43m6\u001b[39;49m\u001b[43m,\u001b[49m\u001b[32;43m2\u001b[39;49m\u001b[43m,\u001b[49m\u001b[32;43m1\u001b[39;49m\u001b[43m,\u001b[49m\u001b[32;43m7\u001b[39;49m\u001b[43m,\u001b[49m\u001b[32;43m6\u001b[39;49m\u001b[43m)\u001b[49m\n",
      "\u001b[31mTypeError\u001b[39m: multipl_var_div() missing 1 required keyword-only argument: 'div'"
     ]
    }
   ],
   "source": [
    "# Si no se especifica explicitamente el argumento posicional, da error\n",
    "def multipl_var_div(*args, div):   \n",
    "    total = 1\n",
    "    for i in args:\n",
    "        total = total * i\n",
    "    return total/div\n",
    "\n",
    "multipl_var_div(2,5,3,6,2,1,7,6)"
   ]
  },
  {
   "cell_type": "markdown",
   "id": "a8e1dbfb",
   "metadata": {},
   "source": [
    "INTRODUCIR UN DICCIONARIO COMO ARGUMENTO DE UNA FUNCIÓN (**kwargs)"
   ]
  },
  {
   "cell_type": "code",
   "execution_count": 129,
   "id": "58f73da3",
   "metadata": {},
   "outputs": [],
   "source": [
    "def movil(**args):\n",
    "    print(args)\n",
    "    print(type(args))\n",
    "    \n",
    "    for key, value in args.items():\n",
    "        print(key, \"=\", value)"
   ]
  },
  {
   "cell_type": "code",
   "execution_count": 130,
   "id": "e8208eb6",
   "metadata": {},
   "outputs": [
    {
     "name": "stdout",
     "output_type": "stream",
     "text": [
      "{'Camara': '24MPx', 'Bateria': 10, 'Peso': 200, 'precio': 300}\n",
      "<class 'dict'>\n",
      "Camara = 24MPx\n",
      "Bateria = 10\n",
      "Peso = 200\n",
      "precio = 300\n"
     ]
    }
   ],
   "source": [
    "movil(Camara = \"24MPx\", \n",
    "      Bateria = 10, \n",
    "      Peso = 200, \n",
    "      precio = 300)"
   ]
  },
  {
   "cell_type": "markdown",
   "id": "2342ac7d",
   "metadata": {},
   "source": [
    "INTRODUCIR ARGUMENTOS POSICIONALES, ARGUMENTOS VARIABLES (*args) y UN DICCIONARIO (**kwargs) COMO ARGUMENTOS DE UNA FUNCIÓN"
   ]
  },
  {
   "cell_type": "code",
   "execution_count": 137,
   "id": "97b7c6ba",
   "metadata": {},
   "outputs": [],
   "source": [
    "def movil(div, *args, **kargs):\n",
    "    \n",
    "    for i in args:\n",
    "        print(i)\n",
    "        \n",
    "    for key, value in kargs.items():\n",
    "        print(key, \"=\", value)\n",
    "    \n",
    "    # El argumento posicional se está imprimiendo al final\n",
    "    print(div)"
   ]
  },
  {
   "cell_type": "code",
   "execution_count": 138,
   "id": "44b51c7c",
   "metadata": {},
   "outputs": [
    {
     "name": "stdout",
     "output_type": "stream",
     "text": [
      "Movil bueno\n",
      "Le dura la bateria\n",
      "Camara = 24MPx\n",
      "Bateria = 10\n",
      "Peso = 200\n",
      "hola\n"
     ]
    }
   ],
   "source": [
    "movil(\"hola\",\n",
    "      \"Movil bueno\",\n",
    "      \"Le dura la bateria\",\n",
    "      Camara = \"24MPx\",\n",
    "      Bateria = 10,\n",
    "      Peso = 200)"
   ]
  }
 ],
 "metadata": {
  "kernelspec": {
   "display_name": "Python 3",
   "language": "python",
   "name": "python3"
  },
  "language_info": {
   "codemirror_mode": {
    "name": "ipython",
    "version": 3
   },
   "file_extension": ".py",
   "mimetype": "text/x-python",
   "name": "python",
   "nbconvert_exporter": "python",
   "pygments_lexer": "ipython3",
   "version": "3.11.4"
  }
 },
 "nbformat": 4,
 "nbformat_minor": 5
}
