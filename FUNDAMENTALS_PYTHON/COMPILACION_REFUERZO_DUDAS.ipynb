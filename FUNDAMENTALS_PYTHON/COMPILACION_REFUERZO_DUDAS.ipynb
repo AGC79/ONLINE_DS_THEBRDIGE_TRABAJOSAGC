{
 "cells": [
  {
   "cell_type": "markdown",
   "id": "23c03ef5-1fd6-4627-99b6-277977b33794",
   "metadata": {},
   "source": [
    "## CÓDIGO PARA RECORDAR, REFUERZO, DUDAS"
   ]
  },
  {
   "cell_type": "markdown",
   "id": "eab20548",
   "metadata": {},
   "source": [
    "### Basics I"
   ]
  },
  {
   "cell_type": "markdown",
   "id": "81b87e1c",
   "metadata": {},
   "source": [
    "Si hacemos un print de un texto, podemos concatenar valores de variables mediante `%s`."
   ]
  },
  {
   "cell_type": "code",
   "execution_count": 2,
   "id": "9f1e39d9",
   "metadata": {},
   "outputs": [],
   "source": [
    "beneficio = 200"
   ]
  },
  {
   "cell_type": "code",
   "execution_count": 3,
   "id": "f282cfda",
   "metadata": {},
   "outputs": [
    {
     "name": "stdout",
     "output_type": "stream",
     "text": [
      "Los beneficios de junio han sido de 900 millones\n"
     ]
    }
   ],
   "source": [
    "print('Los beneficios de junio han sido de 900 millones')"
   ]
  },
  {
   "cell_type": "code",
   "execution_count": null,
   "id": "be33058f",
   "metadata": {},
   "outputs": [
    {
     "name": "stdout",
     "output_type": "stream",
     "text": [
      "Los beneficios de septiembre han sido de 200 millones\n",
      "Los beneficios de septiembre han sido de 200 millones\n"
     ]
    }
   ],
   "source": [
    "print(\"Los beneficios de %s han sido de %s millones\" % (\"septiembre\", beneficio))\n",
    "\n",
    "print(\"Los beneficios de\", \"septiembre\", \"han sido de\" ,beneficio, \"millones\")"
   ]
  },
  {
   "cell_type": "markdown",
   "id": "f811e381",
   "metadata": {},
   "source": [
    "Otra opcion si queremos imprimir por pantalla varios strings, es separandolos por comas en el `print`. Fíjate que le añade espacios en la salida cada vez que ponemos un valor nuevo entre comas."
   ]
  },
  {
   "cell_type": "code",
   "execution_count": 5,
   "id": "06c2b8c2",
   "metadata": {},
   "outputs": [
    {
     "name": "stdout",
     "output_type": "stream",
     "text": [
      "Los beneficios de agosto han sido de 200 millones\n"
     ]
    }
   ],
   "source": [
    "mes = \"agosto\"\n",
    "print(\"Los beneficios de\", mes, \"han sido de\", beneficio, \"millones\")"
   ]
  },
  {
   "cell_type": "code",
   "execution_count": 6,
   "id": "d82308f6",
   "metadata": {},
   "outputs": [],
   "source": [
    "# \"Los beneficios deagostohan sido de800millones\""
   ]
  },
  {
   "cell_type": "code",
   "execution_count": 7,
   "id": "b937e83a",
   "metadata": {},
   "outputs": [
    {
     "name": "stdout",
     "output_type": "stream",
     "text": [
      "Los beneficios de agosto han sido de 200 millones\n"
     ]
    }
   ],
   "source": [
    "# Si se pone f delante de un string, se detectarán variables entre llaves dentro del texto\n",
    "print(f\"Los beneficios de {mes} han sido de {beneficio} millones\")"
   ]
  }
 ],
 "metadata": {
  "kernelspec": {
   "display_name": "Python 3",
   "language": "python",
   "name": "python3"
  },
  "language_info": {
   "codemirror_mode": {
    "name": "ipython",
    "version": 3
   },
   "file_extension": ".py",
   "mimetype": "text/x-python",
   "name": "python",
   "nbconvert_exporter": "python",
   "pygments_lexer": "ipython3",
   "version": "3.11.4"
  }
 },
 "nbformat": 4,
 "nbformat_minor": 5
}
