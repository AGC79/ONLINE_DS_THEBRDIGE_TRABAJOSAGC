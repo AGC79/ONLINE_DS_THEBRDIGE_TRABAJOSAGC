{
 "cells": [
  {
   "cell_type": "markdown",
   "metadata": {},
   "source": [
    "![imagen](./img/ejercicios.png)"
   ]
  },
  {
   "cell_type": "markdown",
   "metadata": {},
   "source": [
    "# Ejercicios funciones\n",
    "## Ejercicio 1\n",
    "Escribe una función que convierta números del 1 al 7 en nombres de los dias de la semana. La función constará de un único argumento numérico y una salida de tipo string"
   ]
  },
  {
   "cell_type": "code",
   "execution_count": 19,
   "metadata": {},
   "outputs": [],
   "source": [
    "def convertir_numero_semana(num:int):\n",
    "\n",
    "    lista_dias = [\"Lunes\", \"Martes\", \"Miércoles\", \"Jueves\", \"Viernes\", \"Sábado\", \"Domingo\"]\n",
    "\n",
    "    for num_semana, dia in enumerate(lista_dias):\n",
    "        if num == num_semana + 1:\n",
    "            return dia\n",
    "    if num <= 0 or num > 7:\n",
    "       return \"Número de día incorrecto\"\n",
    "        \n",
    "    "
   ]
  },
  {
   "cell_type": "code",
   "execution_count": 20,
   "metadata": {},
   "outputs": [
    {
     "name": "stdout",
     "output_type": "stream",
     "text": [
      "Lunes\n",
      "Martes\n",
      "Miércoles\n",
      "Jueves\n",
      "Viernes\n",
      "Sábado\n",
      "Domingo\n",
      "Número de día incorrecto\n"
     ]
    }
   ],
   "source": [
    "num_dia1 = convertir_numero_semana(1)\n",
    "print(num_dia1)\n",
    "num_dia2 = convertir_numero_semana(2)\n",
    "print(num_dia2)\n",
    "num_dia3 = convertir_numero_semana(3)\n",
    "print(num_dia3)\n",
    "num_dia4 = convertir_numero_semana(4)\n",
    "print(num_dia4)\n",
    "num_dia5 = convertir_numero_semana(5)\n",
    "print(num_dia5)\n",
    "num_dia6 = convertir_numero_semana(6)\n",
    "print(num_dia6)\n",
    "num_dia7 = convertir_numero_semana(7)\n",
    "print(num_dia7)\n",
    "\n",
    "num_dia8 = convertir_numero_semana(8)\n",
    "print(num_dia8)"
   ]
  },
  {
   "cell_type": "markdown",
   "metadata": {},
   "source": [
    "## Ejercicio 2\n",
    "En el ejercicio 8 de flujos de control, creábamos una pirámide invertida de números desde el 5. Crea una función que replique el comportamiento de la pirámide, y utiliza un único parámetro de entrada de la función para determinar el número de filas de la pirámide."
   ]
  },
  {
   "cell_type": "code",
   "execution_count": 12,
   "metadata": {},
   "outputs": [],
   "source": [
    "def crear_piramide(filas:int):\n",
    "    \n",
    "    for i in range(filas, 0, -1): \n",
    "        for j in range(i, 0, -1):  \n",
    "            print(j, end=\" \")       \n",
    "        print()  "
   ]
  },
  {
   "cell_type": "code",
   "execution_count": 16,
   "metadata": {},
   "outputs": [
    {
     "name": "stdout",
     "output_type": "stream",
     "text": [
      "8 7 6 5 4 3 2 1 \n",
      "7 6 5 4 3 2 1 \n",
      "6 5 4 3 2 1 \n",
      "5 4 3 2 1 \n",
      "4 3 2 1 \n",
      "3 2 1 \n",
      "2 1 \n",
      "1 \n",
      "None\n"
     ]
    }
   ],
   "source": [
    "num_filas = crear_piramide(8)\n",
    "print(num_filas)"
   ]
  },
  {
   "cell_type": "code",
   "execution_count": 22,
   "metadata": {},
   "outputs": [
    {
     "name": "stdout",
     "output_type": "stream",
     "text": [
      "5 4 3 2 1\n",
      "4 3 2 1\n",
      "3 2 1\n",
      "2 1\n",
      "1\n"
     ]
    }
   ],
   "source": [
    "def piramide_invertida(filas):\n",
    "\n",
    "    lista = list(range(filas, 0, -1))\n",
    "\n",
    "    while len(lista) > 0:\n",
    "        print(*lista)\n",
    "        lista.pop(0)\n",
    "\n",
    "piramide_invertida(5)"
   ]
  },
  {
   "cell_type": "markdown",
   "metadata": {},
   "source": [
    "## Ejercicio 3\n",
    "Escribe una función que compare dos números. La función tiene dos argumentos y hay tres salidas posibles: que sean iguales, que el primero sea  mayor que el segundo, o que el segundo sea mayor que el primero"
   ]
  },
  {
   "cell_type": "code",
   "execution_count": 23,
   "metadata": {},
   "outputs": [],
   "source": [
    "def comparar_numeros(num_01, num_02):\n",
    "    if num_01 == num_02:\n",
    "        return f\"Los dos numeros introducidos son iguales.\"\n",
    "    elif num_01 > num_02:\n",
    "        return f\"El número {num_01} es mayor que el número {num_02}.\"\n",
    "    else:\n",
    "        return f\"El número {num_02} es mayor que el número {num_01}.\""
   ]
  },
  {
   "cell_type": "code",
   "execution_count": 26,
   "metadata": {},
   "outputs": [
    {
     "name": "stdout",
     "output_type": "stream",
     "text": [
      "Los dos numeros introducidos son iguales.\n",
      "El número 10 es mayor que el número 9.\n",
      "El número 20 es mayor que el número 10.\n"
     ]
    }
   ],
   "source": [
    "numeros_01 = comparar_numeros(10, 10)\n",
    "print(numeros_01)\n",
    "\n",
    "numeros_02 = comparar_numeros(10, 9)\n",
    "print(numeros_02)\n",
    "\n",
    "numeros_02 = comparar_numeros(10, 20)\n",
    "print(numeros_02)"
   ]
  },
  {
   "attachments": {},
   "cell_type": "markdown",
   "metadata": {},
   "source": [
    "## Ejercicio 4\n",
    "Escribe una función que sea un contador de letras. En el primer argumento tienes que introducir un texto, y el segundo que sea una letra que contar. La función tiene que devolver un entero con el número de veces que aparece esa letra, tanto mayúscula, como minúscula"
   ]
  },
  {
   "cell_type": "code",
   "execution_count": 39,
   "metadata": {},
   "outputs": [],
   "source": [
    "def contar_letras(texto:str, letra:str):\n",
    "\n",
    "    contador = 0\n",
    "\n",
    "    for i in range(len(texto)):\n",
    "        if letra.lower() == texto[i].lower():\n",
    "            contador += 1\n",
    "\n",
    "    return f\"Veces que se repite la letra \\\"{letra}\\\" en el texto introducido: {contador}.\""
   ]
  },
  {
   "cell_type": "code",
   "execution_count": 42,
   "metadata": {},
   "outputs": [
    {
     "name": "stdout",
     "output_type": "stream",
     "text": [
      "Veces que se repite la letra \"o\" en el texto introducido: 3.\n"
     ]
    }
   ],
   "source": [
    "cuenta_letras = contar_letras(\"Onomatopeya\", \"o\")\n",
    "print(cuenta_letras)"
   ]
  },
  {
   "cell_type": "code",
   "execution_count": 23,
   "metadata": {},
   "outputs": [],
   "source": [
    "def contar(texto, letra):\n",
    "    texto = texto.lower()\n",
    "    letra = letra.lower()\n",
    "    return texto.count(letra)"
   ]
  },
  {
   "cell_type": "code",
   "execution_count": 25,
   "metadata": {},
   "outputs": [
    {
     "name": "stdout",
     "output_type": "stream",
     "text": [
      "4\n"
     ]
    }
   ],
   "source": [
    "res = contar(\"En un lugar de la Mancha\", \"a\")\n",
    "print(res)"
   ]
  },
  {
   "cell_type": "markdown",
   "metadata": {},
   "source": [
    "## Ejercicio 5\n",
    "Escribe una función que tenga un único argumento, un string. La salida de la función tiene que ser un diccionario con el conteo de todas las letras de ese string, siendo la clave la letra y el valor el conteo."
   ]
  },
  {
   "cell_type": "code",
   "execution_count": null,
   "metadata": {},
   "outputs": [],
   "source": [
    "def crear_diccionario(texto2:str):\n",
    "\n",
    "    dict_letras = {}\n",
    "    for letra in texto2.lower(): \n",
    "        if letra not in dict_letras:\n",
    "            dict_letras[letra] = 1\n",
    "        else:\n",
    "            dict_letras[letra] = dict_letras[letra] + 1\n",
    "\n",
    "    return dict_letras"
   ]
  },
  {
   "cell_type": "code",
   "execution_count": null,
   "metadata": {},
   "outputs": [
    {
     "name": "stdout",
     "output_type": "stream",
     "text": [
      "{'o': 3, 'n': 1, 'm': 1, 'a': 2, 't': 1, 'p': 1, 'e': 1, 'y': 1}\n"
     ]
    }
   ],
   "source": [
    "resultado = crear_diccionario(\"Onomatopeya\")\n",
    "print(resultado)"
   ]
  },
  {
   "cell_type": "code",
   "execution_count": 38,
   "metadata": {},
   "outputs": [],
   "source": [
    "def crear_diccionario2(texto2:str):\n",
    "\n",
    "    dict_letras = {}\n",
    "    for letra in texto2.lower(): \n",
    "        if letra.isalpha():\n",
    "            if letra not in dict_letras:\n",
    "                dict_letras[letra] = 1\n",
    "            else:\n",
    "                dict_letras[letra] = dict_letras[letra] + 1\n",
    "\n",
    "    return dict_letras"
   ]
  },
  {
   "cell_type": "code",
   "execution_count": 40,
   "metadata": {},
   "outputs": [
    {
     "name": "stdout",
     "output_type": "stream",
     "text": [
      "{'e': 2, 'n': 3, 'u': 2, 'l': 2, 'g': 1, 'a': 4, 'r': 1, 'd': 1, 'm': 1, 'c': 1, 'h': 1}\n"
     ]
    }
   ],
   "source": [
    "resultado2 = crear_diccionario2(\"En un lugar de la Mancha\")\n",
    "print(resultado2)"
   ]
  },
  {
   "cell_type": "markdown",
   "metadata": {},
   "source": [
    "## Ejercicio 6\n",
    "Escribir una función que añada o elimine elementos en una lista. La función necesita los siguientes argumentos:\n",
    "* lista: la lista donde se añadirán o eliminarán los elementos\n",
    "* comando: \"add\" o \"remove\"\n",
    "* elemento: Por defecto es None.\n",
    "\n",
    "Tendrá como salida la lista"
   ]
  },
  {
   "cell_type": "code",
   "execution_count": null,
   "metadata": {},
   "outputs": [],
   "source": [
    "def modificar_lista(lista, comando:str, elemento=None):\n",
    "    if comando == \"add\":\n",
    "        lista.append(elemento)\n",
    "    elif comando == \"remove\":\n",
    "        if elemento in lista:\n",
    "            lista.remove(elemento)\n",
    "    else:\n",
    "        print(\"Este comando no funciona, introduce \\\"add\\\" o \\\"remove\\\".\")\n",
    "    return lista"
   ]
  },
  {
   "cell_type": "code",
   "execution_count": 69,
   "metadata": {},
   "outputs": [
    {
     "name": "stdout",
     "output_type": "stream",
     "text": [
      "[56, 32, 10, 100]\n",
      "[56, 10, 100]\n",
      "[56, 10, 100, None]\n"
     ]
    }
   ],
   "source": [
    "lista01 = [56, 32, 10]\n",
    "\n",
    "modificacion_lista = modificar_lista(lista01, \"add\", 100)\n",
    "print(modificacion_lista)\n",
    "\n",
    "modificacion_lista = modificar_lista(lista01, \"remove\", 32)\n",
    "print(modificacion_lista)\n",
    "\n",
    "modificacion_lista = modificar_lista(lista01, \"add\")\n",
    "print(modificacion_lista)"
   ]
  },
  {
   "cell_type": "code",
   "execution_count": 41,
   "metadata": {},
   "outputs": [],
   "source": [
    "def modificar_lista(lista, comando:str, elemento=None):\n",
    "    if comando == \"add\" and elemnteo is not None:\n",
    "        lista.append(elemento)\n",
    "    elif comando == \"remove\":\n",
    "        try:\n",
    "            lista.remove(elemento)\n",
    "        except:\n",
    "            return \"Elemento no encontradoo en la lista\"\n",
    "    else:\n",
    "        return \"Cimando incorrecto\"\n",
    "    return lista"
   ]
  },
  {
   "cell_type": "markdown",
   "metadata": {},
   "source": [
    "## Ejercicio 7\n",
    "Crea una función que reciba un número arbitrario de palabras, y devuelva una frase completa, separando las palabras con espacios."
   ]
  },
  {
   "cell_type": "code",
   "execution_count": 73,
   "metadata": {},
   "outputs": [],
   "source": [
    "def crear_frase(*palabras):\n",
    "    return \" \".join(palabras)"
   ]
  },
  {
   "cell_type": "code",
   "execution_count": 76,
   "metadata": {},
   "outputs": [
    {
     "name": "stdout",
     "output_type": "stream",
     "text": [
      "Hola me llamo Álvaro\n"
     ]
    }
   ],
   "source": [
    "frase = crear_frase (\"Hola\", \"me\", \"llamo\", \"Álvaro\")\n",
    "print(frase)"
   ]
  },
  {
   "cell_type": "markdown",
   "metadata": {},
   "source": [
    "## Ejercicio 8\n",
    "Escribe un programa que obtenga el enésimo número de la [serie de Fibonacci](https://es.wikipedia.org/wiki/Sucesi%C3%B3n_de_Fibonacci). Tienes que crear una función recursiva con un único argumento.\n",
    "\n",
    "```Python\n",
    "fibonacci(2) = 1\n",
    "fibonacci(4) = 3\n",
    "fibonacci(5) = 5\n",
    "fibonacci(8) = 21\n",
    "```"
   ]
  },
  {
   "cell_type": "markdown",
   "metadata": {},
   "source": [
    "fibonacci(n) = fibonacci(n-1) + fibonacci(n-2)"
   ]
  },
  {
   "cell_type": "code",
   "execution_count": null,
   "metadata": {},
   "outputs": [],
   "source": [
    "def serie_fibonacci(numero:int):\n",
    "    if numero <= 0:\n",
    "        return 0  \n",
    "    elif numero == 1:\n",
    "        return 1\n",
    "    else:\n",
    "        return serie_fibonacci(numero - 1) + serie_fibonacci(numero - 2)"
   ]
  },
  {
   "cell_type": "code",
   "execution_count": 79,
   "metadata": {},
   "outputs": [
    {
     "name": "stdout",
     "output_type": "stream",
     "text": [
      "1\n",
      "3\n",
      "5\n",
      "21\n"
     ]
    }
   ],
   "source": [
    "print(serie_fibonacci(2))\n",
    "print(serie_fibonacci(4))\n",
    "print(serie_fibonacci(5))\n",
    "print(serie_fibonacci(8))"
   ]
  },
  {
   "cell_type": "code",
   "execution_count": 47,
   "metadata": {},
   "outputs": [],
   "source": [
    "def fibonacci(n):\n",
    "    if n == 0 or n == 1: \n",
    "        return n\n",
    "    else:\n",
    "        return fibonacci(n - 1) + fibonacci(n - 2) "
   ]
  },
  {
   "cell_type": "code",
   "execution_count": 48,
   "metadata": {},
   "outputs": [
    {
     "name": "stdout",
     "output_type": "stream",
     "text": [
      "1\n",
      "3\n",
      "5\n",
      "21\n"
     ]
    }
   ],
   "source": [
    "print(fibonacci(2))\n",
    "print(fibonacci(4))\n",
    "print(fibonacci(5))\n",
    "print(fibonacci(8))"
   ]
  },
  {
   "attachments": {},
   "cell_type": "markdown",
   "metadata": {},
   "source": [
    "## Ejercicio 9\n",
    "Define en una única celda las siguientes funciones:\n",
    "* Función que calcule el área de un cuadrado\n",
    "* Función que calcule el área de un triángulo\n",
    "* Función que calcule el área de un círculo\n",
    "\n",
    "En otra celda, calcular el area de:\n",
    "* Dos círculos de radio 10 + un triángulo de base 3 y altura 7\n",
    "* Un cuadrado de lado = 10 + 3 círculos (uno de radio = 4 y los otros dos de radio = 6) + 5 triángulos de base = 2 + altura = 4"
   ]
  },
  {
   "cell_type": "code",
   "execution_count": 52,
   "metadata": {},
   "outputs": [],
   "source": [
    "import math\n",
    "\n",
    "def calcular_area_cuadrado(lado):\n",
    "    area_cuadrado = lado ** 2\n",
    "    return area_cuadrado \n",
    "\n",
    "def calcular_area_triangulo(base, altura):\n",
    "    area_triangulo = (base * altura) / 2\n",
    "    return area_triangulo \n",
    "\n",
    "def calcular_area_circulo(radio):\n",
    "    PI = round(math.pi, 2)\n",
    "    area_circulo = PI * (radio ** 2)\n",
    "    return area_circulo "
   ]
  },
  {
   "cell_type": "code",
   "execution_count": 83,
   "metadata": {},
   "outputs": [
    {
     "name": "stdout",
     "output_type": "stream",
     "text": [
      "Area total: 638.5\n",
      "Area total: 396.32\n"
     ]
    }
   ],
   "source": [
    "area_circulo_1 = calcular_area_circulo(10)\n",
    "area_circulo_2 = calcular_area_circulo(10)\n",
    "area_triangulo_1 = calcular_area_triangulo(3, 7)\n",
    "area_total_1 = area_circulo_1 + area_circulo_2 + area_triangulo_1\n",
    "print(\"Area total:\", area_total_1)\n",
    "\n",
    "area_cuadrado_2 = calcular_area_cuadrado(10)\n",
    "area_circulos_2 = calcular_area_circulo(4) + 2 * calcular_area_circulo(6)\n",
    "area_triangulos_2 = 5 * calcular_area_triangulo(2, 4)\n",
    "area_total_2 = area_cuadrado_2 + area_circulos_2 + area_triangulos_2\n",
    "print(\"Area total:\", area_total_2)\n"
   ]
  },
  {
   "cell_type": "code",
   "execution_count": 57,
   "metadata": {},
   "outputs": [
    {
     "name": "stdout",
     "output_type": "stream",
     "text": [
      "638.5\n",
      "396.32\n"
     ]
    }
   ],
   "source": [
    "print(2 * calcular_area_circulo(10) + calcular_area_triangulo(3, 7))\n",
    "print(round(calcular_area_cuadrado(10) + calcular_area_circulo(4) + 2 * calcular_area_circulo(6) + 5 * calcular_area_triangulo(2, 4), 2))"
   ]
  },
  {
   "cell_type": "code",
   "execution_count": 51,
   "metadata": {},
   "outputs": [],
   "source": [
    "import math\n",
    "\n",
    "def calcular_area_cuadrado(lado):\n",
    "    return lado ** 2 \n",
    "\n",
    "def calcular_area_triangulo(base, altura):\n",
    "    return base * altura / 2 \n",
    "\n",
    "def calcular_area_circulo(radio):\n",
    "    return math.pi *  radio ** 2"
   ]
  },
  {
   "cell_type": "code",
   "execution_count": 50,
   "metadata": {},
   "outputs": [
    {
     "name": "stdout",
     "output_type": "stream",
     "text": [
      "5.0\n",
      "5.0\n"
     ]
    }
   ],
   "source": [
    "print(5 * 2 / 2)\n",
    "print((5 * 2) / 2)"
   ]
  },
  {
   "cell_type": "markdown",
   "metadata": {},
   "source": [
    "## Ejercicio 10\n",
    "\n",
    "Guarda las funciones de estos ejercicios en un fichero llamado `funciones.py` e importalas desde este jupyter notebook para probar que puedes hacer uso de ellas."
   ]
  },
  {
   "cell_type": "code",
   "execution_count": 61,
   "metadata": {},
   "outputs": [
    {
     "name": "stdout",
     "output_type": "stream",
     "text": [
      "Area total: 638.5\n",
      "Area total: 396.32\n"
     ]
    }
   ],
   "source": [
    "from funciones import serie_fibonacci, calcular_area_circulo\n",
    " \n",
    "area_circulo_1 = calcular_area_circulo(10)\n",
    "area_circulo_2 = calcular_area_circulo(10)\n",
    "area_triangulo_1 = calcular_area_triangulo(3, 7)\n",
    "area_total_1 = area_circulo_1 + area_circulo_2 + area_triangulo_1\n",
    "print(\"Area total:\", area_total_1)\n",
    "\n",
    "area_cuadrado_2 = calcular_area_cuadrado(10)\n",
    "area_circulos_2 = calcular_area_circulo(4) + 2 * calcular_area_circulo(6)\n",
    "area_triangulos_2 = calcular_area_circulo= 5 * calcular_area_triangulo(2, 4)\n",
    "area_total_2 = area_cuadrado_2 + area_circulos_2 + area_triangulos_2\n",
    "print(\"Area total:\", area_total_2)"
   ]
  }
 ],
 "metadata": {
  "kernelspec": {
   "display_name": "Python 3",
   "language": "python",
   "name": "python3"
  },
  "language_info": {
   "codemirror_mode": {
    "name": "ipython",
    "version": 3
   },
   "file_extension": ".py",
   "mimetype": "text/x-python",
   "name": "python",
   "nbconvert_exporter": "python",
   "pygments_lexer": "ipython3",
   "version": "3.13.7"
  }
 },
 "nbformat": 4,
 "nbformat_minor": 4
}
