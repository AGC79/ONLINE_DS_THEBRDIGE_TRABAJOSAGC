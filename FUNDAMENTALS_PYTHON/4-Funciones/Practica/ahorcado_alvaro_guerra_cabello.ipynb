{
 "cells": [
  {
   "attachments": {},
   "cell_type": "markdown",
   "metadata": {},
   "source": [
    "## Juego del Ahorcado\n",
    "Desarrolla el juego del ahorcado en python. En cada turno irá mostrando por pantalla ```_ _ _ _ _``` las rayas bajas correspondientes al número de letras que tiene la palabra a adivinar. El usuario deberá insertar una letra y, si esa letra existe, se mostrará o mostrarán las letras acertadas ```S _ S _ _``` en sus posiciones correspondientes. \n",
    "\n",
    "Si falla, se mostrará el número de errores que lleva y, si lleva x errores, entonces se mostrará \"Fin del juego\"."
   ]
  },
  {
   "cell_type": "markdown",
   "metadata": {},
   "source": [
    "1. Inicializa el juego: declara una palabra a adivinar y muestra por pantalla la palabra oculta.\n"
   ]
  },
  {
   "cell_type": "code",
   "execution_count": 29,
   "metadata": {},
   "outputs": [
    {
     "name": "stdout",
     "output_type": "stream",
     "text": [
      "Palabra a adivinar: _ _ _\n"
     ]
    }
   ],
   "source": [
    "palabra_secreta = \"ala\"\n",
    "\n",
    "palabra_oculta = []\n",
    "for letra in palabra_secreta:\n",
    "    palabra_oculta.append(\"_\")\n",
    "\n",
    "print(\"Palabra a adivinar:\", \" \".join(palabra_oculta))"
   ]
  },
  {
   "cell_type": "markdown",
   "metadata": {},
   "source": [
    "\n",
    "```python\n",
    "_ _ _ _ _ _ _ _\n",
    "```"
   ]
  },
  {
   "cell_type": "markdown",
   "metadata": {},
   "source": [
    "2. Funcionamiento turnos: mediante un bucle genera el sistema de turnos donde el usuario introduce una letra y le va mostrando su progreso y sus vidas."
   ]
  },
  {
   "cell_type": "code",
   "execution_count": 28,
   "metadata": {},
   "outputs": [
    {
     "name": "stdout",
     "output_type": "stream",
     "text": [
      "a _ a\n",
      "Ya has introducido esta letra.\n",
      "a _ a\n",
      "Ya has introducido esta letra.\n",
      "a _ a\n",
      "Ya has introducido esta letra.\n",
      "a _ a\n",
      "Ya has introducido esta letra.\n",
      "a _ a\n",
      "a l a\n",
      "Enhorabuena, has adivinado la palabra secreta. FIN DE A PARTIDA.\n"
     ]
    }
   ],
   "source": [
    "errores = 0\n",
    "MAX_INTENTOS = 10\n",
    "\n",
    "while \"_\" in palabra_oculta:\n",
    "\n",
    "    letra_usuario = input(\"Introduce una letra:\\n\")\n",
    "    letra_encontrada = False\n",
    "\n",
    "    if letra_usuario in palabra_oculta:\n",
    "        print(\"Ya has introducido esta letra.\")\n",
    "\n",
    "    for i, letra in enumerate(palabra_secreta):\n",
    "        if letra_usuario.lower() == letra.lower():\n",
    "            letra_encontrada = True\n",
    "            # for guion in palabra_oculta:\n",
    "            palabra_oculta[i] = letra_usuario.lower()\n",
    "            \n",
    "    if not letra_encontrada:\n",
    "        print()\n",
    "        print(\"Esa letra no existe en la palabra secreta\")\n",
    "        errores += 1\n",
    "        intentos_restantes = MAX_INTENTOS - errores\n",
    "        print(\"Errores cometidos: \", errores)\n",
    "        print(\"Te quedan \", intentos_restantes, \"intentos\")\n",
    "        \n",
    "    if errores >= 10:\n",
    "        print(\"Has agotado el número de intentos. FIN DE A PARTIDA.\")\n",
    "        break\n",
    "\n",
    "    print(\" \".join(palabra_oculta)) \n",
    "    if palabra_secreta == \"\".join(palabra_oculta):\n",
    "        print(\"Enhorabuena, has adivinado la palabra secreta. FIN DE A PARTIDA.\")"
   ]
  },
  {
   "cell_type": "markdown",
   "metadata": {},
   "source": [
    "3. Desarrolla la finalización de la partida, tanto si gana como si pierde."
   ]
  },
  {
   "cell_type": "code",
   "execution_count": null,
   "metadata": {},
   "outputs": [],
   "source": []
  },
  {
   "cell_type": "markdown",
   "metadata": {},
   "source": [
    "4. Encapsula el juego en una función llamada ```jugar_ahorcado()``` con la palabra a adivinar y el número de vidas para seleccionar la dificultad como argumentos de entrada."
   ]
  },
  {
   "cell_type": "code",
   "execution_count": 32,
   "metadata": {},
   "outputs": [],
   "source": [
    "\n",
    "def jugar_ahorcado(palabra_secreta, max_intentos):\n",
    "    # palabra_secreta = \"ala\"\n",
    "\n",
    "    palabra_oculta = []\n",
    "    for letra in palabra_secreta:\n",
    "        palabra_oculta.append(\"_\")\n",
    "\n",
    "    print(\"Palabra a adivinar:\", \" \".join(palabra_oculta))\n",
    "\n",
    "    errores = 0\n",
    "    # MAX_INTENTOS = 10\n",
    "\n",
    "    while \"_\" in palabra_oculta:\n",
    "\n",
    "        letra_usuario = input(\"Introduce una letra:\\n\")\n",
    "        letra_encontrada = False\n",
    "\n",
    "        if letra_usuario in palabra_oculta:\n",
    "            print(\"Ya has introducido esta letra.\")\n",
    "\n",
    "        for i, letra in enumerate(palabra_secreta):\n",
    "            if letra_usuario.lower() == letra.lower():\n",
    "                letra_encontrada = True\n",
    "                # for guion in palabra_oculta:\n",
    "                palabra_oculta[i] = letra_usuario.lower()\n",
    "                \n",
    "        if not letra_encontrada:\n",
    "            print()\n",
    "            print(\"Esa letra no existe en la palabra secreta\")\n",
    "            errores += 1\n",
    "            intentos_restantes = max_intentos - errores\n",
    "            print(\"Errores cometidos: \", errores)\n",
    "            print(\"Te quedan \", intentos_restantes, \"intentos\")\n",
    "            \n",
    "        if errores >= 10:\n",
    "            print(\"Has agotado el número de intentos. FIN DE A PARTIDA.\")\n",
    "            break\n",
    "\n",
    "        print(\" \".join(palabra_oculta)) \n",
    "        if palabra_secreta == \"\".join(palabra_oculta):\n",
    "            print(\"Enhorabuena, has adivinado la palabra secreta. FIN DE A PARTIDA.\")"
   ]
  },
  {
   "cell_type": "code",
   "execution_count": 33,
   "metadata": {},
   "outputs": [
    {
     "name": "stdout",
     "output_type": "stream",
     "text": [
      "Palabra a adivinar: _ _ _\n",
      "\n",
      "Esa letra no existe en la palabra secreta\n",
      "Errores cometidos:  1\n",
      "Te quedan  9 intentos\n",
      "_ _ _\n",
      "a _ a\n",
      "Ya has introducido esta letra.\n",
      "a _ a\n",
      "a l a\n",
      "Enhorabuena, has adivinado la palabra secreta. FIN DE A PARTIDA.\n",
      "None\n"
     ]
    }
   ],
   "source": [
    "inicio_juego = jugar_ahorcado(\"ala\", 10)\n",
    "print(inicio_juego)"
   ]
  }
 ],
 "metadata": {
  "kernelspec": {
   "display_name": "Python 3",
   "language": "python",
   "name": "python3"
  },
  "language_info": {
   "codemirror_mode": {
    "name": "ipython",
    "version": 3
   },
   "file_extension": ".py",
   "mimetype": "text/x-python",
   "name": "python",
   "nbconvert_exporter": "python",
   "pygments_lexer": "ipython3",
   "version": "3.13.7"
  },
  "orig_nbformat": 4
 },
 "nbformat": 4,
 "nbformat_minor": 2
}
